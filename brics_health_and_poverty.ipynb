{
 "cells": [
  {
   "cell_type": "code",
   "execution_count": 2,
   "source": [
    "import pandas as pd\n",
    "import numpy as np\n",
    "import matplotlib.pyplot as plt"
   ],
   "outputs": [],
   "metadata": {}
  },
  {
   "cell_type": "code",
   "execution_count": 8,
   "source": [
    "path_data = 'data/Economy_Data.csv'\n",
    "path_target = 'data/HealthAndPoverty_Data.csv'\n",
    "\n",
    "X = pd.read_csv(path_data, sep=';')\n",
    "y = pd.read_csv(path_target, sep=';')"
   ],
   "outputs": [],
   "metadata": {}
  },
  {
   "cell_type": "markdown",
   "source": [
    "# Limpando dados"
   ],
   "metadata": {}
  },
  {
   "cell_type": "code",
   "execution_count": 27,
   "source": [
    "X = X[~X['Value'].isna()] # dropping all rows with NaN values\n",
    "y = y[~y['Value'].isna()] # dropping all rows with NaN values"
   ],
   "outputs": [],
   "metadata": {}
  },
  {
   "cell_type": "code",
   "execution_count": 44,
   "source": [
    "X_by_year = X[X['CountryName'] == 'Brazil'].groupby(['Year'])['Value'].mean().reset_index()\n",
    "y_by_year = y[y['CountryName']=='Brazil'].groupby(['Year'])['Value'].mean().reset_index()"
   ],
   "outputs": [],
   "metadata": {}
  },
  {
   "cell_type": "markdown",
   "source": [
    "## Primeira ideia:\n",
    "* Feature selection (ver a coluna Series Name - pra depois agrupamento por ano)\n"
   ],
   "metadata": {}
  },
  {
   "cell_type": "markdown",
   "source": [],
   "metadata": {}
  }
 ],
 "metadata": {
  "orig_nbformat": 4,
  "language_info": {
   "name": "python",
   "version": "3.7.6",
   "mimetype": "text/x-python",
   "codemirror_mode": {
    "name": "ipython",
    "version": 3
   },
   "pygments_lexer": "ipython3",
   "nbconvert_exporter": "python",
   "file_extension": ".py"
  },
  "kernelspec": {
   "name": "python3",
   "display_name": "Python 3.7.6 64-bit ('base': conda)"
  },
  "interpreter": {
   "hash": "eec8eac285937831eaf55a324af314c8014d3f32e7d5b9fc0a7fa4a8002b4eb4"
  }
 },
 "nbformat": 4,
 "nbformat_minor": 2
}