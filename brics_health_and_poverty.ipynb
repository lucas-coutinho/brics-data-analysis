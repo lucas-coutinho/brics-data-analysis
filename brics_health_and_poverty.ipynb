{
 "cells": [
  {
   "cell_type": "code",
   "execution_count": 1,
   "source": [
    "import pandas as pd\n",
    "import numpy as np\n",
    "import matplotlib.pyplot as plt\n",
    "import plotly.express as px\n",
    "import plotly.graph_objects as go\n",
    "from sklearn import preprocessing\n",
    "import seaborn as sns\n",
    "import statsmodels.api as sm\n",
    "from scipy import stats"
   ],
   "outputs": [],
   "metadata": {}
  },
  {
   "cell_type": "code",
   "execution_count": 2,
   "source": [
    "path_data = 'data/Economy_Data.csv'\n",
    "path_target = 'data/HealthAndPoverty_Data.csv'\n",
    "\n",
    "X = pd.read_csv(path_data, sep=';')\n",
    "y = pd.read_csv(path_target, sep=';')"
   ],
   "outputs": [],
   "metadata": {}
  },
  {
   "cell_type": "markdown",
   "source": [
    "# Limpando dados"
   ],
   "metadata": {}
  },
  {
   "cell_type": "code",
   "execution_count": 3,
   "source": [
    "X = X[~X['Value'].isna()] # dropping all rows with NaN values\n",
    "y = y[~y['Value'].isna()] # dropping all rows with NaN values"
   ],
   "outputs": [],
   "metadata": {}
  },
  {
   "cell_type": "code",
   "execution_count": 4,
   "source": [
    "X['SeriesName']"
   ],
   "outputs": [
    {
     "output_type": "execute_result",
     "data": {
      "text/plain": [
       "5        Adjusted net national income (constant 2010 US$)\n",
       "7        Adjusted net national income (constant 2010 US$)\n",
       "10             Adjusted net national income (current US$)\n",
       "11             Adjusted net national income (current US$)\n",
       "12             Adjusted net national income (current US$)\n",
       "                               ...                       \n",
       "86490                Use of IMF credit (DOD, current US$)\n",
       "86491                Use of IMF credit (DOD, current US$)\n",
       "86492                Use of IMF credit (DOD, current US$)\n",
       "86493                Use of IMF credit (DOD, current US$)\n",
       "86494                Use of IMF credit (DOD, current US$)\n",
       "Name: SeriesName, Length: 60348, dtype: object"
      ]
     },
     "metadata": {},
     "execution_count": 4
    }
   ],
   "metadata": {}
  },
  {
   "cell_type": "markdown",
   "source": [
    "## Primeira ideia:\n",
    "* Feature selection (ver a coluna Series Name - pra depois agrupamento por ano)\n",
    "\n",
    "## Nova ideia:\n",
    "* Utilizar os dados em X pra prever cada `SeriesName` de forma separada.\n",
    "* Aparentemente ha poucos em Y\n"
   ],
   "metadata": {}
  },
  {
   "cell_type": "markdown",
   "source": [
    "## ATENCAO \n",
    "Adicionei abaixo  uma transformacao das features em onehot, mas ainda nao sei como combinar todas no agg (talvez eu mantenha em sum)"
   ],
   "metadata": {}
  },
  {
   "cell_type": "code",
   "execution_count": 5,
   "source": [
    "X.head()"
   ],
   "outputs": [
    {
     "output_type": "execute_result",
     "data": {
      "text/plain": [
       "                                          SeriesName      SeriesCode  \\\n",
       "5   Adjusted net national income (constant 2010 US$)  NY.ADJ.NNTY.KD   \n",
       "7   Adjusted net national income (constant 2010 US$)  NY.ADJ.NNTY.KD   \n",
       "10        Adjusted net national income (current US$)  NY.ADJ.NNTY.CD   \n",
       "11        Adjusted net national income (current US$)  NY.ADJ.NNTY.CD   \n",
       "12        Adjusted net national income (current US$)  NY.ADJ.NNTY.CD   \n",
       "\n",
       "   CountryName CountryCode    Year         Value  \n",
       "5       Brazil         BRA  1970.0  3.918974e+11  \n",
       "7        India         IND  1970.0  1.915335e+11  \n",
       "10      Brazil         BRA  1970.0  3.786021e+10  \n",
       "11       China         CHN  1970.0  8.525561e+10  \n",
       "12       India         IND  1970.0  5.776720e+10  "
      ],
      "text/html": [
       "<div>\n",
       "<style scoped>\n",
       "    .dataframe tbody tr th:only-of-type {\n",
       "        vertical-align: middle;\n",
       "    }\n",
       "\n",
       "    .dataframe tbody tr th {\n",
       "        vertical-align: top;\n",
       "    }\n",
       "\n",
       "    .dataframe thead th {\n",
       "        text-align: right;\n",
       "    }\n",
       "</style>\n",
       "<table border=\"1\" class=\"dataframe\">\n",
       "  <thead>\n",
       "    <tr style=\"text-align: right;\">\n",
       "      <th></th>\n",
       "      <th>SeriesName</th>\n",
       "      <th>SeriesCode</th>\n",
       "      <th>CountryName</th>\n",
       "      <th>CountryCode</th>\n",
       "      <th>Year</th>\n",
       "      <th>Value</th>\n",
       "    </tr>\n",
       "  </thead>\n",
       "  <tbody>\n",
       "    <tr>\n",
       "      <th>5</th>\n",
       "      <td>Adjusted net national income (constant 2010 US$)</td>\n",
       "      <td>NY.ADJ.NNTY.KD</td>\n",
       "      <td>Brazil</td>\n",
       "      <td>BRA</td>\n",
       "      <td>1970.0</td>\n",
       "      <td>3.918974e+11</td>\n",
       "    </tr>\n",
       "    <tr>\n",
       "      <th>7</th>\n",
       "      <td>Adjusted net national income (constant 2010 US$)</td>\n",
       "      <td>NY.ADJ.NNTY.KD</td>\n",
       "      <td>India</td>\n",
       "      <td>IND</td>\n",
       "      <td>1970.0</td>\n",
       "      <td>1.915335e+11</td>\n",
       "    </tr>\n",
       "    <tr>\n",
       "      <th>10</th>\n",
       "      <td>Adjusted net national income (current US$)</td>\n",
       "      <td>NY.ADJ.NNTY.CD</td>\n",
       "      <td>Brazil</td>\n",
       "      <td>BRA</td>\n",
       "      <td>1970.0</td>\n",
       "      <td>3.786021e+10</td>\n",
       "    </tr>\n",
       "    <tr>\n",
       "      <th>11</th>\n",
       "      <td>Adjusted net national income (current US$)</td>\n",
       "      <td>NY.ADJ.NNTY.CD</td>\n",
       "      <td>China</td>\n",
       "      <td>CHN</td>\n",
       "      <td>1970.0</td>\n",
       "      <td>8.525561e+10</td>\n",
       "    </tr>\n",
       "    <tr>\n",
       "      <th>12</th>\n",
       "      <td>Adjusted net national income (current US$)</td>\n",
       "      <td>NY.ADJ.NNTY.CD</td>\n",
       "      <td>India</td>\n",
       "      <td>IND</td>\n",
       "      <td>1970.0</td>\n",
       "      <td>5.776720e+10</td>\n",
       "    </tr>\n",
       "  </tbody>\n",
       "</table>\n",
       "</div>"
      ]
     },
     "metadata": {},
     "execution_count": 5
    }
   ],
   "metadata": {}
  },
  {
   "cell_type": "markdown",
   "source": [
    ">- Como ideia aqui sugiro contar o número de análises que foram aplicadas aos países. Contar a incidência de dummies para cada ano, e a partir daí ver a evolução das análises empregadas ao longo do tempo.\n",
    ">- Outra ideia seria montar um dataframe único onde são agregados os dados de `X` e `y`, cruzando indices históricos de cada nação afim de definir possíveis relações entre as variáveis."
   ],
   "metadata": {}
  },
  {
   "cell_type": "markdown",
   "source": [
    "## Resultados\n",
    "* Ficou horrivel o regressor dessa forma (talvez tenhamos que fazer de maneiras mais simples), e.g.:\n",
    "    - selecionar um `SeriesName` de X e um de y e criar uma hipotese em cima"
   ],
   "metadata": {}
  },
  {
   "cell_type": "markdown",
   "source": [],
   "metadata": {}
  },
  {
   "cell_type": "markdown",
   "source": [
    "## África do Sul\n",
    "---"
   ],
   "metadata": {}
  },
  {
   "cell_type": "code",
   "execution_count": 6,
   "source": [
    "X_zaf = X[X['CountryCode'] == 'ZAF'].copy()"
   ],
   "outputs": [],
   "metadata": {}
  },
  {
   "cell_type": "code",
   "execution_count": 7,
   "source": [
    "y_zaf = y[y['CountryCode'] == 'ZAF'].copy()"
   ],
   "outputs": [],
   "metadata": {}
  },
  {
   "cell_type": "code",
   "execution_count": 8,
   "source": [
    "infant_deaths = y_zaf[y_zaf['SeriesName'] == 'Number of infant deaths'].copy()\n",
    "gva = X_zaf[X_zaf['SeriesName'] ==  'Gross value added at basic prices (GVA) (current US$)']"
   ],
   "outputs": [],
   "metadata": {}
  },
  {
   "cell_type": "code",
   "execution_count": 9,
   "source": [
    "norm = preprocessing.MinMaxScaler()\n",
    "infant_deaths_norm = infant_deaths['Value'].values\n",
    "infant_deaths_norm = norm.fit_transform(infant_deaths_norm.reshape(-1,1))\n",
    "\n",
    "gva_norm  = gva['Value'].values\n",
    "gva_norm = norm.fit_transform(gva_norm.reshape(-1,1))\n",
    "\n",
    "infant_deaths['norm'] = infant_deaths_norm\n",
    "gva['norm'] = gva_norm"
   ],
   "outputs": [
    {
     "output_type": "stream",
     "name": "stderr",
     "text": [
      "/home/coutinho/anaconda3/lib/python3.7/site-packages/ipykernel_launcher.py:9: SettingWithCopyWarning: \n",
      "A value is trying to be set on a copy of a slice from a DataFrame.\n",
      "Try using .loc[row_indexer,col_indexer] = value instead\n",
      "\n",
      "See the caveats in the documentation: https://pandas.pydata.org/pandas-docs/stable/user_guide/indexing.html#returning-a-view-versus-a-copy\n",
      "  if __name__ == '__main__':\n"
     ]
    }
   ],
   "metadata": {}
  },
  {
   "cell_type": "code",
   "execution_count": 10,
   "source": [
    "fig = go.Figure()\n",
    "fig.add_trace(go.Bar(x = infant_deaths['Year'], y = infant_deaths['norm'], name= 'infant_deaths', hovertemplate=\"Deaths: %{y}<extra></extra>\"))\n",
    "fig.add_trace(go.Bar(x = gva['Year'], y = gva['norm'], name= 'GVA'))"
   ],
   "outputs": [
    {
     "output_type": "display_data",
     "data": {
      "application/vnd.plotly.v1+json": {
       "config": {
        "plotlyServerURL": "https://plot.ly"
       },
       "data": [
        {
         "hovertemplate": "Deaths: %{y}<extra></extra>",
         "name": "infant_deaths",
         "type": "bar",
         "x": [
          1975,
          1976,
          1977,
          1978,
          1979,
          1980,
          1981,
          1982,
          1983,
          1984,
          1985,
          1986,
          1987,
          1988,
          1989,
          1990,
          1991,
          1992,
          1993,
          1994,
          1995,
          1996,
          1997,
          1998,
          1999,
          2000,
          2001,
          2002,
          2003,
          2004,
          2005,
          2006,
          2007,
          2008,
          2009,
          2010,
          2011,
          2012,
          2013,
          2014,
          2015,
          2016,
          2017,
          2018,
          2019
         ],
         "y": [
          1,
          0.9449848158091634,
          0.8948769860481494,
          0.8512169358743014,
          0.8125082522776286,
          0.779257074952687,
          0.7470401830905331,
          0.7160556313542539,
          0.6844108974076846,
          0.6493332159676071,
          0.6107125566656397,
          0.5686369437964878,
          0.5218740372342767,
          0.4728004929360503,
          0.42456317943752486,
          0.3800889045376523,
          0.3422824699617095,
          0.3145548171295278,
          0.2983143347563928,
          0.291492451916729,
          0.2926807798952511,
          0.2966198670833151,
          0.29897451696668287,
          0.30412393820694517,
          0.3172175520443643,
          0.32399542273667525,
          0.336670921174244,
          0.3508868447691562,
          0.37846045508560366,
          0.42330883323797375,
          0.44342238457814354,
          0.4476695567976763,
          0.40957704326394095,
          0.334096210554113,
          0.2271907046344791,
          0.13595352317239562,
          0.09031292636767752,
          0.07376435896307387,
          0.060670745125654735,
          0.05349676510716961,
          0.03936886580696275,
          0.029752211610404533,
          0.02506491791734522,
          0.011905285858897052,
          0
         ]
        },
        {
         "name": "GVA",
         "type": "bar",
         "x": [
          1970,
          1971,
          1972,
          1973,
          1974,
          1975,
          1976,
          1977,
          1978,
          1979,
          1980,
          1981,
          1982,
          1983,
          1984,
          1985,
          1986,
          1987,
          1988,
          1989,
          1990,
          1991,
          1992,
          1993,
          1994,
          1995,
          1996,
          1997,
          1998,
          1999,
          2000,
          2001,
          2002,
          2003,
          2004,
          2005,
          2006,
          2007,
          2008,
          2009,
          2010,
          2011,
          2012,
          2013,
          2014,
          2015,
          2016,
          2017,
          2018,
          2019
         ],
         "y": [
          0,
          0.004992577844199417,
          0.007841055696275315,
          0.029050189797870225,
          0.049380955305899456,
          0.05270722156759244,
          0.048477542030071104,
          0.05845865638737315,
          0.07391556561423171,
          0.10226017906344528,
          0.16994168785808575,
          0.17564621032329428,
          0.15453600749793725,
          0.17878084656214718,
          0.15146122845732649,
          0.1037882121721565,
          0.12539132631657512,
          0.17984684529318307,
          0.19452687567145455,
          0.20256568782411474,
          0.24564324244663674,
          0.2689727430827353,
          0.2994213444934515,
          0.2966732998990598,
          0.309034237114597,
          0.3491760814076308,
          0.32989979836407074,
          0.3424169696310063,
          0.3023948238733749,
          0.29913005289809247,
          0.2987944929967693,
          0.2613090425585345,
          0.24630761040650698,
          0.3979149988883094,
          0.5277251008355124,
          0.5971479413369237,
          0.629231696273071,
          0.6990668355377548,
          0.674451420670217,
          0.7024755786664111,
          0.9037829565358204,
          1,
          0.9497914727575065,
          0.8734076383953259,
          0.8314981875815906,
          0.7459552423080054,
          0.6908579232443843,
          0.8275196224930517,
          0.8682144095849602,
          0.8264163537489102
         ]
        }
       ],
       "layout": {
        "template": {
         "data": {
          "bar": [
           {
            "error_x": {
             "color": "#2a3f5f"
            },
            "error_y": {
             "color": "#2a3f5f"
            },
            "marker": {
             "line": {
              "color": "#E5ECF6",
              "width": 0.5
             }
            },
            "type": "bar"
           }
          ],
          "barpolar": [
           {
            "marker": {
             "line": {
              "color": "#E5ECF6",
              "width": 0.5
             }
            },
            "type": "barpolar"
           }
          ],
          "carpet": [
           {
            "aaxis": {
             "endlinecolor": "#2a3f5f",
             "gridcolor": "white",
             "linecolor": "white",
             "minorgridcolor": "white",
             "startlinecolor": "#2a3f5f"
            },
            "baxis": {
             "endlinecolor": "#2a3f5f",
             "gridcolor": "white",
             "linecolor": "white",
             "minorgridcolor": "white",
             "startlinecolor": "#2a3f5f"
            },
            "type": "carpet"
           }
          ],
          "choropleth": [
           {
            "colorbar": {
             "outlinewidth": 0,
             "ticks": ""
            },
            "type": "choropleth"
           }
          ],
          "contour": [
           {
            "colorbar": {
             "outlinewidth": 0,
             "ticks": ""
            },
            "colorscale": [
             [
              0,
              "#0d0887"
             ],
             [
              0.1111111111111111,
              "#46039f"
             ],
             [
              0.2222222222222222,
              "#7201a8"
             ],
             [
              0.3333333333333333,
              "#9c179e"
             ],
             [
              0.4444444444444444,
              "#bd3786"
             ],
             [
              0.5555555555555556,
              "#d8576b"
             ],
             [
              0.6666666666666666,
              "#ed7953"
             ],
             [
              0.7777777777777778,
              "#fb9f3a"
             ],
             [
              0.8888888888888888,
              "#fdca26"
             ],
             [
              1,
              "#f0f921"
             ]
            ],
            "type": "contour"
           }
          ],
          "contourcarpet": [
           {
            "colorbar": {
             "outlinewidth": 0,
             "ticks": ""
            },
            "type": "contourcarpet"
           }
          ],
          "heatmap": [
           {
            "colorbar": {
             "outlinewidth": 0,
             "ticks": ""
            },
            "colorscale": [
             [
              0,
              "#0d0887"
             ],
             [
              0.1111111111111111,
              "#46039f"
             ],
             [
              0.2222222222222222,
              "#7201a8"
             ],
             [
              0.3333333333333333,
              "#9c179e"
             ],
             [
              0.4444444444444444,
              "#bd3786"
             ],
             [
              0.5555555555555556,
              "#d8576b"
             ],
             [
              0.6666666666666666,
              "#ed7953"
             ],
             [
              0.7777777777777778,
              "#fb9f3a"
             ],
             [
              0.8888888888888888,
              "#fdca26"
             ],
             [
              1,
              "#f0f921"
             ]
            ],
            "type": "heatmap"
           }
          ],
          "heatmapgl": [
           {
            "colorbar": {
             "outlinewidth": 0,
             "ticks": ""
            },
            "colorscale": [
             [
              0,
              "#0d0887"
             ],
             [
              0.1111111111111111,
              "#46039f"
             ],
             [
              0.2222222222222222,
              "#7201a8"
             ],
             [
              0.3333333333333333,
              "#9c179e"
             ],
             [
              0.4444444444444444,
              "#bd3786"
             ],
             [
              0.5555555555555556,
              "#d8576b"
             ],
             [
              0.6666666666666666,
              "#ed7953"
             ],
             [
              0.7777777777777778,
              "#fb9f3a"
             ],
             [
              0.8888888888888888,
              "#fdca26"
             ],
             [
              1,
              "#f0f921"
             ]
            ],
            "type": "heatmapgl"
           }
          ],
          "histogram": [
           {
            "marker": {
             "colorbar": {
              "outlinewidth": 0,
              "ticks": ""
             }
            },
            "type": "histogram"
           }
          ],
          "histogram2d": [
           {
            "colorbar": {
             "outlinewidth": 0,
             "ticks": ""
            },
            "colorscale": [
             [
              0,
              "#0d0887"
             ],
             [
              0.1111111111111111,
              "#46039f"
             ],
             [
              0.2222222222222222,
              "#7201a8"
             ],
             [
              0.3333333333333333,
              "#9c179e"
             ],
             [
              0.4444444444444444,
              "#bd3786"
             ],
             [
              0.5555555555555556,
              "#d8576b"
             ],
             [
              0.6666666666666666,
              "#ed7953"
             ],
             [
              0.7777777777777778,
              "#fb9f3a"
             ],
             [
              0.8888888888888888,
              "#fdca26"
             ],
             [
              1,
              "#f0f921"
             ]
            ],
            "type": "histogram2d"
           }
          ],
          "histogram2dcontour": [
           {
            "colorbar": {
             "outlinewidth": 0,
             "ticks": ""
            },
            "colorscale": [
             [
              0,
              "#0d0887"
             ],
             [
              0.1111111111111111,
              "#46039f"
             ],
             [
              0.2222222222222222,
              "#7201a8"
             ],
             [
              0.3333333333333333,
              "#9c179e"
             ],
             [
              0.4444444444444444,
              "#bd3786"
             ],
             [
              0.5555555555555556,
              "#d8576b"
             ],
             [
              0.6666666666666666,
              "#ed7953"
             ],
             [
              0.7777777777777778,
              "#fb9f3a"
             ],
             [
              0.8888888888888888,
              "#fdca26"
             ],
             [
              1,
              "#f0f921"
             ]
            ],
            "type": "histogram2dcontour"
           }
          ],
          "mesh3d": [
           {
            "colorbar": {
             "outlinewidth": 0,
             "ticks": ""
            },
            "type": "mesh3d"
           }
          ],
          "parcoords": [
           {
            "line": {
             "colorbar": {
              "outlinewidth": 0,
              "ticks": ""
             }
            },
            "type": "parcoords"
           }
          ],
          "pie": [
           {
            "automargin": true,
            "type": "pie"
           }
          ],
          "scatter": [
           {
            "marker": {
             "colorbar": {
              "outlinewidth": 0,
              "ticks": ""
             }
            },
            "type": "scatter"
           }
          ],
          "scatter3d": [
           {
            "line": {
             "colorbar": {
              "outlinewidth": 0,
              "ticks": ""
             }
            },
            "marker": {
             "colorbar": {
              "outlinewidth": 0,
              "ticks": ""
             }
            },
            "type": "scatter3d"
           }
          ],
          "scattercarpet": [
           {
            "marker": {
             "colorbar": {
              "outlinewidth": 0,
              "ticks": ""
             }
            },
            "type": "scattercarpet"
           }
          ],
          "scattergeo": [
           {
            "marker": {
             "colorbar": {
              "outlinewidth": 0,
              "ticks": ""
             }
            },
            "type": "scattergeo"
           }
          ],
          "scattergl": [
           {
            "marker": {
             "colorbar": {
              "outlinewidth": 0,
              "ticks": ""
             }
            },
            "type": "scattergl"
           }
          ],
          "scattermapbox": [
           {
            "marker": {
             "colorbar": {
              "outlinewidth": 0,
              "ticks": ""
             }
            },
            "type": "scattermapbox"
           }
          ],
          "scatterpolar": [
           {
            "marker": {
             "colorbar": {
              "outlinewidth": 0,
              "ticks": ""
             }
            },
            "type": "scatterpolar"
           }
          ],
          "scatterpolargl": [
           {
            "marker": {
             "colorbar": {
              "outlinewidth": 0,
              "ticks": ""
             }
            },
            "type": "scatterpolargl"
           }
          ],
          "scatterternary": [
           {
            "marker": {
             "colorbar": {
              "outlinewidth": 0,
              "ticks": ""
             }
            },
            "type": "scatterternary"
           }
          ],
          "surface": [
           {
            "colorbar": {
             "outlinewidth": 0,
             "ticks": ""
            },
            "colorscale": [
             [
              0,
              "#0d0887"
             ],
             [
              0.1111111111111111,
              "#46039f"
             ],
             [
              0.2222222222222222,
              "#7201a8"
             ],
             [
              0.3333333333333333,
              "#9c179e"
             ],
             [
              0.4444444444444444,
              "#bd3786"
             ],
             [
              0.5555555555555556,
              "#d8576b"
             ],
             [
              0.6666666666666666,
              "#ed7953"
             ],
             [
              0.7777777777777778,
              "#fb9f3a"
             ],
             [
              0.8888888888888888,
              "#fdca26"
             ],
             [
              1,
              "#f0f921"
             ]
            ],
            "type": "surface"
           }
          ],
          "table": [
           {
            "cells": {
             "fill": {
              "color": "#EBF0F8"
             },
             "line": {
              "color": "white"
             }
            },
            "header": {
             "fill": {
              "color": "#C8D4E3"
             },
             "line": {
              "color": "white"
             }
            },
            "type": "table"
           }
          ]
         },
         "layout": {
          "annotationdefaults": {
           "arrowcolor": "#2a3f5f",
           "arrowhead": 0,
           "arrowwidth": 1
          },
          "autotypenumbers": "strict",
          "coloraxis": {
           "colorbar": {
            "outlinewidth": 0,
            "ticks": ""
           }
          },
          "colorscale": {
           "diverging": [
            [
             0,
             "#8e0152"
            ],
            [
             0.1,
             "#c51b7d"
            ],
            [
             0.2,
             "#de77ae"
            ],
            [
             0.3,
             "#f1b6da"
            ],
            [
             0.4,
             "#fde0ef"
            ],
            [
             0.5,
             "#f7f7f7"
            ],
            [
             0.6,
             "#e6f5d0"
            ],
            [
             0.7,
             "#b8e186"
            ],
            [
             0.8,
             "#7fbc41"
            ],
            [
             0.9,
             "#4d9221"
            ],
            [
             1,
             "#276419"
            ]
           ],
           "sequential": [
            [
             0,
             "#0d0887"
            ],
            [
             0.1111111111111111,
             "#46039f"
            ],
            [
             0.2222222222222222,
             "#7201a8"
            ],
            [
             0.3333333333333333,
             "#9c179e"
            ],
            [
             0.4444444444444444,
             "#bd3786"
            ],
            [
             0.5555555555555556,
             "#d8576b"
            ],
            [
             0.6666666666666666,
             "#ed7953"
            ],
            [
             0.7777777777777778,
             "#fb9f3a"
            ],
            [
             0.8888888888888888,
             "#fdca26"
            ],
            [
             1,
             "#f0f921"
            ]
           ],
           "sequentialminus": [
            [
             0,
             "#0d0887"
            ],
            [
             0.1111111111111111,
             "#46039f"
            ],
            [
             0.2222222222222222,
             "#7201a8"
            ],
            [
             0.3333333333333333,
             "#9c179e"
            ],
            [
             0.4444444444444444,
             "#bd3786"
            ],
            [
             0.5555555555555556,
             "#d8576b"
            ],
            [
             0.6666666666666666,
             "#ed7953"
            ],
            [
             0.7777777777777778,
             "#fb9f3a"
            ],
            [
             0.8888888888888888,
             "#fdca26"
            ],
            [
             1,
             "#f0f921"
            ]
           ]
          },
          "colorway": [
           "#636efa",
           "#EF553B",
           "#00cc96",
           "#ab63fa",
           "#FFA15A",
           "#19d3f3",
           "#FF6692",
           "#B6E880",
           "#FF97FF",
           "#FECB52"
          ],
          "font": {
           "color": "#2a3f5f"
          },
          "geo": {
           "bgcolor": "white",
           "lakecolor": "white",
           "landcolor": "#E5ECF6",
           "showlakes": true,
           "showland": true,
           "subunitcolor": "white"
          },
          "hoverlabel": {
           "align": "left"
          },
          "hovermode": "closest",
          "mapbox": {
           "style": "light"
          },
          "paper_bgcolor": "white",
          "plot_bgcolor": "#E5ECF6",
          "polar": {
           "angularaxis": {
            "gridcolor": "white",
            "linecolor": "white",
            "ticks": ""
           },
           "bgcolor": "#E5ECF6",
           "radialaxis": {
            "gridcolor": "white",
            "linecolor": "white",
            "ticks": ""
           }
          },
          "scene": {
           "xaxis": {
            "backgroundcolor": "#E5ECF6",
            "gridcolor": "white",
            "gridwidth": 2,
            "linecolor": "white",
            "showbackground": true,
            "ticks": "",
            "zerolinecolor": "white"
           },
           "yaxis": {
            "backgroundcolor": "#E5ECF6",
            "gridcolor": "white",
            "gridwidth": 2,
            "linecolor": "white",
            "showbackground": true,
            "ticks": "",
            "zerolinecolor": "white"
           },
           "zaxis": {
            "backgroundcolor": "#E5ECF6",
            "gridcolor": "white",
            "gridwidth": 2,
            "linecolor": "white",
            "showbackground": true,
            "ticks": "",
            "zerolinecolor": "white"
           }
          },
          "shapedefaults": {
           "line": {
            "color": "#2a3f5f"
           }
          },
          "ternary": {
           "aaxis": {
            "gridcolor": "white",
            "linecolor": "white",
            "ticks": ""
           },
           "baxis": {
            "gridcolor": "white",
            "linecolor": "white",
            "ticks": ""
           },
           "bgcolor": "#E5ECF6",
           "caxis": {
            "gridcolor": "white",
            "linecolor": "white",
            "ticks": ""
           }
          },
          "title": {
           "x": 0.05
          },
          "xaxis": {
           "automargin": true,
           "gridcolor": "white",
           "linecolor": "white",
           "ticks": "",
           "title": {
            "standoff": 15
           },
           "zerolinecolor": "white",
           "zerolinewidth": 2
          },
          "yaxis": {
           "automargin": true,
           "gridcolor": "white",
           "linecolor": "white",
           "ticks": "",
           "title": {
            "standoff": 15
           },
           "zerolinecolor": "white",
           "zerolinewidth": 2
          }
         }
        }
       }
      }
     },
     "metadata": {}
    }
   ],
   "metadata": {}
  },
  {
   "cell_type": "code",
   "execution_count": 11,
   "source": [
    "gva = gva.merge(infant_deaths, on = 'Year', how = 'right')\n",
    "\n",
    "hipot_X = gva['Value_y'].iloc[:]\n",
    "hipot_y = gva['Value_x'].iloc[:]\n",
    "\n",
    "hipot_X = hipot_X.reset_index(drop=True)\n",
    "hipot_y = hipot_y.reset_index(drop=True)\n",
    "\n",
    "est = sm.OLS(hipot_y, hipot_X)\n",
    "est2 = est.fit()\n",
    "print(est2.summary())"
   ],
   "outputs": [
    {
     "output_type": "stream",
     "name": "stdout",
     "text": [
      "                                 OLS Regression Results                                \n",
      "=======================================================================================\n",
      "Dep. Variable:                Value_x   R-squared (uncentered):                   0.521\n",
      "Model:                            OLS   Adj. R-squared (uncentered):              0.510\n",
      "Method:                 Least Squares   F-statistic:                              47.87\n",
      "Date:                Thu, 29 Jul 2021   Prob (F-statistic):                    1.50e-08\n",
      "Time:                        22:17:59   Log-Likelihood:                         -1217.0\n",
      "No. Observations:                  45   AIC:                                      2436.\n",
      "Df Residuals:                      44   BIC:                                      2438.\n",
      "Df Model:                           1                                                  \n",
      "Covariance Type:            nonrobust                                                  \n",
      "==============================================================================\n",
      "                 coef    std err          t      P>|t|      [0.025      0.975]\n",
      "------------------------------------------------------------------------------\n",
      "Value_y     2.703e+06   3.91e+05      6.919      0.000    1.92e+06    3.49e+06\n",
      "==============================================================================\n",
      "Omnibus:                        6.623   Durbin-Watson:                   0.030\n",
      "Prob(Omnibus):                  0.036   Jarque-Bera (JB):                3.130\n",
      "Skew:                           0.386   Prob(JB):                        0.209\n",
      "Kurtosis:                       1.963   Cond. No.                         1.00\n",
      "==============================================================================\n",
      "\n",
      "Notes:\n",
      "[1] R² is computed without centering (uncentered) since the model does not contain a constant.\n",
      "[2] Standard Errors assume that the covariance matrix of the errors is correctly specified.\n"
     ]
    }
   ],
   "metadata": {}
  },
  {
   "cell_type": "code",
   "execution_count": 12,
   "source": [
    "working_age = y_zaf[y_zaf['SeriesName'] == 'Age dependency ratio, young (% of working-age population)'].copy()\n",
    "gni_pcapita_growth = X_zaf[X_zaf['SeriesName'] == 'GNI per capita growth (annual %)']"
   ],
   "outputs": [],
   "metadata": {}
  },
  {
   "cell_type": "code",
   "execution_count": 13,
   "source": [
    "working_age = working_age.merge(gni_pcapita_growth, on = 'Year', how = 'right')\n",
    "working_age.head()"
   ],
   "outputs": [
    {
     "output_type": "execute_result",
     "data": {
      "text/plain": [
       "                                        SeriesName_x    SeriesCode_x  \\\n",
       "0  Age dependency ratio, young (% of working-age ...  SP.POP.DPND.YG   \n",
       "1  Age dependency ratio, young (% of working-age ...  SP.POP.DPND.YG   \n",
       "2  Age dependency ratio, young (% of working-age ...  SP.POP.DPND.YG   \n",
       "3  Age dependency ratio, young (% of working-age ...  SP.POP.DPND.YG   \n",
       "4  Age dependency ratio, young (% of working-age ...  SP.POP.DPND.YG   \n",
       "\n",
       "  CountryName_x CountryCode_x    Year    Value_x  \\\n",
       "0  South Africa           ZAF  1970.0  75.990436   \n",
       "1  South Africa           ZAF  1971.0  75.886248   \n",
       "2  South Africa           ZAF  1972.0  75.756590   \n",
       "3  South Africa           ZAF  1973.0  75.584615   \n",
       "4  South Africa           ZAF  1974.0  75.301842   \n",
       "\n",
       "                       SeriesName_y       SeriesCode_y CountryName_y  \\\n",
       "0  GNI per capita growth (annual %)  NY.GNP.PCAP.KD.ZG  South Africa   \n",
       "1  GNI per capita growth (annual %)  NY.GNP.PCAP.KD.ZG  South Africa   \n",
       "2  GNI per capita growth (annual %)  NY.GNP.PCAP.KD.ZG  South Africa   \n",
       "3  GNI per capita growth (annual %)  NY.GNP.PCAP.KD.ZG  South Africa   \n",
       "4  GNI per capita growth (annual %)  NY.GNP.PCAP.KD.ZG  South Africa   \n",
       "\n",
       "  CountryCode_y   Value_y  \n",
       "0           ZAF  2.504601  \n",
       "1           ZAF  1.896106  \n",
       "2           ZAF -1.174019  \n",
       "3           ZAF  1.703489  \n",
       "4           ZAF  3.106308  "
      ],
      "text/html": [
       "<div>\n",
       "<style scoped>\n",
       "    .dataframe tbody tr th:only-of-type {\n",
       "        vertical-align: middle;\n",
       "    }\n",
       "\n",
       "    .dataframe tbody tr th {\n",
       "        vertical-align: top;\n",
       "    }\n",
       "\n",
       "    .dataframe thead th {\n",
       "        text-align: right;\n",
       "    }\n",
       "</style>\n",
       "<table border=\"1\" class=\"dataframe\">\n",
       "  <thead>\n",
       "    <tr style=\"text-align: right;\">\n",
       "      <th></th>\n",
       "      <th>SeriesName_x</th>\n",
       "      <th>SeriesCode_x</th>\n",
       "      <th>CountryName_x</th>\n",
       "      <th>CountryCode_x</th>\n",
       "      <th>Year</th>\n",
       "      <th>Value_x</th>\n",
       "      <th>SeriesName_y</th>\n",
       "      <th>SeriesCode_y</th>\n",
       "      <th>CountryName_y</th>\n",
       "      <th>CountryCode_y</th>\n",
       "      <th>Value_y</th>\n",
       "    </tr>\n",
       "  </thead>\n",
       "  <tbody>\n",
       "    <tr>\n",
       "      <th>0</th>\n",
       "      <td>Age dependency ratio, young (% of working-age ...</td>\n",
       "      <td>SP.POP.DPND.YG</td>\n",
       "      <td>South Africa</td>\n",
       "      <td>ZAF</td>\n",
       "      <td>1970.0</td>\n",
       "      <td>75.990436</td>\n",
       "      <td>GNI per capita growth (annual %)</td>\n",
       "      <td>NY.GNP.PCAP.KD.ZG</td>\n",
       "      <td>South Africa</td>\n",
       "      <td>ZAF</td>\n",
       "      <td>2.504601</td>\n",
       "    </tr>\n",
       "    <tr>\n",
       "      <th>1</th>\n",
       "      <td>Age dependency ratio, young (% of working-age ...</td>\n",
       "      <td>SP.POP.DPND.YG</td>\n",
       "      <td>South Africa</td>\n",
       "      <td>ZAF</td>\n",
       "      <td>1971.0</td>\n",
       "      <td>75.886248</td>\n",
       "      <td>GNI per capita growth (annual %)</td>\n",
       "      <td>NY.GNP.PCAP.KD.ZG</td>\n",
       "      <td>South Africa</td>\n",
       "      <td>ZAF</td>\n",
       "      <td>1.896106</td>\n",
       "    </tr>\n",
       "    <tr>\n",
       "      <th>2</th>\n",
       "      <td>Age dependency ratio, young (% of working-age ...</td>\n",
       "      <td>SP.POP.DPND.YG</td>\n",
       "      <td>South Africa</td>\n",
       "      <td>ZAF</td>\n",
       "      <td>1972.0</td>\n",
       "      <td>75.756590</td>\n",
       "      <td>GNI per capita growth (annual %)</td>\n",
       "      <td>NY.GNP.PCAP.KD.ZG</td>\n",
       "      <td>South Africa</td>\n",
       "      <td>ZAF</td>\n",
       "      <td>-1.174019</td>\n",
       "    </tr>\n",
       "    <tr>\n",
       "      <th>3</th>\n",
       "      <td>Age dependency ratio, young (% of working-age ...</td>\n",
       "      <td>SP.POP.DPND.YG</td>\n",
       "      <td>South Africa</td>\n",
       "      <td>ZAF</td>\n",
       "      <td>1973.0</td>\n",
       "      <td>75.584615</td>\n",
       "      <td>GNI per capita growth (annual %)</td>\n",
       "      <td>NY.GNP.PCAP.KD.ZG</td>\n",
       "      <td>South Africa</td>\n",
       "      <td>ZAF</td>\n",
       "      <td>1.703489</td>\n",
       "    </tr>\n",
       "    <tr>\n",
       "      <th>4</th>\n",
       "      <td>Age dependency ratio, young (% of working-age ...</td>\n",
       "      <td>SP.POP.DPND.YG</td>\n",
       "      <td>South Africa</td>\n",
       "      <td>ZAF</td>\n",
       "      <td>1974.0</td>\n",
       "      <td>75.301842</td>\n",
       "      <td>GNI per capita growth (annual %)</td>\n",
       "      <td>NY.GNP.PCAP.KD.ZG</td>\n",
       "      <td>South Africa</td>\n",
       "      <td>ZAF</td>\n",
       "      <td>3.106308</td>\n",
       "    </tr>\n",
       "  </tbody>\n",
       "</table>\n",
       "</div>"
      ]
     },
     "metadata": {},
     "execution_count": 13
    }
   ],
   "metadata": {
    "scrolled": true
   }
  },
  {
   "cell_type": "code",
   "execution_count": 14,
   "source": [
    "hipot_X = working_age['Value_x'].iloc[:]\n",
    "hipot_y = working_age['Value_y'].iloc[:]\n",
    "\n",
    "hipot_X = hipot_X.reset_index(drop=True)\n",
    "hipot_y = hipot_y.reset_index(drop=True)\n",
    "\n",
    "est = sm.OLS(hipot_y, hipot_X)\n",
    "est2 = est.fit()\n",
    "print(est2.summary())"
   ],
   "outputs": [
    {
     "output_type": "stream",
     "name": "stdout",
     "text": [
      "                                 OLS Regression Results                                \n",
      "=======================================================================================\n",
      "Dep. Variable:                Value_y   R-squared (uncentered):                   0.016\n",
      "Model:                            OLS   Adj. R-squared (uncentered):             -0.004\n",
      "Method:                 Least Squares   F-statistic:                             0.8072\n",
      "Date:                Thu, 29 Jul 2021   Prob (F-statistic):                       0.373\n",
      "Time:                        22:18:00   Log-Likelihood:                         -110.99\n",
      "No. Observations:                  50   AIC:                                      224.0\n",
      "Df Residuals:                      49   BIC:                                      225.9\n",
      "Df Model:                           1                                                  \n",
      "Covariance Type:            nonrobust                                                  \n",
      "==============================================================================\n",
      "                 coef    std err          t      P>|t|      [0.025      0.975]\n",
      "------------------------------------------------------------------------------\n",
      "Value_x        0.0046      0.005      0.898      0.373      -0.006       0.015\n",
      "==============================================================================\n",
      "Omnibus:                        1.900   Durbin-Watson:                   1.221\n",
      "Prob(Omnibus):                  0.387   Jarque-Bera (JB):                1.826\n",
      "Skew:                          -0.394   Prob(JB):                        0.401\n",
      "Kurtosis:                       2.495   Cond. No.                         1.00\n",
      "==============================================================================\n",
      "\n",
      "Notes:\n",
      "[1] R² is computed without centering (uncentered) since the model does not contain a constant.\n",
      "[2] Standard Errors assume that the covariance matrix of the errors is correctly specified.\n"
     ]
    }
   ],
   "metadata": {}
  },
  {
   "cell_type": "markdown",
   "source": [
    "## Rússia\n",
    "---"
   ],
   "metadata": {}
  },
  {
   "cell_type": "code",
   "execution_count": 15,
   "source": [
    "\n",
    "X_rus = X[X['CountryCode'] == 'RUS'].copy()\n",
    "\n",
    "y_rus = y[y['CountryCode'] == 'RUS'].copy()\n",
    "\n",
    "infant_deaths = y_rus[y_rus['SeriesName'] == 'Number of infant deaths'].copy()\n",
    "gva = X_rus[X_rus['SeriesName'] ==  'Gross value added at basic prices (GVA) (current US$)']\n",
    "\n",
    "norm = preprocessing.MinMaxScaler()\n",
    "infant_deaths_norm = infant_deaths['Value'].values\n",
    "infant_deaths_norm = norm.fit_transform(infant_deaths_norm.reshape(-1,1))\n",
    "\n",
    "gva_norm  = gva['Value'].values\n",
    "gva_norm = norm.fit_transform(gva_norm.reshape(-1,1))\n",
    "\n",
    "infant_deaths['norm'] = infant_deaths_norm\n",
    "gva['norm'] = gva_norm\n",
    "\n",
    "fig = go.Figure()\n",
    "fig.add_trace(go.Bar(x = infant_deaths['Year'], y = infant_deaths['norm'], name= 'infant_deaths', hovertemplate=\"Deaths: %{y}<extra></extra>\"))\n",
    "fig.add_trace(go.Bar(x = gva['Year'], y = gva['norm'], name= 'GVA'))\n"
   ],
   "outputs": [
    {
     "output_type": "stream",
     "name": "stderr",
     "text": [
      "/home/coutinho/anaconda3/lib/python3.7/site-packages/ipykernel_launcher.py:16: SettingWithCopyWarning:\n",
      "\n",
      "\n",
      "A value is trying to be set on a copy of a slice from a DataFrame.\n",
      "Try using .loc[row_indexer,col_indexer] = value instead\n",
      "\n",
      "See the caveats in the documentation: https://pandas.pydata.org/pandas-docs/stable/user_guide/indexing.html#returning-a-view-versus-a-copy\n",
      "\n"
     ]
    },
    {
     "output_type": "display_data",
     "data": {
      "application/vnd.plotly.v1+json": {
       "config": {
        "plotlyServerURL": "https://plot.ly"
       },
       "data": [
        {
         "hovertemplate": "Deaths: %{y}<extra></extra>",
         "name": "infant_deaths",
         "type": "bar",
         "x": [
          1971,
          1972,
          1973,
          1974,
          1975,
          1976,
          1977,
          1978,
          1979,
          1980,
          1981,
          1982,
          1983,
          1984,
          1985,
          1986,
          1987,
          1988,
          1989,
          1990,
          1991,
          1992,
          1993,
          1994,
          1995,
          1996,
          1997,
          1998,
          1999,
          2000,
          2001,
          2002,
          2003,
          2004,
          2005,
          2006,
          2007,
          2008,
          2009,
          2010,
          2011,
          2012,
          2013,
          2014,
          2015,
          2016,
          2017,
          2018,
          2019
         ],
         "y": [
          1,
          0.9723343058745628,
          0.9476276201709191,
          0.9267904070188508,
          0.9096571274856706,
          0.8961657044716205,
          0.8867713700415916,
          0.8822811264924368,
          0.8813706623626545,
          0.8824673577917106,
          0.8848055952159248,
          0.8868541395079355,
          0.8871231402735531,
          0.8818052020609597,
          0.8654375400914602,
          0.8325780619529455,
          0.7843855401742297,
          0.7255364496037412,
          0.6615763444865189,
          0.5987750118981108,
          0.5421813892854925,
          0.49138162931694496,
          0.4442651106006994,
          0.4011008339023734,
          0.36364765038177416,
          0.333519564632607,
          0.3102406522233948,
          0.29186583069505656,
          0.27686386492023096,
          0.2631448258737352,
          0.24872224636331655,
          0.2331615866906698,
          0.2161731537235914,
          0.19866741159186377,
          0.181265131293066,
          0.16500093115649636,
          0.15142673867610237,
          0.1419082500465578,
          0.13694208206592587,
          0.13545223167173628,
          0.13574192480393985,
          0.13431415150950812,
          0.12672005297245845,
          0.11122147039956962,
          0.09032218014774349,
          0.06675357460632772,
          0.04281250646636456,
          0.02027851925424709,
          0
         ]
        },
        {
         "name": "GVA",
         "type": "bar",
         "x": [
          1989,
          1990,
          1991,
          1992,
          1993,
          1994,
          1995,
          1996,
          1997,
          1998,
          1999,
          2000,
          2001,
          2002,
          2003,
          2004,
          2005,
          2006,
          2007,
          2008,
          2009,
          2010,
          2011,
          2012,
          2013,
          2014,
          2015,
          2016,
          2017,
          2018,
          2019
         ],
         "y": [
          0.16093464063750204,
          0.16698337984564884,
          0.17684705539332476,
          0.15117868856507383,
          0.12018611611432042,
          0.1029144310047822,
          0.10596979784169852,
          0.09940883670207526,
          0.1056628849285706,
          0.03833637152183067,
          0,
          0.03062617039527446,
          0.05323926046057431,
          0.0708801625144691,
          0.11085806606863385,
          0.18600388558740652,
          0.26212868537474243,
          0.3664113406909839,
          0.513502577809294,
          0.6790314427118103,
          0.4874050006833438,
          0.6258120363435008,
          0.8714801829269461,
          0.950443986879868,
          1,
          0.8847201502586044,
          0.574332193035441,
          0.5331911813950512,
          0.6818968729845613,
          0.7242390877633764,
          0.7382836287042038
         ]
        }
       ],
       "layout": {
        "template": {
         "data": {
          "bar": [
           {
            "error_x": {
             "color": "#2a3f5f"
            },
            "error_y": {
             "color": "#2a3f5f"
            },
            "marker": {
             "line": {
              "color": "#E5ECF6",
              "width": 0.5
             }
            },
            "type": "bar"
           }
          ],
          "barpolar": [
           {
            "marker": {
             "line": {
              "color": "#E5ECF6",
              "width": 0.5
             }
            },
            "type": "barpolar"
           }
          ],
          "carpet": [
           {
            "aaxis": {
             "endlinecolor": "#2a3f5f",
             "gridcolor": "white",
             "linecolor": "white",
             "minorgridcolor": "white",
             "startlinecolor": "#2a3f5f"
            },
            "baxis": {
             "endlinecolor": "#2a3f5f",
             "gridcolor": "white",
             "linecolor": "white",
             "minorgridcolor": "white",
             "startlinecolor": "#2a3f5f"
            },
            "type": "carpet"
           }
          ],
          "choropleth": [
           {
            "colorbar": {
             "outlinewidth": 0,
             "ticks": ""
            },
            "type": "choropleth"
           }
          ],
          "contour": [
           {
            "colorbar": {
             "outlinewidth": 0,
             "ticks": ""
            },
            "colorscale": [
             [
              0,
              "#0d0887"
             ],
             [
              0.1111111111111111,
              "#46039f"
             ],
             [
              0.2222222222222222,
              "#7201a8"
             ],
             [
              0.3333333333333333,
              "#9c179e"
             ],
             [
              0.4444444444444444,
              "#bd3786"
             ],
             [
              0.5555555555555556,
              "#d8576b"
             ],
             [
              0.6666666666666666,
              "#ed7953"
             ],
             [
              0.7777777777777778,
              "#fb9f3a"
             ],
             [
              0.8888888888888888,
              "#fdca26"
             ],
             [
              1,
              "#f0f921"
             ]
            ],
            "type": "contour"
           }
          ],
          "contourcarpet": [
           {
            "colorbar": {
             "outlinewidth": 0,
             "ticks": ""
            },
            "type": "contourcarpet"
           }
          ],
          "heatmap": [
           {
            "colorbar": {
             "outlinewidth": 0,
             "ticks": ""
            },
            "colorscale": [
             [
              0,
              "#0d0887"
             ],
             [
              0.1111111111111111,
              "#46039f"
             ],
             [
              0.2222222222222222,
              "#7201a8"
             ],
             [
              0.3333333333333333,
              "#9c179e"
             ],
             [
              0.4444444444444444,
              "#bd3786"
             ],
             [
              0.5555555555555556,
              "#d8576b"
             ],
             [
              0.6666666666666666,
              "#ed7953"
             ],
             [
              0.7777777777777778,
              "#fb9f3a"
             ],
             [
              0.8888888888888888,
              "#fdca26"
             ],
             [
              1,
              "#f0f921"
             ]
            ],
            "type": "heatmap"
           }
          ],
          "heatmapgl": [
           {
            "colorbar": {
             "outlinewidth": 0,
             "ticks": ""
            },
            "colorscale": [
             [
              0,
              "#0d0887"
             ],
             [
              0.1111111111111111,
              "#46039f"
             ],
             [
              0.2222222222222222,
              "#7201a8"
             ],
             [
              0.3333333333333333,
              "#9c179e"
             ],
             [
              0.4444444444444444,
              "#bd3786"
             ],
             [
              0.5555555555555556,
              "#d8576b"
             ],
             [
              0.6666666666666666,
              "#ed7953"
             ],
             [
              0.7777777777777778,
              "#fb9f3a"
             ],
             [
              0.8888888888888888,
              "#fdca26"
             ],
             [
              1,
              "#f0f921"
             ]
            ],
            "type": "heatmapgl"
           }
          ],
          "histogram": [
           {
            "marker": {
             "colorbar": {
              "outlinewidth": 0,
              "ticks": ""
             }
            },
            "type": "histogram"
           }
          ],
          "histogram2d": [
           {
            "colorbar": {
             "outlinewidth": 0,
             "ticks": ""
            },
            "colorscale": [
             [
              0,
              "#0d0887"
             ],
             [
              0.1111111111111111,
              "#46039f"
             ],
             [
              0.2222222222222222,
              "#7201a8"
             ],
             [
              0.3333333333333333,
              "#9c179e"
             ],
             [
              0.4444444444444444,
              "#bd3786"
             ],
             [
              0.5555555555555556,
              "#d8576b"
             ],
             [
              0.6666666666666666,
              "#ed7953"
             ],
             [
              0.7777777777777778,
              "#fb9f3a"
             ],
             [
              0.8888888888888888,
              "#fdca26"
             ],
             [
              1,
              "#f0f921"
             ]
            ],
            "type": "histogram2d"
           }
          ],
          "histogram2dcontour": [
           {
            "colorbar": {
             "outlinewidth": 0,
             "ticks": ""
            },
            "colorscale": [
             [
              0,
              "#0d0887"
             ],
             [
              0.1111111111111111,
              "#46039f"
             ],
             [
              0.2222222222222222,
              "#7201a8"
             ],
             [
              0.3333333333333333,
              "#9c179e"
             ],
             [
              0.4444444444444444,
              "#bd3786"
             ],
             [
              0.5555555555555556,
              "#d8576b"
             ],
             [
              0.6666666666666666,
              "#ed7953"
             ],
             [
              0.7777777777777778,
              "#fb9f3a"
             ],
             [
              0.8888888888888888,
              "#fdca26"
             ],
             [
              1,
              "#f0f921"
             ]
            ],
            "type": "histogram2dcontour"
           }
          ],
          "mesh3d": [
           {
            "colorbar": {
             "outlinewidth": 0,
             "ticks": ""
            },
            "type": "mesh3d"
           }
          ],
          "parcoords": [
           {
            "line": {
             "colorbar": {
              "outlinewidth": 0,
              "ticks": ""
             }
            },
            "type": "parcoords"
           }
          ],
          "pie": [
           {
            "automargin": true,
            "type": "pie"
           }
          ],
          "scatter": [
           {
            "marker": {
             "colorbar": {
              "outlinewidth": 0,
              "ticks": ""
             }
            },
            "type": "scatter"
           }
          ],
          "scatter3d": [
           {
            "line": {
             "colorbar": {
              "outlinewidth": 0,
              "ticks": ""
             }
            },
            "marker": {
             "colorbar": {
              "outlinewidth": 0,
              "ticks": ""
             }
            },
            "type": "scatter3d"
           }
          ],
          "scattercarpet": [
           {
            "marker": {
             "colorbar": {
              "outlinewidth": 0,
              "ticks": ""
             }
            },
            "type": "scattercarpet"
           }
          ],
          "scattergeo": [
           {
            "marker": {
             "colorbar": {
              "outlinewidth": 0,
              "ticks": ""
             }
            },
            "type": "scattergeo"
           }
          ],
          "scattergl": [
           {
            "marker": {
             "colorbar": {
              "outlinewidth": 0,
              "ticks": ""
             }
            },
            "type": "scattergl"
           }
          ],
          "scattermapbox": [
           {
            "marker": {
             "colorbar": {
              "outlinewidth": 0,
              "ticks": ""
             }
            },
            "type": "scattermapbox"
           }
          ],
          "scatterpolar": [
           {
            "marker": {
             "colorbar": {
              "outlinewidth": 0,
              "ticks": ""
             }
            },
            "type": "scatterpolar"
           }
          ],
          "scatterpolargl": [
           {
            "marker": {
             "colorbar": {
              "outlinewidth": 0,
              "ticks": ""
             }
            },
            "type": "scatterpolargl"
           }
          ],
          "scatterternary": [
           {
            "marker": {
             "colorbar": {
              "outlinewidth": 0,
              "ticks": ""
             }
            },
            "type": "scatterternary"
           }
          ],
          "surface": [
           {
            "colorbar": {
             "outlinewidth": 0,
             "ticks": ""
            },
            "colorscale": [
             [
              0,
              "#0d0887"
             ],
             [
              0.1111111111111111,
              "#46039f"
             ],
             [
              0.2222222222222222,
              "#7201a8"
             ],
             [
              0.3333333333333333,
              "#9c179e"
             ],
             [
              0.4444444444444444,
              "#bd3786"
             ],
             [
              0.5555555555555556,
              "#d8576b"
             ],
             [
              0.6666666666666666,
              "#ed7953"
             ],
             [
              0.7777777777777778,
              "#fb9f3a"
             ],
             [
              0.8888888888888888,
              "#fdca26"
             ],
             [
              1,
              "#f0f921"
             ]
            ],
            "type": "surface"
           }
          ],
          "table": [
           {
            "cells": {
             "fill": {
              "color": "#EBF0F8"
             },
             "line": {
              "color": "white"
             }
            },
            "header": {
             "fill": {
              "color": "#C8D4E3"
             },
             "line": {
              "color": "white"
             }
            },
            "type": "table"
           }
          ]
         },
         "layout": {
          "annotationdefaults": {
           "arrowcolor": "#2a3f5f",
           "arrowhead": 0,
           "arrowwidth": 1
          },
          "autotypenumbers": "strict",
          "coloraxis": {
           "colorbar": {
            "outlinewidth": 0,
            "ticks": ""
           }
          },
          "colorscale": {
           "diverging": [
            [
             0,
             "#8e0152"
            ],
            [
             0.1,
             "#c51b7d"
            ],
            [
             0.2,
             "#de77ae"
            ],
            [
             0.3,
             "#f1b6da"
            ],
            [
             0.4,
             "#fde0ef"
            ],
            [
             0.5,
             "#f7f7f7"
            ],
            [
             0.6,
             "#e6f5d0"
            ],
            [
             0.7,
             "#b8e186"
            ],
            [
             0.8,
             "#7fbc41"
            ],
            [
             0.9,
             "#4d9221"
            ],
            [
             1,
             "#276419"
            ]
           ],
           "sequential": [
            [
             0,
             "#0d0887"
            ],
            [
             0.1111111111111111,
             "#46039f"
            ],
            [
             0.2222222222222222,
             "#7201a8"
            ],
            [
             0.3333333333333333,
             "#9c179e"
            ],
            [
             0.4444444444444444,
             "#bd3786"
            ],
            [
             0.5555555555555556,
             "#d8576b"
            ],
            [
             0.6666666666666666,
             "#ed7953"
            ],
            [
             0.7777777777777778,
             "#fb9f3a"
            ],
            [
             0.8888888888888888,
             "#fdca26"
            ],
            [
             1,
             "#f0f921"
            ]
           ],
           "sequentialminus": [
            [
             0,
             "#0d0887"
            ],
            [
             0.1111111111111111,
             "#46039f"
            ],
            [
             0.2222222222222222,
             "#7201a8"
            ],
            [
             0.3333333333333333,
             "#9c179e"
            ],
            [
             0.4444444444444444,
             "#bd3786"
            ],
            [
             0.5555555555555556,
             "#d8576b"
            ],
            [
             0.6666666666666666,
             "#ed7953"
            ],
            [
             0.7777777777777778,
             "#fb9f3a"
            ],
            [
             0.8888888888888888,
             "#fdca26"
            ],
            [
             1,
             "#f0f921"
            ]
           ]
          },
          "colorway": [
           "#636efa",
           "#EF553B",
           "#00cc96",
           "#ab63fa",
           "#FFA15A",
           "#19d3f3",
           "#FF6692",
           "#B6E880",
           "#FF97FF",
           "#FECB52"
          ],
          "font": {
           "color": "#2a3f5f"
          },
          "geo": {
           "bgcolor": "white",
           "lakecolor": "white",
           "landcolor": "#E5ECF6",
           "showlakes": true,
           "showland": true,
           "subunitcolor": "white"
          },
          "hoverlabel": {
           "align": "left"
          },
          "hovermode": "closest",
          "mapbox": {
           "style": "light"
          },
          "paper_bgcolor": "white",
          "plot_bgcolor": "#E5ECF6",
          "polar": {
           "angularaxis": {
            "gridcolor": "white",
            "linecolor": "white",
            "ticks": ""
           },
           "bgcolor": "#E5ECF6",
           "radialaxis": {
            "gridcolor": "white",
            "linecolor": "white",
            "ticks": ""
           }
          },
          "scene": {
           "xaxis": {
            "backgroundcolor": "#E5ECF6",
            "gridcolor": "white",
            "gridwidth": 2,
            "linecolor": "white",
            "showbackground": true,
            "ticks": "",
            "zerolinecolor": "white"
           },
           "yaxis": {
            "backgroundcolor": "#E5ECF6",
            "gridcolor": "white",
            "gridwidth": 2,
            "linecolor": "white",
            "showbackground": true,
            "ticks": "",
            "zerolinecolor": "white"
           },
           "zaxis": {
            "backgroundcolor": "#E5ECF6",
            "gridcolor": "white",
            "gridwidth": 2,
            "linecolor": "white",
            "showbackground": true,
            "ticks": "",
            "zerolinecolor": "white"
           }
          },
          "shapedefaults": {
           "line": {
            "color": "#2a3f5f"
           }
          },
          "ternary": {
           "aaxis": {
            "gridcolor": "white",
            "linecolor": "white",
            "ticks": ""
           },
           "baxis": {
            "gridcolor": "white",
            "linecolor": "white",
            "ticks": ""
           },
           "bgcolor": "#E5ECF6",
           "caxis": {
            "gridcolor": "white",
            "linecolor": "white",
            "ticks": ""
           }
          },
          "title": {
           "x": 0.05
          },
          "xaxis": {
           "automargin": true,
           "gridcolor": "white",
           "linecolor": "white",
           "ticks": "",
           "title": {
            "standoff": 15
           },
           "zerolinecolor": "white",
           "zerolinewidth": 2
          },
          "yaxis": {
           "automargin": true,
           "gridcolor": "white",
           "linecolor": "white",
           "ticks": "",
           "title": {
            "standoff": 15
           },
           "zerolinecolor": "white",
           "zerolinewidth": 2
          }
         }
        }
       }
      }
     },
     "metadata": {}
    }
   ],
   "metadata": {}
  },
  {
   "cell_type": "code",
   "execution_count": 16,
   "source": [
    "gva = gva.merge(infant_deaths, on = 'Year', how = 'left')\n",
    "\n",
    "hipot_X = gva['Value_x'].iloc[:]\n",
    "hipot_y = gva['Value_y'].iloc[:]\n",
    "\n",
    "hipot_X = hipot_X.reset_index(drop=True)\n",
    "hipot_y = hipot_y.reset_index(drop=True)\n",
    "\n",
    "est = sm.OLS(hipot_y, hipot_X)\n",
    "est2 = est.fit()\n",
    "print(est2.summary())"
   ],
   "outputs": [
    {
     "output_type": "stream",
     "name": "stdout",
     "text": [
      "                                 OLS Regression Results                                \n",
      "=======================================================================================\n",
      "Dep. Variable:                Value_y   R-squared (uncentered):                   0.410\n",
      "Model:                            OLS   Adj. R-squared (uncentered):              0.390\n",
      "Method:                 Least Squares   F-statistic:                              20.85\n",
      "Date:                Thu, 29 Jul 2021   Prob (F-statistic):                    7.91e-05\n",
      "Time:                        22:18:01   Log-Likelihood:                         -346.07\n",
      "No. Observations:                  31   AIC:                                      694.1\n",
      "Df Residuals:                      30   BIC:                                      695.6\n",
      "Df Model:                           1                                                  \n",
      "Covariance Type:            nonrobust                                                  \n",
      "==============================================================================\n",
      "                 coef    std err          t      P>|t|      [0.025      0.975]\n",
      "------------------------------------------------------------------------------\n",
      "Value_x     1.379e-08   3.02e-09      4.566      0.000    7.62e-09       2e-08\n",
      "==============================================================================\n",
      "Omnibus:                       11.278   Durbin-Watson:                   0.030\n",
      "Prob(Omnibus):                  0.004   Jarque-Bera (JB):                2.495\n",
      "Skew:                          -0.034   Prob(JB):                        0.287\n",
      "Kurtosis:                       1.612   Cond. No.                         1.00\n",
      "==============================================================================\n",
      "\n",
      "Notes:\n",
      "[1] R² is computed without centering (uncentered) since the model does not contain a constant.\n",
      "[2] Standard Errors assume that the covariance matrix of the errors is correctly specified.\n"
     ]
    }
   ],
   "metadata": {}
  },
  {
   "cell_type": "code",
   "execution_count": 17,
   "source": [
    "working_age = y_rus[y_rus['SeriesName'] == 'Age dependency ratio, young (% of working-age population)'].copy()\n",
    "gni_pcapita_growth = X_rus[X_rus['SeriesName'] == 'GNI per capita growth (annual %)']\n",
    "working_age = working_age.merge(gni_pcapita_growth, on = 'Year', how = 'right')\n",
    "working_age.head()"
   ],
   "outputs": [
    {
     "output_type": "execute_result",
     "data": {
      "text/plain": [
       "                                        SeriesName_x    SeriesCode_x  \\\n",
       "0  Age dependency ratio, young (% of working-age ...  SP.POP.DPND.YG   \n",
       "1  Age dependency ratio, young (% of working-age ...  SP.POP.DPND.YG   \n",
       "2  Age dependency ratio, young (% of working-age ...  SP.POP.DPND.YG   \n",
       "3  Age dependency ratio, young (% of working-age ...  SP.POP.DPND.YG   \n",
       "4  Age dependency ratio, young (% of working-age ...  SP.POP.DPND.YG   \n",
       "\n",
       "        CountryName_x CountryCode_x    Year    Value_x  \\\n",
       "0  Russian Federation           RUS  1991.0  34.326630   \n",
       "1  Russian Federation           RUS  1992.0  34.054629   \n",
       "2  Russian Federation           RUS  1993.0  33.538935   \n",
       "3  Russian Federation           RUS  1994.0  32.890149   \n",
       "4  Russian Federation           RUS  1995.0  32.158723   \n",
       "\n",
       "                       SeriesName_y       SeriesCode_y       CountryName_y  \\\n",
       "0  GNI per capita growth (annual %)  NY.GNP.PCAP.KD.ZG  Russian Federation   \n",
       "1  GNI per capita growth (annual %)  NY.GNP.PCAP.KD.ZG  Russian Federation   \n",
       "2  GNI per capita growth (annual %)  NY.GNP.PCAP.KD.ZG  Russian Federation   \n",
       "3  GNI per capita growth (annual %)  NY.GNP.PCAP.KD.ZG  Russian Federation   \n",
       "4  GNI per capita growth (annual %)  NY.GNP.PCAP.KD.ZG  Russian Federation   \n",
       "\n",
       "  CountryCode_y    Value_y  \n",
       "0           RUS  -5.401840  \n",
       "1           RUS -15.338124  \n",
       "2           RUS  -8.522069  \n",
       "3           RUS -12.016198  \n",
       "4           RUS  -4.475053  "
      ],
      "text/html": [
       "<div>\n",
       "<style scoped>\n",
       "    .dataframe tbody tr th:only-of-type {\n",
       "        vertical-align: middle;\n",
       "    }\n",
       "\n",
       "    .dataframe tbody tr th {\n",
       "        vertical-align: top;\n",
       "    }\n",
       "\n",
       "    .dataframe thead th {\n",
       "        text-align: right;\n",
       "    }\n",
       "</style>\n",
       "<table border=\"1\" class=\"dataframe\">\n",
       "  <thead>\n",
       "    <tr style=\"text-align: right;\">\n",
       "      <th></th>\n",
       "      <th>SeriesName_x</th>\n",
       "      <th>SeriesCode_x</th>\n",
       "      <th>CountryName_x</th>\n",
       "      <th>CountryCode_x</th>\n",
       "      <th>Year</th>\n",
       "      <th>Value_x</th>\n",
       "      <th>SeriesName_y</th>\n",
       "      <th>SeriesCode_y</th>\n",
       "      <th>CountryName_y</th>\n",
       "      <th>CountryCode_y</th>\n",
       "      <th>Value_y</th>\n",
       "    </tr>\n",
       "  </thead>\n",
       "  <tbody>\n",
       "    <tr>\n",
       "      <th>0</th>\n",
       "      <td>Age dependency ratio, young (% of working-age ...</td>\n",
       "      <td>SP.POP.DPND.YG</td>\n",
       "      <td>Russian Federation</td>\n",
       "      <td>RUS</td>\n",
       "      <td>1991.0</td>\n",
       "      <td>34.326630</td>\n",
       "      <td>GNI per capita growth (annual %)</td>\n",
       "      <td>NY.GNP.PCAP.KD.ZG</td>\n",
       "      <td>Russian Federation</td>\n",
       "      <td>RUS</td>\n",
       "      <td>-5.401840</td>\n",
       "    </tr>\n",
       "    <tr>\n",
       "      <th>1</th>\n",
       "      <td>Age dependency ratio, young (% of working-age ...</td>\n",
       "      <td>SP.POP.DPND.YG</td>\n",
       "      <td>Russian Federation</td>\n",
       "      <td>RUS</td>\n",
       "      <td>1992.0</td>\n",
       "      <td>34.054629</td>\n",
       "      <td>GNI per capita growth (annual %)</td>\n",
       "      <td>NY.GNP.PCAP.KD.ZG</td>\n",
       "      <td>Russian Federation</td>\n",
       "      <td>RUS</td>\n",
       "      <td>-15.338124</td>\n",
       "    </tr>\n",
       "    <tr>\n",
       "      <th>2</th>\n",
       "      <td>Age dependency ratio, young (% of working-age ...</td>\n",
       "      <td>SP.POP.DPND.YG</td>\n",
       "      <td>Russian Federation</td>\n",
       "      <td>RUS</td>\n",
       "      <td>1993.0</td>\n",
       "      <td>33.538935</td>\n",
       "      <td>GNI per capita growth (annual %)</td>\n",
       "      <td>NY.GNP.PCAP.KD.ZG</td>\n",
       "      <td>Russian Federation</td>\n",
       "      <td>RUS</td>\n",
       "      <td>-8.522069</td>\n",
       "    </tr>\n",
       "    <tr>\n",
       "      <th>3</th>\n",
       "      <td>Age dependency ratio, young (% of working-age ...</td>\n",
       "      <td>SP.POP.DPND.YG</td>\n",
       "      <td>Russian Federation</td>\n",
       "      <td>RUS</td>\n",
       "      <td>1994.0</td>\n",
       "      <td>32.890149</td>\n",
       "      <td>GNI per capita growth (annual %)</td>\n",
       "      <td>NY.GNP.PCAP.KD.ZG</td>\n",
       "      <td>Russian Federation</td>\n",
       "      <td>RUS</td>\n",
       "      <td>-12.016198</td>\n",
       "    </tr>\n",
       "    <tr>\n",
       "      <th>4</th>\n",
       "      <td>Age dependency ratio, young (% of working-age ...</td>\n",
       "      <td>SP.POP.DPND.YG</td>\n",
       "      <td>Russian Federation</td>\n",
       "      <td>RUS</td>\n",
       "      <td>1995.0</td>\n",
       "      <td>32.158723</td>\n",
       "      <td>GNI per capita growth (annual %)</td>\n",
       "      <td>NY.GNP.PCAP.KD.ZG</td>\n",
       "      <td>Russian Federation</td>\n",
       "      <td>RUS</td>\n",
       "      <td>-4.475053</td>\n",
       "    </tr>\n",
       "  </tbody>\n",
       "</table>\n",
       "</div>"
      ]
     },
     "metadata": {},
     "execution_count": 17
    }
   ],
   "metadata": {}
  },
  {
   "cell_type": "code",
   "execution_count": 18,
   "source": [
    "hipot_X = working_age['Value_x'].iloc[:]\n",
    "hipot_y = working_age['Value_y'].iloc[:]\n",
    "\n",
    "hipot_X = hipot_X.reset_index(drop=True)\n",
    "hipot_y = hipot_y.reset_index(drop=True)\n",
    "\n",
    "est = sm.OLS(hipot_y, hipot_X)\n",
    "est2 = est.fit()\n",
    "print(est2.summary())"
   ],
   "outputs": [
    {
     "output_type": "stream",
     "name": "stdout",
     "text": [
      "                                 OLS Regression Results                                \n",
      "=======================================================================================\n",
      "Dep. Variable:                Value_y   R-squared (uncentered):                   0.000\n",
      "Model:                            OLS   Adj. R-squared (uncentered):             -0.035\n",
      "Method:                 Least Squares   F-statistic:                           0.008909\n",
      "Date:                Thu, 29 Jul 2021   Prob (F-statistic):                       0.925\n",
      "Time:                        22:18:01   Log-Likelihood:                         -96.090\n",
      "No. Observations:                  29   AIC:                                      194.2\n",
      "Df Residuals:                      28   BIC:                                      195.5\n",
      "Df Model:                           1                                                  \n",
      "Covariance Type:            nonrobust                                                  \n",
      "==============================================================================\n",
      "                 coef    std err          t      P>|t|      [0.025      0.975]\n",
      "------------------------------------------------------------------------------\n",
      "Value_x        0.0045      0.048      0.094      0.925      -0.094       0.103\n",
      "==============================================================================\n",
      "Omnibus:                        2.543   Durbin-Watson:                   0.718\n",
      "Prob(Omnibus):                  0.280   Jarque-Bera (JB):                2.123\n",
      "Skew:                          -0.647   Prob(JB):                        0.346\n",
      "Kurtosis:                       2.712   Cond. No.                         1.00\n",
      "==============================================================================\n",
      "\n",
      "Notes:\n",
      "[1] R² is computed without centering (uncentered) since the model does not contain a constant.\n",
      "[2] Standard Errors assume that the covariance matrix of the errors is correctly specified.\n"
     ]
    }
   ],
   "metadata": {}
  },
  {
   "cell_type": "markdown",
   "source": [
    "## India\n",
    "---"
   ],
   "metadata": {}
  },
  {
   "cell_type": "code",
   "execution_count": 19,
   "source": [
    "X_ind = X[X['CountryCode'] == 'IND'].copy()"
   ],
   "outputs": [],
   "metadata": {}
  },
  {
   "cell_type": "code",
   "execution_count": 20,
   "source": [
    "y_ind = y[y['CountryCode'] == 'IND'].copy()"
   ],
   "outputs": [],
   "metadata": {}
  },
  {
   "cell_type": "code",
   "execution_count": 21,
   "source": [
    "infant_deaths = y_ind[y_ind['SeriesName'] == 'Number of infant deaths'].copy()\n",
    "gva = X_ind[X_ind['SeriesName'] ==  'Gross value added at basic prices (GVA) (current US$)']"
   ],
   "outputs": [],
   "metadata": {}
  },
  {
   "cell_type": "code",
   "execution_count": 22,
   "source": [
    "norm = preprocessing.MinMaxScaler()\n",
    "infant_deaths_norm = infant_deaths['Value'].values\n",
    "infant_deaths_norm = norm.fit_transform(infant_deaths_norm.reshape(-1,1))\n",
    "\n",
    "gva_norm  = gva['Value'].values\n",
    "gva_norm = norm.fit_transform(gva_norm.reshape(-1,1))\n",
    "\n",
    "infant_deaths['norm'] = infant_deaths_norm\n",
    "gva['norm'] = gva_norm"
   ],
   "outputs": [
    {
     "output_type": "stream",
     "name": "stderr",
     "text": [
      "/home/coutinho/anaconda3/lib/python3.7/site-packages/ipykernel_launcher.py:9: SettingWithCopyWarning:\n",
      "\n",
      "\n",
      "A value is trying to be set on a copy of a slice from a DataFrame.\n",
      "Try using .loc[row_indexer,col_indexer] = value instead\n",
      "\n",
      "See the caveats in the documentation: https://pandas.pydata.org/pandas-docs/stable/user_guide/indexing.html#returning-a-view-versus-a-copy\n",
      "\n"
     ]
    }
   ],
   "metadata": {}
  },
  {
   "cell_type": "code",
   "execution_count": 23,
   "source": [
    "fig = go.Figure()\n",
    "fig.add_trace(go.Bar(x = infant_deaths['Year'], y = infant_deaths['norm'], name= 'infant_deaths', hovertemplate=\"Deaths: %{y}<extra></extra>\"))\n",
    "fig.add_trace(go.Bar(x = gva['Year'], y = gva['norm'], name= 'GVA'))"
   ],
   "outputs": [
    {
     "output_type": "display_data",
     "data": {
      "application/vnd.plotly.v1+json": {
       "config": {
        "plotlyServerURL": "https://plot.ly"
       },
       "data": [
        {
         "hovertemplate": "Deaths: %{y}<extra></extra>",
         "name": "infant_deaths",
         "type": "bar",
         "x": [
          1970,
          1971,
          1972,
          1973,
          1974,
          1975,
          1976,
          1977,
          1978,
          1979,
          1980,
          1981,
          1982,
          1983,
          1984,
          1985,
          1986,
          1987,
          1988,
          1989,
          1990,
          1991,
          1992,
          1993,
          1994,
          1995,
          1996,
          1997,
          1998,
          1999,
          2000,
          2001,
          2002,
          2003,
          2004,
          2005,
          2006,
          2007,
          2008,
          2009,
          2010,
          2011,
          2012,
          2013,
          2014,
          2015,
          2016,
          2017,
          2018,
          2019
         ],
         "y": [
          0.997536284683054,
          0.9995025478369606,
          1,
          0.9976223327766607,
          0.9925827399511025,
          0.984145745777971,
          0.9727514370245682,
          0.9594101296158273,
          0.9447006147087442,
          0.9311568160150485,
          0.9178176491061487,
          0.9051484586474694,
          0.8923863704956927,
          0.879789528931638,
          0.8656810663798968,
          0.8498520700559911,
          0.8313363183317115,
          0.8097159856381022,
          0.786075449194594,
          0.7614361555252935,
          0.7371140839324235,
          0.7133451174984577,
          0.6903638550059656,
          0.6681364765574598,
          0.6457665408195461,
          0.6228486371223463,
          0.5993061355715541,
          0.5749917697781115,
          0.5496914897579224,
          0.5238929013747575,
          0.49757888062988914,
          0.4707121828260848,
          0.44386218092103996,
          0.417339247391694,
          0.3909015057560182,
          0.3642253124380593,
          0.3365417998949443,
          0.3073017158674825,
          0.2765538637520479,
          0.24472377491702352,
          0.21239709011889624,
          0.18085511256246517,
          0.15072329630125908,
          0.12271614018219079,
          0.09700359989263252,
          0.07374963772040194,
          0.05259208109240837,
          0.03331388332477847,
          0.01575536312937653,
          0
         ]
        },
        {
         "name": "GVA",
         "type": "bar",
         "x": [
          1970,
          1971,
          1972,
          1973,
          1974,
          1975,
          1976,
          1977,
          1978,
          1979,
          1980,
          1981,
          1982,
          1983,
          1984,
          1985,
          1986,
          1987,
          1988,
          1989,
          1990,
          1991,
          1992,
          1993,
          1994,
          1995,
          1996,
          1997,
          1998,
          1999,
          2000,
          2001,
          2002,
          2003,
          2004,
          2005,
          2006,
          2007,
          2008,
          2009,
          2010,
          2011,
          2012,
          2013,
          2014,
          2015,
          2016,
          2017,
          2018,
          2019
         ],
         "y": [
          0,
          0.0016398913830834687,
          0.003071696380930685,
          0.008347322151342228,
          0.013325243780602049,
          0.01256534886135744,
          0.013998507481426226,
          0.021017992603771463,
          0.026322859436814186,
          0.0316509924063115,
          0.04376004044718627,
          0.04607915527022687,
          0.04855923341804034,
          0.055121914076146576,
          0.053118951376687866,
          0.059591444506369655,
          0.06511150009629693,
          0.07544600454076517,
          0.08222469366411564,
          0.08231960770046037,
          0.09086715144579677,
          0.0732127895734459,
          0.07942771947422295,
          0.07726101526253928,
          0.09392725870327948,
          0.10542275392414144,
          0.11784209605532178,
          0.12661265944049654,
          0.12935308263750367,
          0.14164498788604396,
          0.145143794754892,
          0.15209987591227841,
          0.1628747385863152,
          0.1962947984892615,
          0.2307479372552015,
          0.2719404514384201,
          0.3156660389692032,
          0.4145880084694263,
          0.4182767109222193,
          0.47108083420551866,
          0.5868810477736438,
          0.640589939182784,
          0.6404622234042464,
          0.6488821068488588,
          0.7150059618425016,
          0.7303657267097038,
          0.7936557425379874,
          0.9209590866399211,
          0.9383856077359252,
          1.0000000000000002
         ]
        }
       ],
       "layout": {
        "template": {
         "data": {
          "bar": [
           {
            "error_x": {
             "color": "#2a3f5f"
            },
            "error_y": {
             "color": "#2a3f5f"
            },
            "marker": {
             "line": {
              "color": "#E5ECF6",
              "width": 0.5
             }
            },
            "type": "bar"
           }
          ],
          "barpolar": [
           {
            "marker": {
             "line": {
              "color": "#E5ECF6",
              "width": 0.5
             }
            },
            "type": "barpolar"
           }
          ],
          "carpet": [
           {
            "aaxis": {
             "endlinecolor": "#2a3f5f",
             "gridcolor": "white",
             "linecolor": "white",
             "minorgridcolor": "white",
             "startlinecolor": "#2a3f5f"
            },
            "baxis": {
             "endlinecolor": "#2a3f5f",
             "gridcolor": "white",
             "linecolor": "white",
             "minorgridcolor": "white",
             "startlinecolor": "#2a3f5f"
            },
            "type": "carpet"
           }
          ],
          "choropleth": [
           {
            "colorbar": {
             "outlinewidth": 0,
             "ticks": ""
            },
            "type": "choropleth"
           }
          ],
          "contour": [
           {
            "colorbar": {
             "outlinewidth": 0,
             "ticks": ""
            },
            "colorscale": [
             [
              0,
              "#0d0887"
             ],
             [
              0.1111111111111111,
              "#46039f"
             ],
             [
              0.2222222222222222,
              "#7201a8"
             ],
             [
              0.3333333333333333,
              "#9c179e"
             ],
             [
              0.4444444444444444,
              "#bd3786"
             ],
             [
              0.5555555555555556,
              "#d8576b"
             ],
             [
              0.6666666666666666,
              "#ed7953"
             ],
             [
              0.7777777777777778,
              "#fb9f3a"
             ],
             [
              0.8888888888888888,
              "#fdca26"
             ],
             [
              1,
              "#f0f921"
             ]
            ],
            "type": "contour"
           }
          ],
          "contourcarpet": [
           {
            "colorbar": {
             "outlinewidth": 0,
             "ticks": ""
            },
            "type": "contourcarpet"
           }
          ],
          "heatmap": [
           {
            "colorbar": {
             "outlinewidth": 0,
             "ticks": ""
            },
            "colorscale": [
             [
              0,
              "#0d0887"
             ],
             [
              0.1111111111111111,
              "#46039f"
             ],
             [
              0.2222222222222222,
              "#7201a8"
             ],
             [
              0.3333333333333333,
              "#9c179e"
             ],
             [
              0.4444444444444444,
              "#bd3786"
             ],
             [
              0.5555555555555556,
              "#d8576b"
             ],
             [
              0.6666666666666666,
              "#ed7953"
             ],
             [
              0.7777777777777778,
              "#fb9f3a"
             ],
             [
              0.8888888888888888,
              "#fdca26"
             ],
             [
              1,
              "#f0f921"
             ]
            ],
            "type": "heatmap"
           }
          ],
          "heatmapgl": [
           {
            "colorbar": {
             "outlinewidth": 0,
             "ticks": ""
            },
            "colorscale": [
             [
              0,
              "#0d0887"
             ],
             [
              0.1111111111111111,
              "#46039f"
             ],
             [
              0.2222222222222222,
              "#7201a8"
             ],
             [
              0.3333333333333333,
              "#9c179e"
             ],
             [
              0.4444444444444444,
              "#bd3786"
             ],
             [
              0.5555555555555556,
              "#d8576b"
             ],
             [
              0.6666666666666666,
              "#ed7953"
             ],
             [
              0.7777777777777778,
              "#fb9f3a"
             ],
             [
              0.8888888888888888,
              "#fdca26"
             ],
             [
              1,
              "#f0f921"
             ]
            ],
            "type": "heatmapgl"
           }
          ],
          "histogram": [
           {
            "marker": {
             "colorbar": {
              "outlinewidth": 0,
              "ticks": ""
             }
            },
            "type": "histogram"
           }
          ],
          "histogram2d": [
           {
            "colorbar": {
             "outlinewidth": 0,
             "ticks": ""
            },
            "colorscale": [
             [
              0,
              "#0d0887"
             ],
             [
              0.1111111111111111,
              "#46039f"
             ],
             [
              0.2222222222222222,
              "#7201a8"
             ],
             [
              0.3333333333333333,
              "#9c179e"
             ],
             [
              0.4444444444444444,
              "#bd3786"
             ],
             [
              0.5555555555555556,
              "#d8576b"
             ],
             [
              0.6666666666666666,
              "#ed7953"
             ],
             [
              0.7777777777777778,
              "#fb9f3a"
             ],
             [
              0.8888888888888888,
              "#fdca26"
             ],
             [
              1,
              "#f0f921"
             ]
            ],
            "type": "histogram2d"
           }
          ],
          "histogram2dcontour": [
           {
            "colorbar": {
             "outlinewidth": 0,
             "ticks": ""
            },
            "colorscale": [
             [
              0,
              "#0d0887"
             ],
             [
              0.1111111111111111,
              "#46039f"
             ],
             [
              0.2222222222222222,
              "#7201a8"
             ],
             [
              0.3333333333333333,
              "#9c179e"
             ],
             [
              0.4444444444444444,
              "#bd3786"
             ],
             [
              0.5555555555555556,
              "#d8576b"
             ],
             [
              0.6666666666666666,
              "#ed7953"
             ],
             [
              0.7777777777777778,
              "#fb9f3a"
             ],
             [
              0.8888888888888888,
              "#fdca26"
             ],
             [
              1,
              "#f0f921"
             ]
            ],
            "type": "histogram2dcontour"
           }
          ],
          "mesh3d": [
           {
            "colorbar": {
             "outlinewidth": 0,
             "ticks": ""
            },
            "type": "mesh3d"
           }
          ],
          "parcoords": [
           {
            "line": {
             "colorbar": {
              "outlinewidth": 0,
              "ticks": ""
             }
            },
            "type": "parcoords"
           }
          ],
          "pie": [
           {
            "automargin": true,
            "type": "pie"
           }
          ],
          "scatter": [
           {
            "marker": {
             "colorbar": {
              "outlinewidth": 0,
              "ticks": ""
             }
            },
            "type": "scatter"
           }
          ],
          "scatter3d": [
           {
            "line": {
             "colorbar": {
              "outlinewidth": 0,
              "ticks": ""
             }
            },
            "marker": {
             "colorbar": {
              "outlinewidth": 0,
              "ticks": ""
             }
            },
            "type": "scatter3d"
           }
          ],
          "scattercarpet": [
           {
            "marker": {
             "colorbar": {
              "outlinewidth": 0,
              "ticks": ""
             }
            },
            "type": "scattercarpet"
           }
          ],
          "scattergeo": [
           {
            "marker": {
             "colorbar": {
              "outlinewidth": 0,
              "ticks": ""
             }
            },
            "type": "scattergeo"
           }
          ],
          "scattergl": [
           {
            "marker": {
             "colorbar": {
              "outlinewidth": 0,
              "ticks": ""
             }
            },
            "type": "scattergl"
           }
          ],
          "scattermapbox": [
           {
            "marker": {
             "colorbar": {
              "outlinewidth": 0,
              "ticks": ""
             }
            },
            "type": "scattermapbox"
           }
          ],
          "scatterpolar": [
           {
            "marker": {
             "colorbar": {
              "outlinewidth": 0,
              "ticks": ""
             }
            },
            "type": "scatterpolar"
           }
          ],
          "scatterpolargl": [
           {
            "marker": {
             "colorbar": {
              "outlinewidth": 0,
              "ticks": ""
             }
            },
            "type": "scatterpolargl"
           }
          ],
          "scatterternary": [
           {
            "marker": {
             "colorbar": {
              "outlinewidth": 0,
              "ticks": ""
             }
            },
            "type": "scatterternary"
           }
          ],
          "surface": [
           {
            "colorbar": {
             "outlinewidth": 0,
             "ticks": ""
            },
            "colorscale": [
             [
              0,
              "#0d0887"
             ],
             [
              0.1111111111111111,
              "#46039f"
             ],
             [
              0.2222222222222222,
              "#7201a8"
             ],
             [
              0.3333333333333333,
              "#9c179e"
             ],
             [
              0.4444444444444444,
              "#bd3786"
             ],
             [
              0.5555555555555556,
              "#d8576b"
             ],
             [
              0.6666666666666666,
              "#ed7953"
             ],
             [
              0.7777777777777778,
              "#fb9f3a"
             ],
             [
              0.8888888888888888,
              "#fdca26"
             ],
             [
              1,
              "#f0f921"
             ]
            ],
            "type": "surface"
           }
          ],
          "table": [
           {
            "cells": {
             "fill": {
              "color": "#EBF0F8"
             },
             "line": {
              "color": "white"
             }
            },
            "header": {
             "fill": {
              "color": "#C8D4E3"
             },
             "line": {
              "color": "white"
             }
            },
            "type": "table"
           }
          ]
         },
         "layout": {
          "annotationdefaults": {
           "arrowcolor": "#2a3f5f",
           "arrowhead": 0,
           "arrowwidth": 1
          },
          "autotypenumbers": "strict",
          "coloraxis": {
           "colorbar": {
            "outlinewidth": 0,
            "ticks": ""
           }
          },
          "colorscale": {
           "diverging": [
            [
             0,
             "#8e0152"
            ],
            [
             0.1,
             "#c51b7d"
            ],
            [
             0.2,
             "#de77ae"
            ],
            [
             0.3,
             "#f1b6da"
            ],
            [
             0.4,
             "#fde0ef"
            ],
            [
             0.5,
             "#f7f7f7"
            ],
            [
             0.6,
             "#e6f5d0"
            ],
            [
             0.7,
             "#b8e186"
            ],
            [
             0.8,
             "#7fbc41"
            ],
            [
             0.9,
             "#4d9221"
            ],
            [
             1,
             "#276419"
            ]
           ],
           "sequential": [
            [
             0,
             "#0d0887"
            ],
            [
             0.1111111111111111,
             "#46039f"
            ],
            [
             0.2222222222222222,
             "#7201a8"
            ],
            [
             0.3333333333333333,
             "#9c179e"
            ],
            [
             0.4444444444444444,
             "#bd3786"
            ],
            [
             0.5555555555555556,
             "#d8576b"
            ],
            [
             0.6666666666666666,
             "#ed7953"
            ],
            [
             0.7777777777777778,
             "#fb9f3a"
            ],
            [
             0.8888888888888888,
             "#fdca26"
            ],
            [
             1,
             "#f0f921"
            ]
           ],
           "sequentialminus": [
            [
             0,
             "#0d0887"
            ],
            [
             0.1111111111111111,
             "#46039f"
            ],
            [
             0.2222222222222222,
             "#7201a8"
            ],
            [
             0.3333333333333333,
             "#9c179e"
            ],
            [
             0.4444444444444444,
             "#bd3786"
            ],
            [
             0.5555555555555556,
             "#d8576b"
            ],
            [
             0.6666666666666666,
             "#ed7953"
            ],
            [
             0.7777777777777778,
             "#fb9f3a"
            ],
            [
             0.8888888888888888,
             "#fdca26"
            ],
            [
             1,
             "#f0f921"
            ]
           ]
          },
          "colorway": [
           "#636efa",
           "#EF553B",
           "#00cc96",
           "#ab63fa",
           "#FFA15A",
           "#19d3f3",
           "#FF6692",
           "#B6E880",
           "#FF97FF",
           "#FECB52"
          ],
          "font": {
           "color": "#2a3f5f"
          },
          "geo": {
           "bgcolor": "white",
           "lakecolor": "white",
           "landcolor": "#E5ECF6",
           "showlakes": true,
           "showland": true,
           "subunitcolor": "white"
          },
          "hoverlabel": {
           "align": "left"
          },
          "hovermode": "closest",
          "mapbox": {
           "style": "light"
          },
          "paper_bgcolor": "white",
          "plot_bgcolor": "#E5ECF6",
          "polar": {
           "angularaxis": {
            "gridcolor": "white",
            "linecolor": "white",
            "ticks": ""
           },
           "bgcolor": "#E5ECF6",
           "radialaxis": {
            "gridcolor": "white",
            "linecolor": "white",
            "ticks": ""
           }
          },
          "scene": {
           "xaxis": {
            "backgroundcolor": "#E5ECF6",
            "gridcolor": "white",
            "gridwidth": 2,
            "linecolor": "white",
            "showbackground": true,
            "ticks": "",
            "zerolinecolor": "white"
           },
           "yaxis": {
            "backgroundcolor": "#E5ECF6",
            "gridcolor": "white",
            "gridwidth": 2,
            "linecolor": "white",
            "showbackground": true,
            "ticks": "",
            "zerolinecolor": "white"
           },
           "zaxis": {
            "backgroundcolor": "#E5ECF6",
            "gridcolor": "white",
            "gridwidth": 2,
            "linecolor": "white",
            "showbackground": true,
            "ticks": "",
            "zerolinecolor": "white"
           }
          },
          "shapedefaults": {
           "line": {
            "color": "#2a3f5f"
           }
          },
          "ternary": {
           "aaxis": {
            "gridcolor": "white",
            "linecolor": "white",
            "ticks": ""
           },
           "baxis": {
            "gridcolor": "white",
            "linecolor": "white",
            "ticks": ""
           },
           "bgcolor": "#E5ECF6",
           "caxis": {
            "gridcolor": "white",
            "linecolor": "white",
            "ticks": ""
           }
          },
          "title": {
           "x": 0.05
          },
          "xaxis": {
           "automargin": true,
           "gridcolor": "white",
           "linecolor": "white",
           "ticks": "",
           "title": {
            "standoff": 15
           },
           "zerolinecolor": "white",
           "zerolinewidth": 2
          },
          "yaxis": {
           "automargin": true,
           "gridcolor": "white",
           "linecolor": "white",
           "ticks": "",
           "title": {
            "standoff": 15
           },
           "zerolinecolor": "white",
           "zerolinewidth": 2
          }
         }
        }
       }
      }
     },
     "metadata": {}
    }
   ],
   "metadata": {}
  },
  {
   "cell_type": "code",
   "execution_count": 24,
   "source": [
    "gva = gva.merge(infant_deaths, on = 'Year', how = 'right')\n",
    "\n",
    "hipot_X = gva['Value_y'].iloc[:]\n",
    "hipot_y = gva['Value_x'].iloc[:]\n",
    "\n",
    "hipot_X = hipot_X.reset_index(drop=True)\n",
    "hipot_y = hipot_y.reset_index(drop=True)\n",
    "\n",
    "est = sm.OLS(hipot_y, hipot_X)\n",
    "est2 = est.fit()\n",
    "print(est2.summary())"
   ],
   "outputs": [
    {
     "output_type": "stream",
     "name": "stdout",
     "text": [
      "                                 OLS Regression Results                                \n",
      "=======================================================================================\n",
      "Dep. Variable:                Value_x   R-squared (uncentered):                   0.164\n",
      "Model:                            OLS   Adj. R-squared (uncentered):              0.147\n",
      "Method:                 Least Squares   F-statistic:                              9.599\n",
      "Date:                Thu, 29 Jul 2021   Prob (F-statistic):                     0.00322\n",
      "Time:                        22:18:03   Log-Likelihood:                         -1447.8\n",
      "No. Observations:                  50   AIC:                                      2898.\n",
      "Df Residuals:                      49   BIC:                                      2900.\n",
      "Df Model:                           1                                                  \n",
      "Covariance Type:            nonrobust                                                  \n",
      "==============================================================================\n",
      "                 coef    std err          t      P>|t|      [0.025      0.975]\n",
      "------------------------------------------------------------------------------\n",
      "Value_y     1.846e+05   5.96e+04      3.098      0.003    6.49e+04    3.04e+05\n",
      "==============================================================================\n",
      "Omnibus:                       10.296   Durbin-Watson:                   0.012\n",
      "Prob(Omnibus):                  0.006   Jarque-Bera (JB):               11.128\n",
      "Skew:                           1.156   Prob(JB):                      0.00383\n",
      "Kurtosis:                       3.027   Cond. No.                         1.00\n",
      "==============================================================================\n",
      "\n",
      "Notes:\n",
      "[1] R² is computed without centering (uncentered) since the model does not contain a constant.\n",
      "[2] Standard Errors assume that the covariance matrix of the errors is correctly specified.\n"
     ]
    }
   ],
   "metadata": {}
  },
  {
   "cell_type": "code",
   "execution_count": 25,
   "source": [
    "working_age = y_ind[y_ind['SeriesName'] == 'Age dependency ratio, young (% of working-age population)'].copy()\n",
    "gni_pcapita_growth = X_ind[X_ind['SeriesName'] == 'GNI per capita growth (annual %)']"
   ],
   "outputs": [],
   "metadata": {}
  },
  {
   "cell_type": "code",
   "execution_count": 26,
   "source": [
    "working_age = working_age.merge(gni_pcapita_growth, on = 'Year', how = 'right')\n",
    "working_age.head()"
   ],
   "outputs": [
    {
     "output_type": "execute_result",
     "data": {
      "text/plain": [
       "                                        SeriesName_x    SeriesCode_x  \\\n",
       "0  Age dependency ratio, young (% of working-age ...  SP.POP.DPND.YG   \n",
       "1  Age dependency ratio, young (% of working-age ...  SP.POP.DPND.YG   \n",
       "2  Age dependency ratio, young (% of working-age ...  SP.POP.DPND.YG   \n",
       "3  Age dependency ratio, young (% of working-age ...  SP.POP.DPND.YG   \n",
       "4  Age dependency ratio, young (% of working-age ...  SP.POP.DPND.YG   \n",
       "\n",
       "  CountryName_x CountryCode_x    Year    Value_x  \\\n",
       "0         India           IND  1970.0  73.345444   \n",
       "1         India           IND  1971.0  73.026750   \n",
       "2         India           IND  1972.0  72.651510   \n",
       "3         India           IND  1973.0  72.216856   \n",
       "4         India           IND  1974.0  71.672525   \n",
       "\n",
       "                       SeriesName_y       SeriesCode_y CountryName_y  \\\n",
       "0  GNI per capita growth (annual %)  NY.GNP.PCAP.KD.ZG         India   \n",
       "1  GNI per capita growth (annual %)  NY.GNP.PCAP.KD.ZG         India   \n",
       "2  GNI per capita growth (annual %)  NY.GNP.PCAP.KD.ZG         India   \n",
       "3  GNI per capita growth (annual %)  NY.GNP.PCAP.KD.ZG         India   \n",
       "4  GNI per capita growth (annual %)  NY.GNP.PCAP.KD.ZG         India   \n",
       "\n",
       "  CountryCode_y   Value_y  \n",
       "0           IND  2.889157  \n",
       "1           IND -0.601199  \n",
       "2           IND -2.794701  \n",
       "3           IND  0.978327  \n",
       "4           IND -1.018150  "
      ],
      "text/html": [
       "<div>\n",
       "<style scoped>\n",
       "    .dataframe tbody tr th:only-of-type {\n",
       "        vertical-align: middle;\n",
       "    }\n",
       "\n",
       "    .dataframe tbody tr th {\n",
       "        vertical-align: top;\n",
       "    }\n",
       "\n",
       "    .dataframe thead th {\n",
       "        text-align: right;\n",
       "    }\n",
       "</style>\n",
       "<table border=\"1\" class=\"dataframe\">\n",
       "  <thead>\n",
       "    <tr style=\"text-align: right;\">\n",
       "      <th></th>\n",
       "      <th>SeriesName_x</th>\n",
       "      <th>SeriesCode_x</th>\n",
       "      <th>CountryName_x</th>\n",
       "      <th>CountryCode_x</th>\n",
       "      <th>Year</th>\n",
       "      <th>Value_x</th>\n",
       "      <th>SeriesName_y</th>\n",
       "      <th>SeriesCode_y</th>\n",
       "      <th>CountryName_y</th>\n",
       "      <th>CountryCode_y</th>\n",
       "      <th>Value_y</th>\n",
       "    </tr>\n",
       "  </thead>\n",
       "  <tbody>\n",
       "    <tr>\n",
       "      <th>0</th>\n",
       "      <td>Age dependency ratio, young (% of working-age ...</td>\n",
       "      <td>SP.POP.DPND.YG</td>\n",
       "      <td>India</td>\n",
       "      <td>IND</td>\n",
       "      <td>1970.0</td>\n",
       "      <td>73.345444</td>\n",
       "      <td>GNI per capita growth (annual %)</td>\n",
       "      <td>NY.GNP.PCAP.KD.ZG</td>\n",
       "      <td>India</td>\n",
       "      <td>IND</td>\n",
       "      <td>2.889157</td>\n",
       "    </tr>\n",
       "    <tr>\n",
       "      <th>1</th>\n",
       "      <td>Age dependency ratio, young (% of working-age ...</td>\n",
       "      <td>SP.POP.DPND.YG</td>\n",
       "      <td>India</td>\n",
       "      <td>IND</td>\n",
       "      <td>1971.0</td>\n",
       "      <td>73.026750</td>\n",
       "      <td>GNI per capita growth (annual %)</td>\n",
       "      <td>NY.GNP.PCAP.KD.ZG</td>\n",
       "      <td>India</td>\n",
       "      <td>IND</td>\n",
       "      <td>-0.601199</td>\n",
       "    </tr>\n",
       "    <tr>\n",
       "      <th>2</th>\n",
       "      <td>Age dependency ratio, young (% of working-age ...</td>\n",
       "      <td>SP.POP.DPND.YG</td>\n",
       "      <td>India</td>\n",
       "      <td>IND</td>\n",
       "      <td>1972.0</td>\n",
       "      <td>72.651510</td>\n",
       "      <td>GNI per capita growth (annual %)</td>\n",
       "      <td>NY.GNP.PCAP.KD.ZG</td>\n",
       "      <td>India</td>\n",
       "      <td>IND</td>\n",
       "      <td>-2.794701</td>\n",
       "    </tr>\n",
       "    <tr>\n",
       "      <th>3</th>\n",
       "      <td>Age dependency ratio, young (% of working-age ...</td>\n",
       "      <td>SP.POP.DPND.YG</td>\n",
       "      <td>India</td>\n",
       "      <td>IND</td>\n",
       "      <td>1973.0</td>\n",
       "      <td>72.216856</td>\n",
       "      <td>GNI per capita growth (annual %)</td>\n",
       "      <td>NY.GNP.PCAP.KD.ZG</td>\n",
       "      <td>India</td>\n",
       "      <td>IND</td>\n",
       "      <td>0.978327</td>\n",
       "    </tr>\n",
       "    <tr>\n",
       "      <th>4</th>\n",
       "      <td>Age dependency ratio, young (% of working-age ...</td>\n",
       "      <td>SP.POP.DPND.YG</td>\n",
       "      <td>India</td>\n",
       "      <td>IND</td>\n",
       "      <td>1974.0</td>\n",
       "      <td>71.672525</td>\n",
       "      <td>GNI per capita growth (annual %)</td>\n",
       "      <td>NY.GNP.PCAP.KD.ZG</td>\n",
       "      <td>India</td>\n",
       "      <td>IND</td>\n",
       "      <td>-1.018150</td>\n",
       "    </tr>\n",
       "  </tbody>\n",
       "</table>\n",
       "</div>"
      ]
     },
     "metadata": {},
     "execution_count": 26
    }
   ],
   "metadata": {
    "scrolled": true
   }
  },
  {
   "cell_type": "code",
   "execution_count": 27,
   "source": [
    "hipot_X = working_age['Value_x'].iloc[:]\n",
    "hipot_y = working_age['Value_y'].iloc[:]\n",
    "\n",
    "hipot_X = hipot_X.reset_index(drop=True)\n",
    "hipot_y = hipot_y.reset_index(drop=True)\n",
    "\n",
    "est = sm.OLS(hipot_y, hipot_X)\n",
    "est2 = est.fit()\n",
    "print(est2.summary())"
   ],
   "outputs": [
    {
     "output_type": "stream",
     "name": "stdout",
     "text": [
      "                                 OLS Regression Results                                \n",
      "=======================================================================================\n",
      "Dep. Variable:                Value_y   R-squared (uncentered):                   0.502\n",
      "Model:                            OLS   Adj. R-squared (uncentered):              0.492\n",
      "Method:                 Least Squares   F-statistic:                              49.33\n",
      "Date:                Thu, 29 Jul 2021   Prob (F-statistic):                    6.10e-09\n",
      "Time:                        22:18:03   Log-Likelihood:                         -129.49\n",
      "No. Observations:                  50   AIC:                                      261.0\n",
      "Df Residuals:                      49   BIC:                                      262.9\n",
      "Df Model:                           1                                                  \n",
      "Covariance Type:            nonrobust                                                  \n",
      "==============================================================================\n",
      "                 coef    std err          t      P>|t|      [0.025      0.975]\n",
      "------------------------------------------------------------------------------\n",
      "Value_x        0.0536      0.008      7.023      0.000       0.038       0.069\n",
      "==============================================================================\n",
      "Omnibus:                       12.968   Durbin-Watson:                   1.320\n",
      "Prob(Omnibus):                  0.002   Jarque-Bera (JB):               13.748\n",
      "Skew:                          -1.073   Prob(JB):                      0.00103\n",
      "Kurtosis:                       4.411   Cond. No.                         1.00\n",
      "==============================================================================\n",
      "\n",
      "Notes:\n",
      "[1] R² is computed without centering (uncentered) since the model does not contain a constant.\n",
      "[2] Standard Errors assume that the covariance matrix of the errors is correctly specified.\n"
     ]
    }
   ],
   "metadata": {}
  },
  {
   "cell_type": "markdown",
   "source": [
    "## Brasil\n",
    "---"
   ],
   "metadata": {}
  },
  {
   "cell_type": "code",
   "execution_count": 28,
   "source": [
    "X_br = X[X['CountryCode'] == 'BRA'].copy()"
   ],
   "outputs": [],
   "metadata": {}
  },
  {
   "cell_type": "code",
   "execution_count": 29,
   "source": [
    "y_br = y[y['CountryCode'] == 'BRA'].copy()"
   ],
   "outputs": [],
   "metadata": {}
  },
  {
   "cell_type": "code",
   "execution_count": 30,
   "source": [
    "y_br"
   ],
   "outputs": [
    {
     "output_type": "execute_result",
     "data": {
      "text/plain": [
       "                                              SeriesName      SeriesCode  \\\n",
       "0      Adolescent fertility rate (births per 1,000 wo...     SP.ADO.TFRT   \n",
       "15     Age dependency ratio (% of working-age populat...     SP.POP.DPND   \n",
       "20     Age dependency ratio, old (% of working-age po...  SP.POP.DPND.OL   \n",
       "25     Age dependency ratio, young (% of working-age ...  SP.POP.DPND.YG   \n",
       "55                  Birth rate, crude (per 1,000 people)  SP.DYN.CBRT.IN   \n",
       "...                                                  ...             ...   \n",
       "69210  Prevalence of HIV, total (% of population ages...  SH.DYN.AIDS.ZS   \n",
       "69305  Probability of dying among adolescents ages 10...     SH.DYN.1014   \n",
       "69310  Probability of dying among adolescents ages 15...     SH.DYN.1519   \n",
       "69315  Probability of dying among children ages 5-9 y...     SH.DYN.0509   \n",
       "69320  Probability of dying among youth ages 20-24 ye...     SH.DYN.2024   \n",
       "\n",
       "      CountryName CountryCode    Year      Value  \n",
       "0          Brazil         BRA  1970.0  77.118400  \n",
       "15         Brazil         BRA  1970.0  83.980449  \n",
       "20         Brazil         BRA  1970.0   6.318839  \n",
       "25         Brazil         BRA  1970.0  77.661610  \n",
       "55         Brazil         BRA  1970.0  35.116000  \n",
       "...           ...         ...     ...        ...  \n",
       "69210      Brazil         BRA  2019.0   0.500000  \n",
       "69305      Brazil         BRA  2019.0   1.400000  \n",
       "69310      Brazil         BRA  2019.0   5.800000  \n",
       "69315      Brazil         BRA  2019.0   1.000000  \n",
       "69320      Brazil         BRA  2019.0   7.900000  \n",
       "\n",
       "[6289 rows x 6 columns]"
      ],
      "text/html": [
       "<div>\n",
       "<style scoped>\n",
       "    .dataframe tbody tr th:only-of-type {\n",
       "        vertical-align: middle;\n",
       "    }\n",
       "\n",
       "    .dataframe tbody tr th {\n",
       "        vertical-align: top;\n",
       "    }\n",
       "\n",
       "    .dataframe thead th {\n",
       "        text-align: right;\n",
       "    }\n",
       "</style>\n",
       "<table border=\"1\" class=\"dataframe\">\n",
       "  <thead>\n",
       "    <tr style=\"text-align: right;\">\n",
       "      <th></th>\n",
       "      <th>SeriesName</th>\n",
       "      <th>SeriesCode</th>\n",
       "      <th>CountryName</th>\n",
       "      <th>CountryCode</th>\n",
       "      <th>Year</th>\n",
       "      <th>Value</th>\n",
       "    </tr>\n",
       "  </thead>\n",
       "  <tbody>\n",
       "    <tr>\n",
       "      <th>0</th>\n",
       "      <td>Adolescent fertility rate (births per 1,000 wo...</td>\n",
       "      <td>SP.ADO.TFRT</td>\n",
       "      <td>Brazil</td>\n",
       "      <td>BRA</td>\n",
       "      <td>1970.0</td>\n",
       "      <td>77.118400</td>\n",
       "    </tr>\n",
       "    <tr>\n",
       "      <th>15</th>\n",
       "      <td>Age dependency ratio (% of working-age populat...</td>\n",
       "      <td>SP.POP.DPND</td>\n",
       "      <td>Brazil</td>\n",
       "      <td>BRA</td>\n",
       "      <td>1970.0</td>\n",
       "      <td>83.980449</td>\n",
       "    </tr>\n",
       "    <tr>\n",
       "      <th>20</th>\n",
       "      <td>Age dependency ratio, old (% of working-age po...</td>\n",
       "      <td>SP.POP.DPND.OL</td>\n",
       "      <td>Brazil</td>\n",
       "      <td>BRA</td>\n",
       "      <td>1970.0</td>\n",
       "      <td>6.318839</td>\n",
       "    </tr>\n",
       "    <tr>\n",
       "      <th>25</th>\n",
       "      <td>Age dependency ratio, young (% of working-age ...</td>\n",
       "      <td>SP.POP.DPND.YG</td>\n",
       "      <td>Brazil</td>\n",
       "      <td>BRA</td>\n",
       "      <td>1970.0</td>\n",
       "      <td>77.661610</td>\n",
       "    </tr>\n",
       "    <tr>\n",
       "      <th>55</th>\n",
       "      <td>Birth rate, crude (per 1,000 people)</td>\n",
       "      <td>SP.DYN.CBRT.IN</td>\n",
       "      <td>Brazil</td>\n",
       "      <td>BRA</td>\n",
       "      <td>1970.0</td>\n",
       "      <td>35.116000</td>\n",
       "    </tr>\n",
       "    <tr>\n",
       "      <th>...</th>\n",
       "      <td>...</td>\n",
       "      <td>...</td>\n",
       "      <td>...</td>\n",
       "      <td>...</td>\n",
       "      <td>...</td>\n",
       "      <td>...</td>\n",
       "    </tr>\n",
       "    <tr>\n",
       "      <th>69210</th>\n",
       "      <td>Prevalence of HIV, total (% of population ages...</td>\n",
       "      <td>SH.DYN.AIDS.ZS</td>\n",
       "      <td>Brazil</td>\n",
       "      <td>BRA</td>\n",
       "      <td>2019.0</td>\n",
       "      <td>0.500000</td>\n",
       "    </tr>\n",
       "    <tr>\n",
       "      <th>69305</th>\n",
       "      <td>Probability of dying among adolescents ages 10...</td>\n",
       "      <td>SH.DYN.1014</td>\n",
       "      <td>Brazil</td>\n",
       "      <td>BRA</td>\n",
       "      <td>2019.0</td>\n",
       "      <td>1.400000</td>\n",
       "    </tr>\n",
       "    <tr>\n",
       "      <th>69310</th>\n",
       "      <td>Probability of dying among adolescents ages 15...</td>\n",
       "      <td>SH.DYN.1519</td>\n",
       "      <td>Brazil</td>\n",
       "      <td>BRA</td>\n",
       "      <td>2019.0</td>\n",
       "      <td>5.800000</td>\n",
       "    </tr>\n",
       "    <tr>\n",
       "      <th>69315</th>\n",
       "      <td>Probability of dying among children ages 5-9 y...</td>\n",
       "      <td>SH.DYN.0509</td>\n",
       "      <td>Brazil</td>\n",
       "      <td>BRA</td>\n",
       "      <td>2019.0</td>\n",
       "      <td>1.000000</td>\n",
       "    </tr>\n",
       "    <tr>\n",
       "      <th>69320</th>\n",
       "      <td>Probability of dying among youth ages 20-24 ye...</td>\n",
       "      <td>SH.DYN.2024</td>\n",
       "      <td>Brazil</td>\n",
       "      <td>BRA</td>\n",
       "      <td>2019.0</td>\n",
       "      <td>7.900000</td>\n",
       "    </tr>\n",
       "  </tbody>\n",
       "</table>\n",
       "<p>6289 rows × 6 columns</p>\n",
       "</div>"
      ]
     },
     "metadata": {},
     "execution_count": 30
    }
   ],
   "metadata": {}
  },
  {
   "cell_type": "code",
   "execution_count": 31,
   "source": [
    "test = y_br['SeriesName'].value_counts()\n",
    "test2 = X_br['SeriesName'].value_counts()"
   ],
   "outputs": [],
   "metadata": {}
  },
  {
   "cell_type": "code",
   "execution_count": 32,
   "source": [
    "test[test >= 50].index"
   ],
   "outputs": [
    {
     "output_type": "execute_result",
     "data": {
      "text/plain": [
       "Index(['Mortality rate, infant (per 1,000 live births)',\n",
       "       'Population ages 50-54, female (% of female population)',\n",
       "       'Population ages 60-64, female (% of female population)',\n",
       "       'Mortality rate, infant, male (per 1,000 live births)',\n",
       "       'Population ages 00-04, female (% of female population)',\n",
       "       'Population ages 65 and above, total',\n",
       "       'Population ages 50-54, male (% of male population)',\n",
       "       'Population ages 25-29, female (% of female population)',\n",
       "       'Mortality rate, infant, female (per 1,000 live births)',\n",
       "       'Age dependency ratio, old (% of working-age population)',\n",
       "       'Age dependency ratio (% of working-age population)',\n",
       "       'Population ages 70-74, female (% of female population)',\n",
       "       'Population ages 65 and above, male (% of male population)',\n",
       "       'Population ages 65 and above, female',\n",
       "       'Population ages 70-74, male (% of male population)',\n",
       "       'Population ages 15-19, female (% of female population)',\n",
       "       'Mortality rate, neonatal (per 1,000 live births)',\n",
       "       'Population ages 30-34, male (% of male population)',\n",
       "       'Population ages 55-59, male (% of male population)',\n",
       "       'Population ages 0-14, female', 'Population ages 15-64, female',\n",
       "       'Population, total',\n",
       "       'Population ages 35-39, female (% of female population)',\n",
       "       'Population ages 65-69, female (% of female population)',\n",
       "       'Population ages 0-14, female (% of female population)',\n",
       "       'Population ages 10-14, female (% of female population)',\n",
       "       'Population ages 15-64, female (% of female population)',\n",
       "       'Population ages 05-09, male (% of male population)',\n",
       "       'Population ages 40-44, female (% of female population)',\n",
       "       'Number of under-five deaths',\n",
       "       'Population ages 35-39, male (% of male population)',\n",
       "       'Population ages 45-49, male (% of male population)',\n",
       "       'Population ages 10-14, male (% of male population)',\n",
       "       'Population ages 65 and above (% of total population)',\n",
       "       'Number of infant deaths',\n",
       "       'Population ages 20-24, female (% of female population)',\n",
       "       'Population ages 30-34, female (% of female population)',\n",
       "       'Population ages 15-64, male (% of male population)',\n",
       "       'Population, female',\n",
       "       'Population ages 80 and above, female (% of female population)',\n",
       "       'Population ages 40-44, male (% of male population)',\n",
       "       'Population ages 0-14, male',\n",
       "       'Age dependency ratio, young (% of working-age population)',\n",
       "       'Population ages 0-14, total',\n",
       "       'Population ages 00-04, male (% of male population)',\n",
       "       'Population ages 15-19, male (% of male population)',\n",
       "       'Population ages 75-79, male (% of male population)',\n",
       "       'Number of neonatal deaths',\n",
       "       'Mortality rate, under-5 (per 1,000 live births)',\n",
       "       'Population ages 65-69, male (% of male population)',\n",
       "       'Population, female (% of total population)',\n",
       "       'Population ages 80 and above, male (% of male population)',\n",
       "       'Mortality rate, under-5, male (per 1,000 live births)',\n",
       "       'Population ages 60-64, male (% of male population)',\n",
       "       'Population ages 65 and above, male',\n",
       "       'Population ages 65 and above, female (% of female population)',\n",
       "       'Population ages 55-59, female (% of female population)',\n",
       "       'Population ages 45-49, female (% of female population)',\n",
       "       'Population, male', 'Population ages 0-14, male (% of male population)',\n",
       "       'Population growth (annual %)',\n",
       "       'Population ages 20-24, male (% of male population)',\n",
       "       'Population ages 15-64 (% of total population)',\n",
       "       'Population ages 15-64, total',\n",
       "       'Population ages 75-79, female (% of female population)',\n",
       "       'Population ages 15-64, male',\n",
       "       'Population ages 25-29, male (% of male population)',\n",
       "       'Population ages 05-09, female (% of female population)',\n",
       "       'Mortality rate, under-5, female (per 1,000 live births)',\n",
       "       'Population, male (% of total population)',\n",
       "       'Population ages 0-14 (% of total population)'],\n",
       "      dtype='object')"
      ]
     },
     "metadata": {},
     "execution_count": 32
    }
   ],
   "metadata": {}
  },
  {
   "cell_type": "code",
   "execution_count": 33,
   "source": [
    "#X_br['SeriesName'].unique()[X_br['SeriesName'].unique().apply(lambda x: 'Adjusted' in x)]\n",
    "\n",
    "X_br['SeriesName'][X_br['SeriesName'].apply(lambda x: 'per capita' in x)].unique()"
   ],
   "outputs": [
    {
     "output_type": "execute_result",
     "data": {
      "text/plain": [
       "array(['Adjusted net national income per capita (constant 2010 US$)',\n",
       "       'Adjusted net national income per capita (current US$)',\n",
       "       'GDP per capita (constant 2010 US$)',\n",
       "       'GDP per capita (constant LCU)', 'GDP per capita (current LCU)',\n",
       "       'GDP per capita (current US$)', 'GDP per capita growth (annual %)',\n",
       "       'GNI per capita (constant 2010 US$)',\n",
       "       'GNI per capita (constant LCU)', 'GNI per capita (current LCU)',\n",
       "       'GNI per capita, Atlas method (current US$)',\n",
       "       'Households and NPISHs Final consumption expenditure per capita (constant 2010 US$)',\n",
       "       'Households and NPISHs Final consumption expenditure per capita growth (annual %)',\n",
       "       'Net ODA received per capita (current US$)',\n",
       "       'Adjusted net national income per capita (annual % growth)',\n",
       "       'GNI per capita growth (annual %)',\n",
       "       'GDP per capita, PPP (constant 2017 international $)',\n",
       "       'GDP per capita, PPP (current international $)',\n",
       "       'GNI per capita, PPP (constant 2017 international $)',\n",
       "       'GNI per capita, PPP (current international $)'], dtype=object)"
      ]
     },
     "metadata": {},
     "execution_count": 33
    }
   ],
   "metadata": {}
  },
  {
   "cell_type": "code",
   "execution_count": 34,
   "source": [
    "test2[test2 >= 50].index"
   ],
   "outputs": [
    {
     "output_type": "execute_result",
     "data": {
      "text/plain": [
       "Index(['Short-term debt (% of total external debt)',\n",
       "       'Use of IMF credit (DOD, current US$)',\n",
       "       'Households and NPISHs Final consumption expenditure per capita (constant 2010 US$)',\n",
       "       'Imports of goods and services (% of GDP)',\n",
       "       'General government final consumption expenditure (constant LCU)',\n",
       "       'Taxes less subsidies on products (current US$)',\n",
       "       'Imports of goods and services (constant LCU)',\n",
       "       'Short-term debt (% of total reserves)',\n",
       "       'Services, value added (current LCU)',\n",
       "       'Exports of goods and services (annual % growth)',\n",
       "       ...\n",
       "       'Exports as a capacity to import (constant LCU)',\n",
       "       'Agriculture, forestry, and fishing, value added (constant 2010 US$)',\n",
       "       'Industry (including construction), value added (constant 2010 US$)',\n",
       "       'Agriculture, forestry, and fishing, value added (constant LCU)',\n",
       "       'Net financial flows, RDB nonconcessional (NFL, current US$)',\n",
       "       'Gross national expenditure (current US$)',\n",
       "       'Gross capital formation (current US$)', 'GNI (constant LCU)',\n",
       "       'Industry (including construction), value added (current US$)',\n",
       "       'Net financial flows, multilateral (NFL, current US$)'],\n",
       "      dtype='object', length=137)"
      ]
     },
     "metadata": {},
     "execution_count": 34
    }
   ],
   "metadata": {}
  },
  {
   "cell_type": "code",
   "execution_count": 35,
   "source": [
    "cobert_hiv_treatment = y_br[y_br['SeriesName'] == 'Antiretroviral therapy coverage (% of people living with HIV)']"
   ],
   "outputs": [],
   "metadata": {}
  },
  {
   "cell_type": "code",
   "execution_count": 36,
   "source": [
    "gva = X_br[X_br['SeriesName'] ==  'Gross value added at basic prices (GVA) (current US$)']\n"
   ],
   "outputs": [],
   "metadata": {}
  },
  {
   "cell_type": "code",
   "execution_count": 37,
   "source": [
    "gva.head()"
   ],
   "outputs": [
    {
     "output_type": "execute_result",
     "data": {
      "text/plain": [
       "                                             SeriesName      SeriesCode  \\\n",
       "775   Gross value added at basic prices (GVA) (curre...  NY.GDP.FCST.CD   \n",
       "2505  Gross value added at basic prices (GVA) (curre...  NY.GDP.FCST.CD   \n",
       "4235  Gross value added at basic prices (GVA) (curre...  NY.GDP.FCST.CD   \n",
       "5965  Gross value added at basic prices (GVA) (curre...  NY.GDP.FCST.CD   \n",
       "7695  Gross value added at basic prices (GVA) (curre...  NY.GDP.FCST.CD   \n",
       "\n",
       "     CountryName CountryCode    Year         Value  \n",
       "775       Brazil         BRA  1970.0  3.556752e+10  \n",
       "2505      Brazil         BRA  1971.0  4.214448e+10  \n",
       "4235      Brazil         BRA  1972.0  4.986391e+10  \n",
       "5965      Brazil         BRA  1973.0  6.793320e+10  \n",
       "7695      Brazil         BRA  1974.0  9.137394e+10  "
      ],
      "text/html": [
       "<div>\n",
       "<style scoped>\n",
       "    .dataframe tbody tr th:only-of-type {\n",
       "        vertical-align: middle;\n",
       "    }\n",
       "\n",
       "    .dataframe tbody tr th {\n",
       "        vertical-align: top;\n",
       "    }\n",
       "\n",
       "    .dataframe thead th {\n",
       "        text-align: right;\n",
       "    }\n",
       "</style>\n",
       "<table border=\"1\" class=\"dataframe\">\n",
       "  <thead>\n",
       "    <tr style=\"text-align: right;\">\n",
       "      <th></th>\n",
       "      <th>SeriesName</th>\n",
       "      <th>SeriesCode</th>\n",
       "      <th>CountryName</th>\n",
       "      <th>CountryCode</th>\n",
       "      <th>Year</th>\n",
       "      <th>Value</th>\n",
       "    </tr>\n",
       "  </thead>\n",
       "  <tbody>\n",
       "    <tr>\n",
       "      <th>775</th>\n",
       "      <td>Gross value added at basic prices (GVA) (curre...</td>\n",
       "      <td>NY.GDP.FCST.CD</td>\n",
       "      <td>Brazil</td>\n",
       "      <td>BRA</td>\n",
       "      <td>1970.0</td>\n",
       "      <td>3.556752e+10</td>\n",
       "    </tr>\n",
       "    <tr>\n",
       "      <th>2505</th>\n",
       "      <td>Gross value added at basic prices (GVA) (curre...</td>\n",
       "      <td>NY.GDP.FCST.CD</td>\n",
       "      <td>Brazil</td>\n",
       "      <td>BRA</td>\n",
       "      <td>1971.0</td>\n",
       "      <td>4.214448e+10</td>\n",
       "    </tr>\n",
       "    <tr>\n",
       "      <th>4235</th>\n",
       "      <td>Gross value added at basic prices (GVA) (curre...</td>\n",
       "      <td>NY.GDP.FCST.CD</td>\n",
       "      <td>Brazil</td>\n",
       "      <td>BRA</td>\n",
       "      <td>1972.0</td>\n",
       "      <td>4.986391e+10</td>\n",
       "    </tr>\n",
       "    <tr>\n",
       "      <th>5965</th>\n",
       "      <td>Gross value added at basic prices (GVA) (curre...</td>\n",
       "      <td>NY.GDP.FCST.CD</td>\n",
       "      <td>Brazil</td>\n",
       "      <td>BRA</td>\n",
       "      <td>1973.0</td>\n",
       "      <td>6.793320e+10</td>\n",
       "    </tr>\n",
       "    <tr>\n",
       "      <th>7695</th>\n",
       "      <td>Gross value added at basic prices (GVA) (curre...</td>\n",
       "      <td>NY.GDP.FCST.CD</td>\n",
       "      <td>Brazil</td>\n",
       "      <td>BRA</td>\n",
       "      <td>1974.0</td>\n",
       "      <td>9.137394e+10</td>\n",
       "    </tr>\n",
       "  </tbody>\n",
       "</table>\n",
       "</div>"
      ]
     },
     "metadata": {},
     "execution_count": 37
    }
   ],
   "metadata": {}
  },
  {
   "cell_type": "code",
   "execution_count": 38,
   "source": [
    "working_age = y_br[y_br['SeriesName'] == 'Age dependency ratio, young (% of working-age population)'].copy()"
   ],
   "outputs": [],
   "metadata": {}
  },
  {
   "cell_type": "code",
   "execution_count": 39,
   "source": [
    "infant_deaths = y_br[y_br['SeriesName'] == 'Number of infant deaths'].copy()"
   ],
   "outputs": [],
   "metadata": {}
  },
  {
   "cell_type": "code",
   "execution_count": 40,
   "source": [
    "gni_pcapita_growth = X_br[X_br['SeriesName'] == 'GNI per capita growth (annual %)']"
   ],
   "outputs": [],
   "metadata": {}
  },
  {
   "cell_type": "code",
   "execution_count": 41,
   "source": [
    "gni_per_capita = X_br[X_br['SeriesName'] == 'GNI per capita, PPP (constant 2017 international $)'].copy()"
   ],
   "outputs": [],
   "metadata": {}
  },
  {
   "cell_type": "code",
   "execution_count": 42,
   "source": [
    "norm = preprocessing.MinMaxScaler()"
   ],
   "outputs": [],
   "metadata": {}
  },
  {
   "cell_type": "code",
   "execution_count": 43,
   "source": [
    "infant_deaths_norm = infant_deaths['Value'].values\n",
    "infant_deaths_norm = norm.fit_transform(infant_deaths_norm.reshape(-1,1))\n",
    "\n",
    "gva_norm  = gva['Value'].values\n",
    "gva_norm = norm.fit_transform(gva_norm.reshape(-1,1))"
   ],
   "outputs": [],
   "metadata": {}
  },
  {
   "cell_type": "code",
   "execution_count": 44,
   "source": [
    "infant_deaths['norm'] = infant_deaths_norm\n",
    "gva['norm'] = gva_norm"
   ],
   "outputs": [
    {
     "output_type": "stream",
     "name": "stderr",
     "text": [
      "/home/coutinho/anaconda3/lib/python3.7/site-packages/ipykernel_launcher.py:2: SettingWithCopyWarning:\n",
      "\n",
      "\n",
      "A value is trying to be set on a copy of a slice from a DataFrame.\n",
      "Try using .loc[row_indexer,col_indexer] = value instead\n",
      "\n",
      "See the caveats in the documentation: https://pandas.pydata.org/pandas-docs/stable/user_guide/indexing.html#returning-a-view-versus-a-copy\n",
      "\n"
     ]
    }
   ],
   "metadata": {}
  },
  {
   "cell_type": "code",
   "execution_count": 45,
   "source": [
    "fig = go.Figure()\n",
    "fig.add_trace(go.Bar(x = infant_deaths['Year'], y = infant_deaths['norm'], name= 'infant_deaths', hovertemplate=\"Deaths: %{y}<extra></extra>\"))\n",
    "fig.add_trace(go.Bar(x = gva['Year'], y = gva['norm'], name= 'GVA'))\n",
    "fig.add_trace(go.Bar(x = cobert_hiv_treatment['Year'], y = cobert_hiv_treatment['Value']/100, name = 'HIV coverage',hovertemplate = 'Coverage: %{y}<extra></extra>'))"
   ],
   "outputs": [
    {
     "output_type": "display_data",
     "data": {
      "application/vnd.plotly.v1+json": {
       "config": {
        "plotlyServerURL": "https://plot.ly"
       },
       "data": [
        {
         "hovertemplate": "Deaths: %{y}<extra></extra>",
         "name": "infant_deaths",
         "type": "bar",
         "x": [
          1970,
          1971,
          1972,
          1973,
          1974,
          1975,
          1976,
          1977,
          1978,
          1979,
          1980,
          1981,
          1982,
          1983,
          1984,
          1985,
          1986,
          1987,
          1988,
          1989,
          1990,
          1991,
          1992,
          1993,
          1994,
          1995,
          1996,
          1997,
          1998,
          1999,
          2000,
          2001,
          2002,
          2003,
          2004,
          2005,
          2006,
          2007,
          2008,
          2009,
          2010,
          2011,
          2012,
          2013,
          2014,
          2015,
          2016,
          2017,
          2018,
          2019
         ],
         "y": [
          1,
          0.9793147267849578,
          0.9610432397178761,
          0.9457570480538429,
          0.9326795715697678,
          0.9221974194676223,
          0.9126498530885032,
          0.9021273591565868,
          0.8892246972681856,
          0.8722542342112164,
          0.850291469720095,
          0.8239885967094515,
          0.7942600299874268,
          0.7617008115431422,
          0.7280691727907805,
          0.693418902836703,
          0.6591014529782356,
          0.6246428067155699,
          0.5913742444311466,
          0.5591680169973576,
          0.5283098790417471,
          0.49799299396889646,
          0.4679215216938189,
          0.43700959463184713,
          0.4064103167506001,
          0.3760295571139455,
          0.34661027775349795,
          0.3183272932649315,
          0.2908444217334884,
          0.26369773211680303,
          0.2369880789893027,
          0.2106751205212164,
          0.18515891319110594,
          0.160711764349925,
          0.1380262087420745,
          0.11703837180375044,
          0.09833321006663125,
          0.08222001089229404,
          0.0683592305468335,
          0.0568618090621197,
          0.047351222693623976,
          0.039538354994654704,
          0.03312064224192994,
          0.02773836978665896,
          0.022951139320509115,
          0.018409321652132396,
          0.023720995905304285,
          0.009359304506854751,
          0.004662843157689486,
          0
         ]
        },
        {
         "name": "GVA",
         "type": "bar",
         "x": [
          1970,
          1971,
          1972,
          1973,
          1974,
          1975,
          1976,
          1977,
          1978,
          1979,
          1980,
          1981,
          1982,
          1983,
          1984,
          1985,
          1986,
          1987,
          1988,
          1989,
          1990,
          1991,
          1992,
          1993,
          1994,
          1995,
          1996,
          1997,
          1998,
          1999,
          2000,
          2001,
          2002,
          2003,
          2004,
          2005,
          2006,
          2007,
          2008,
          2009,
          2010,
          2011,
          2012,
          2013,
          2014,
          2015,
          2016,
          2017,
          2018,
          2019
         ],
         "y": [
          0,
          0.0030052007166235656,
          0.006532434303933958,
          0.01478881422935906,
          0.025499563339357333,
          0.03365794354554298,
          0.045197642334614985,
          0.054678617745418934,
          0.06495325392772668,
          0.07612761022100346,
          0.08076563028977203,
          0.09184530365338173,
          0.09946629259227202,
          0.06720216315512535,
          0.07081907300287704,
          0.07646258804905211,
          0.09279189717248112,
          0.10468826153068282,
          0.12019197518859182,
          0.17645061400733553,
          0.16286054403178818,
          0.22380946414907296,
          0.14450454596855897,
          0.15742475409867493,
          0.20475079568416898,
          0.2878622293975617,
          0.3234774252088903,
          0.33841598678012424,
          0.3309995026727544,
          0.22091647796176628,
          0.24132827654748956,
          0.20139680134292312,
          0.18177531391087448,
          0.20214699340023404,
          0.24337470674084405,
          0.32963912597018347,
          0.4142082321256956,
          0.5280753480437145,
          0.6381889509838776,
          0.6350130156437231,
          0.8416170694067696,
          1.0000000000000002,
          0.9416024331029796,
          0.948798230989389,
          0.9494029745971297,
          0.6918375362999104,
          0.6930751181817525,
          0.7955172381945576,
          0.7208895947456749,
          0.7034330701881595
         ]
        },
        {
         "hovertemplate": "Coverage: %{y}<extra></extra>",
         "name": "HIV coverage",
         "type": "bar",
         "x": [
          2000,
          2001,
          2002,
          2003,
          2004,
          2005,
          2006,
          2007,
          2008,
          2009,
          2010,
          2011,
          2012,
          2013,
          2014,
          2015,
          2016,
          2017,
          2018,
          2019
         ],
         "y": [
          0,
          0,
          0,
          0,
          0.01,
          0.01,
          0.02,
          0.03,
          0.04,
          0.07,
          0.08,
          0.08,
          0.15,
          0.18,
          0.23,
          0.31,
          0.37,
          0.42,
          0.53,
          0.6
         ]
        }
       ],
       "layout": {
        "template": {
         "data": {
          "bar": [
           {
            "error_x": {
             "color": "#2a3f5f"
            },
            "error_y": {
             "color": "#2a3f5f"
            },
            "marker": {
             "line": {
              "color": "#E5ECF6",
              "width": 0.5
             }
            },
            "type": "bar"
           }
          ],
          "barpolar": [
           {
            "marker": {
             "line": {
              "color": "#E5ECF6",
              "width": 0.5
             }
            },
            "type": "barpolar"
           }
          ],
          "carpet": [
           {
            "aaxis": {
             "endlinecolor": "#2a3f5f",
             "gridcolor": "white",
             "linecolor": "white",
             "minorgridcolor": "white",
             "startlinecolor": "#2a3f5f"
            },
            "baxis": {
             "endlinecolor": "#2a3f5f",
             "gridcolor": "white",
             "linecolor": "white",
             "minorgridcolor": "white",
             "startlinecolor": "#2a3f5f"
            },
            "type": "carpet"
           }
          ],
          "choropleth": [
           {
            "colorbar": {
             "outlinewidth": 0,
             "ticks": ""
            },
            "type": "choropleth"
           }
          ],
          "contour": [
           {
            "colorbar": {
             "outlinewidth": 0,
             "ticks": ""
            },
            "colorscale": [
             [
              0,
              "#0d0887"
             ],
             [
              0.1111111111111111,
              "#46039f"
             ],
             [
              0.2222222222222222,
              "#7201a8"
             ],
             [
              0.3333333333333333,
              "#9c179e"
             ],
             [
              0.4444444444444444,
              "#bd3786"
             ],
             [
              0.5555555555555556,
              "#d8576b"
             ],
             [
              0.6666666666666666,
              "#ed7953"
             ],
             [
              0.7777777777777778,
              "#fb9f3a"
             ],
             [
              0.8888888888888888,
              "#fdca26"
             ],
             [
              1,
              "#f0f921"
             ]
            ],
            "type": "contour"
           }
          ],
          "contourcarpet": [
           {
            "colorbar": {
             "outlinewidth": 0,
             "ticks": ""
            },
            "type": "contourcarpet"
           }
          ],
          "heatmap": [
           {
            "colorbar": {
             "outlinewidth": 0,
             "ticks": ""
            },
            "colorscale": [
             [
              0,
              "#0d0887"
             ],
             [
              0.1111111111111111,
              "#46039f"
             ],
             [
              0.2222222222222222,
              "#7201a8"
             ],
             [
              0.3333333333333333,
              "#9c179e"
             ],
             [
              0.4444444444444444,
              "#bd3786"
             ],
             [
              0.5555555555555556,
              "#d8576b"
             ],
             [
              0.6666666666666666,
              "#ed7953"
             ],
             [
              0.7777777777777778,
              "#fb9f3a"
             ],
             [
              0.8888888888888888,
              "#fdca26"
             ],
             [
              1,
              "#f0f921"
             ]
            ],
            "type": "heatmap"
           }
          ],
          "heatmapgl": [
           {
            "colorbar": {
             "outlinewidth": 0,
             "ticks": ""
            },
            "colorscale": [
             [
              0,
              "#0d0887"
             ],
             [
              0.1111111111111111,
              "#46039f"
             ],
             [
              0.2222222222222222,
              "#7201a8"
             ],
             [
              0.3333333333333333,
              "#9c179e"
             ],
             [
              0.4444444444444444,
              "#bd3786"
             ],
             [
              0.5555555555555556,
              "#d8576b"
             ],
             [
              0.6666666666666666,
              "#ed7953"
             ],
             [
              0.7777777777777778,
              "#fb9f3a"
             ],
             [
              0.8888888888888888,
              "#fdca26"
             ],
             [
              1,
              "#f0f921"
             ]
            ],
            "type": "heatmapgl"
           }
          ],
          "histogram": [
           {
            "marker": {
             "colorbar": {
              "outlinewidth": 0,
              "ticks": ""
             }
            },
            "type": "histogram"
           }
          ],
          "histogram2d": [
           {
            "colorbar": {
             "outlinewidth": 0,
             "ticks": ""
            },
            "colorscale": [
             [
              0,
              "#0d0887"
             ],
             [
              0.1111111111111111,
              "#46039f"
             ],
             [
              0.2222222222222222,
              "#7201a8"
             ],
             [
              0.3333333333333333,
              "#9c179e"
             ],
             [
              0.4444444444444444,
              "#bd3786"
             ],
             [
              0.5555555555555556,
              "#d8576b"
             ],
             [
              0.6666666666666666,
              "#ed7953"
             ],
             [
              0.7777777777777778,
              "#fb9f3a"
             ],
             [
              0.8888888888888888,
              "#fdca26"
             ],
             [
              1,
              "#f0f921"
             ]
            ],
            "type": "histogram2d"
           }
          ],
          "histogram2dcontour": [
           {
            "colorbar": {
             "outlinewidth": 0,
             "ticks": ""
            },
            "colorscale": [
             [
              0,
              "#0d0887"
             ],
             [
              0.1111111111111111,
              "#46039f"
             ],
             [
              0.2222222222222222,
              "#7201a8"
             ],
             [
              0.3333333333333333,
              "#9c179e"
             ],
             [
              0.4444444444444444,
              "#bd3786"
             ],
             [
              0.5555555555555556,
              "#d8576b"
             ],
             [
              0.6666666666666666,
              "#ed7953"
             ],
             [
              0.7777777777777778,
              "#fb9f3a"
             ],
             [
              0.8888888888888888,
              "#fdca26"
             ],
             [
              1,
              "#f0f921"
             ]
            ],
            "type": "histogram2dcontour"
           }
          ],
          "mesh3d": [
           {
            "colorbar": {
             "outlinewidth": 0,
             "ticks": ""
            },
            "type": "mesh3d"
           }
          ],
          "parcoords": [
           {
            "line": {
             "colorbar": {
              "outlinewidth": 0,
              "ticks": ""
             }
            },
            "type": "parcoords"
           }
          ],
          "pie": [
           {
            "automargin": true,
            "type": "pie"
           }
          ],
          "scatter": [
           {
            "marker": {
             "colorbar": {
              "outlinewidth": 0,
              "ticks": ""
             }
            },
            "type": "scatter"
           }
          ],
          "scatter3d": [
           {
            "line": {
             "colorbar": {
              "outlinewidth": 0,
              "ticks": ""
             }
            },
            "marker": {
             "colorbar": {
              "outlinewidth": 0,
              "ticks": ""
             }
            },
            "type": "scatter3d"
           }
          ],
          "scattercarpet": [
           {
            "marker": {
             "colorbar": {
              "outlinewidth": 0,
              "ticks": ""
             }
            },
            "type": "scattercarpet"
           }
          ],
          "scattergeo": [
           {
            "marker": {
             "colorbar": {
              "outlinewidth": 0,
              "ticks": ""
             }
            },
            "type": "scattergeo"
           }
          ],
          "scattergl": [
           {
            "marker": {
             "colorbar": {
              "outlinewidth": 0,
              "ticks": ""
             }
            },
            "type": "scattergl"
           }
          ],
          "scattermapbox": [
           {
            "marker": {
             "colorbar": {
              "outlinewidth": 0,
              "ticks": ""
             }
            },
            "type": "scattermapbox"
           }
          ],
          "scatterpolar": [
           {
            "marker": {
             "colorbar": {
              "outlinewidth": 0,
              "ticks": ""
             }
            },
            "type": "scatterpolar"
           }
          ],
          "scatterpolargl": [
           {
            "marker": {
             "colorbar": {
              "outlinewidth": 0,
              "ticks": ""
             }
            },
            "type": "scatterpolargl"
           }
          ],
          "scatterternary": [
           {
            "marker": {
             "colorbar": {
              "outlinewidth": 0,
              "ticks": ""
             }
            },
            "type": "scatterternary"
           }
          ],
          "surface": [
           {
            "colorbar": {
             "outlinewidth": 0,
             "ticks": ""
            },
            "colorscale": [
             [
              0,
              "#0d0887"
             ],
             [
              0.1111111111111111,
              "#46039f"
             ],
             [
              0.2222222222222222,
              "#7201a8"
             ],
             [
              0.3333333333333333,
              "#9c179e"
             ],
             [
              0.4444444444444444,
              "#bd3786"
             ],
             [
              0.5555555555555556,
              "#d8576b"
             ],
             [
              0.6666666666666666,
              "#ed7953"
             ],
             [
              0.7777777777777778,
              "#fb9f3a"
             ],
             [
              0.8888888888888888,
              "#fdca26"
             ],
             [
              1,
              "#f0f921"
             ]
            ],
            "type": "surface"
           }
          ],
          "table": [
           {
            "cells": {
             "fill": {
              "color": "#EBF0F8"
             },
             "line": {
              "color": "white"
             }
            },
            "header": {
             "fill": {
              "color": "#C8D4E3"
             },
             "line": {
              "color": "white"
             }
            },
            "type": "table"
           }
          ]
         },
         "layout": {
          "annotationdefaults": {
           "arrowcolor": "#2a3f5f",
           "arrowhead": 0,
           "arrowwidth": 1
          },
          "autotypenumbers": "strict",
          "coloraxis": {
           "colorbar": {
            "outlinewidth": 0,
            "ticks": ""
           }
          },
          "colorscale": {
           "diverging": [
            [
             0,
             "#8e0152"
            ],
            [
             0.1,
             "#c51b7d"
            ],
            [
             0.2,
             "#de77ae"
            ],
            [
             0.3,
             "#f1b6da"
            ],
            [
             0.4,
             "#fde0ef"
            ],
            [
             0.5,
             "#f7f7f7"
            ],
            [
             0.6,
             "#e6f5d0"
            ],
            [
             0.7,
             "#b8e186"
            ],
            [
             0.8,
             "#7fbc41"
            ],
            [
             0.9,
             "#4d9221"
            ],
            [
             1,
             "#276419"
            ]
           ],
           "sequential": [
            [
             0,
             "#0d0887"
            ],
            [
             0.1111111111111111,
             "#46039f"
            ],
            [
             0.2222222222222222,
             "#7201a8"
            ],
            [
             0.3333333333333333,
             "#9c179e"
            ],
            [
             0.4444444444444444,
             "#bd3786"
            ],
            [
             0.5555555555555556,
             "#d8576b"
            ],
            [
             0.6666666666666666,
             "#ed7953"
            ],
            [
             0.7777777777777778,
             "#fb9f3a"
            ],
            [
             0.8888888888888888,
             "#fdca26"
            ],
            [
             1,
             "#f0f921"
            ]
           ],
           "sequentialminus": [
            [
             0,
             "#0d0887"
            ],
            [
             0.1111111111111111,
             "#46039f"
            ],
            [
             0.2222222222222222,
             "#7201a8"
            ],
            [
             0.3333333333333333,
             "#9c179e"
            ],
            [
             0.4444444444444444,
             "#bd3786"
            ],
            [
             0.5555555555555556,
             "#d8576b"
            ],
            [
             0.6666666666666666,
             "#ed7953"
            ],
            [
             0.7777777777777778,
             "#fb9f3a"
            ],
            [
             0.8888888888888888,
             "#fdca26"
            ],
            [
             1,
             "#f0f921"
            ]
           ]
          },
          "colorway": [
           "#636efa",
           "#EF553B",
           "#00cc96",
           "#ab63fa",
           "#FFA15A",
           "#19d3f3",
           "#FF6692",
           "#B6E880",
           "#FF97FF",
           "#FECB52"
          ],
          "font": {
           "color": "#2a3f5f"
          },
          "geo": {
           "bgcolor": "white",
           "lakecolor": "white",
           "landcolor": "#E5ECF6",
           "showlakes": true,
           "showland": true,
           "subunitcolor": "white"
          },
          "hoverlabel": {
           "align": "left"
          },
          "hovermode": "closest",
          "mapbox": {
           "style": "light"
          },
          "paper_bgcolor": "white",
          "plot_bgcolor": "#E5ECF6",
          "polar": {
           "angularaxis": {
            "gridcolor": "white",
            "linecolor": "white",
            "ticks": ""
           },
           "bgcolor": "#E5ECF6",
           "radialaxis": {
            "gridcolor": "white",
            "linecolor": "white",
            "ticks": ""
           }
          },
          "scene": {
           "xaxis": {
            "backgroundcolor": "#E5ECF6",
            "gridcolor": "white",
            "gridwidth": 2,
            "linecolor": "white",
            "showbackground": true,
            "ticks": "",
            "zerolinecolor": "white"
           },
           "yaxis": {
            "backgroundcolor": "#E5ECF6",
            "gridcolor": "white",
            "gridwidth": 2,
            "linecolor": "white",
            "showbackground": true,
            "ticks": "",
            "zerolinecolor": "white"
           },
           "zaxis": {
            "backgroundcolor": "#E5ECF6",
            "gridcolor": "white",
            "gridwidth": 2,
            "linecolor": "white",
            "showbackground": true,
            "ticks": "",
            "zerolinecolor": "white"
           }
          },
          "shapedefaults": {
           "line": {
            "color": "#2a3f5f"
           }
          },
          "ternary": {
           "aaxis": {
            "gridcolor": "white",
            "linecolor": "white",
            "ticks": ""
           },
           "baxis": {
            "gridcolor": "white",
            "linecolor": "white",
            "ticks": ""
           },
           "bgcolor": "#E5ECF6",
           "caxis": {
            "gridcolor": "white",
            "linecolor": "white",
            "ticks": ""
           }
          },
          "title": {
           "x": 0.05
          },
          "xaxis": {
           "automargin": true,
           "gridcolor": "white",
           "linecolor": "white",
           "ticks": "",
           "title": {
            "standoff": 15
           },
           "zerolinecolor": "white",
           "zerolinewidth": 2
          },
          "yaxis": {
           "automargin": true,
           "gridcolor": "white",
           "linecolor": "white",
           "ticks": "",
           "title": {
            "standoff": 15
           },
           "zerolinecolor": "white",
           "zerolinewidth": 2
          }
         }
        }
       }
      }
     },
     "metadata": {}
    }
   ],
   "metadata": {}
  },
  {
   "cell_type": "code",
   "execution_count": 46,
   "source": [
    "working_age = working_age.merge(gni_pcapita_growth, on = 'Year', how = 'right')"
   ],
   "outputs": [],
   "metadata": {}
  },
  {
   "cell_type": "code",
   "execution_count": 47,
   "source": [
    "working_age.head()"
   ],
   "outputs": [
    {
     "output_type": "execute_result",
     "data": {
      "text/plain": [
       "                                        SeriesName_x    SeriesCode_x  \\\n",
       "0  Age dependency ratio, young (% of working-age ...  SP.POP.DPND.YG   \n",
       "1  Age dependency ratio, young (% of working-age ...  SP.POP.DPND.YG   \n",
       "2  Age dependency ratio, young (% of working-age ...  SP.POP.DPND.YG   \n",
       "3  Age dependency ratio, young (% of working-age ...  SP.POP.DPND.YG   \n",
       "4  Age dependency ratio, young (% of working-age ...  SP.POP.DPND.YG   \n",
       "\n",
       "  CountryName_x CountryCode_x    Year    Value_x  \\\n",
       "0        Brazil           BRA  1971.0  76.588746   \n",
       "1        Brazil           BRA  1972.0  75.482549   \n",
       "2        Brazil           BRA  1973.0  74.318919   \n",
       "3        Brazil           BRA  1974.0  73.061335   \n",
       "4        Brazil           BRA  1975.0  71.724512   \n",
       "\n",
       "                       SeriesName_y       SeriesCode_y CountryName_y  \\\n",
       "0  GNI per capita growth (annual %)  NY.GNP.PCAP.KD.ZG        Brazil   \n",
       "1  GNI per capita growth (annual %)  NY.GNP.PCAP.KD.ZG        Brazil   \n",
       "2  GNI per capita growth (annual %)  NY.GNP.PCAP.KD.ZG        Brazil   \n",
       "3  GNI per capita growth (annual %)  NY.GNP.PCAP.KD.ZG        Brazil   \n",
       "4  GNI per capita growth (annual %)  NY.GNP.PCAP.KD.ZG        Brazil   \n",
       "\n",
       "  CountryCode_y    Value_y  \n",
       "0           BRA   8.975421  \n",
       "1           BRA   9.670938  \n",
       "2           BRA  10.937734  \n",
       "3           BRA   6.901292  \n",
       "4           BRA   2.177873  "
      ],
      "text/html": [
       "<div>\n",
       "<style scoped>\n",
       "    .dataframe tbody tr th:only-of-type {\n",
       "        vertical-align: middle;\n",
       "    }\n",
       "\n",
       "    .dataframe tbody tr th {\n",
       "        vertical-align: top;\n",
       "    }\n",
       "\n",
       "    .dataframe thead th {\n",
       "        text-align: right;\n",
       "    }\n",
       "</style>\n",
       "<table border=\"1\" class=\"dataframe\">\n",
       "  <thead>\n",
       "    <tr style=\"text-align: right;\">\n",
       "      <th></th>\n",
       "      <th>SeriesName_x</th>\n",
       "      <th>SeriesCode_x</th>\n",
       "      <th>CountryName_x</th>\n",
       "      <th>CountryCode_x</th>\n",
       "      <th>Year</th>\n",
       "      <th>Value_x</th>\n",
       "      <th>SeriesName_y</th>\n",
       "      <th>SeriesCode_y</th>\n",
       "      <th>CountryName_y</th>\n",
       "      <th>CountryCode_y</th>\n",
       "      <th>Value_y</th>\n",
       "    </tr>\n",
       "  </thead>\n",
       "  <tbody>\n",
       "    <tr>\n",
       "      <th>0</th>\n",
       "      <td>Age dependency ratio, young (% of working-age ...</td>\n",
       "      <td>SP.POP.DPND.YG</td>\n",
       "      <td>Brazil</td>\n",
       "      <td>BRA</td>\n",
       "      <td>1971.0</td>\n",
       "      <td>76.588746</td>\n",
       "      <td>GNI per capita growth (annual %)</td>\n",
       "      <td>NY.GNP.PCAP.KD.ZG</td>\n",
       "      <td>Brazil</td>\n",
       "      <td>BRA</td>\n",
       "      <td>8.975421</td>\n",
       "    </tr>\n",
       "    <tr>\n",
       "      <th>1</th>\n",
       "      <td>Age dependency ratio, young (% of working-age ...</td>\n",
       "      <td>SP.POP.DPND.YG</td>\n",
       "      <td>Brazil</td>\n",
       "      <td>BRA</td>\n",
       "      <td>1972.0</td>\n",
       "      <td>75.482549</td>\n",
       "      <td>GNI per capita growth (annual %)</td>\n",
       "      <td>NY.GNP.PCAP.KD.ZG</td>\n",
       "      <td>Brazil</td>\n",
       "      <td>BRA</td>\n",
       "      <td>9.670938</td>\n",
       "    </tr>\n",
       "    <tr>\n",
       "      <th>2</th>\n",
       "      <td>Age dependency ratio, young (% of working-age ...</td>\n",
       "      <td>SP.POP.DPND.YG</td>\n",
       "      <td>Brazil</td>\n",
       "      <td>BRA</td>\n",
       "      <td>1973.0</td>\n",
       "      <td>74.318919</td>\n",
       "      <td>GNI per capita growth (annual %)</td>\n",
       "      <td>NY.GNP.PCAP.KD.ZG</td>\n",
       "      <td>Brazil</td>\n",
       "      <td>BRA</td>\n",
       "      <td>10.937734</td>\n",
       "    </tr>\n",
       "    <tr>\n",
       "      <th>3</th>\n",
       "      <td>Age dependency ratio, young (% of working-age ...</td>\n",
       "      <td>SP.POP.DPND.YG</td>\n",
       "      <td>Brazil</td>\n",
       "      <td>BRA</td>\n",
       "      <td>1974.0</td>\n",
       "      <td>73.061335</td>\n",
       "      <td>GNI per capita growth (annual %)</td>\n",
       "      <td>NY.GNP.PCAP.KD.ZG</td>\n",
       "      <td>Brazil</td>\n",
       "      <td>BRA</td>\n",
       "      <td>6.901292</td>\n",
       "    </tr>\n",
       "    <tr>\n",
       "      <th>4</th>\n",
       "      <td>Age dependency ratio, young (% of working-age ...</td>\n",
       "      <td>SP.POP.DPND.YG</td>\n",
       "      <td>Brazil</td>\n",
       "      <td>BRA</td>\n",
       "      <td>1975.0</td>\n",
       "      <td>71.724512</td>\n",
       "      <td>GNI per capita growth (annual %)</td>\n",
       "      <td>NY.GNP.PCAP.KD.ZG</td>\n",
       "      <td>Brazil</td>\n",
       "      <td>BRA</td>\n",
       "      <td>2.177873</td>\n",
       "    </tr>\n",
       "  </tbody>\n",
       "</table>\n",
       "</div>"
      ]
     },
     "metadata": {},
     "execution_count": 47
    }
   ],
   "metadata": {}
  },
  {
   "cell_type": "code",
   "execution_count": 48,
   "source": [
    "import statsmodels.api as sm\n",
    "from scipy import stats\n",
    "\n",
    "hipot_X = infant_deaths['Value'].iloc[:]\n",
    "hipot_y = gva['Value'].iloc[:]\n",
    "\n",
    "hipot_X = hipot_X.reset_index(drop=True)\n",
    "hipot_y = hipot_y.reset_index(drop=True)\n",
    "\n",
    "est = sm.OLS(hipot_y, hipot_X)\n",
    "est2 = est.fit()\n",
    "print(est2.summary())"
   ],
   "outputs": [
    {
     "output_type": "stream",
     "name": "stdout",
     "text": [
      "                                 OLS Regression Results                                \n",
      "=======================================================================================\n",
      "Dep. Variable:                  Value   R-squared (uncentered):                   0.108\n",
      "Model:                            OLS   Adj. R-squared (uncentered):              0.090\n",
      "Method:                 Least Squares   F-statistic:                              5.944\n",
      "Date:                Thu, 29 Jul 2021   Prob (F-statistic):                      0.0184\n",
      "Time:                        22:18:09   Log-Likelihood:                         -1448.2\n",
      "No. Observations:                  50   AIC:                                      2898.\n",
      "Df Residuals:                      49   BIC:                                      2900.\n",
      "Df Model:                           1                                                  \n",
      "Covariance Type:            nonrobust                                                  \n",
      "==============================================================================\n",
      "                 coef    std err          t      P>|t|      [0.025      0.975]\n",
      "------------------------------------------------------------------------------\n",
      "Value       1.632e+06    6.7e+05      2.438      0.018    2.87e+05    2.98e+06\n",
      "==============================================================================\n",
      "Omnibus:                        6.483   Durbin-Watson:                   0.028\n",
      "Prob(Omnibus):                  0.039   Jarque-Bera (JB):                5.705\n",
      "Skew:                           0.741   Prob(JB):                       0.0577\n",
      "Kurtosis:                       2.264   Cond. No.                         1.00\n",
      "==============================================================================\n",
      "\n",
      "Notes:\n",
      "[1] R² is computed without centering (uncentered) since the model does not contain a constant.\n",
      "[2] Standard Errors assume that the covariance matrix of the errors is correctly specified.\n"
     ]
    }
   ],
   "metadata": {}
  },
  {
   "cell_type": "markdown",
   "source": [
    ">- A partir dessas informações é possivel refutar a hipotese nula;"
   ],
   "metadata": {}
  },
  {
   "cell_type": "code",
   "execution_count": 49,
   "source": [
    "sns.regplot(x = gva['Value'], y = infant_deaths['Value'])"
   ],
   "outputs": [
    {
     "output_type": "execute_result",
     "data": {
      "text/plain": [
       "<AxesSubplot:xlabel='Value', ylabel='Value'>"
      ]
     },
     "metadata": {},
     "execution_count": 49
    },
    {
     "output_type": "display_data",
     "data": {
      "text/plain": [
       "<Figure size 432x288 with 1 Axes>"
      ],
      "image/png": "[encoded data removed]"
     },
     "metadata": {
      "needs_background": "light"
     }
    }
   ],
   "metadata": {}
  }
 ],
 "metadata": {
  "interpreter": {
   "hash": "eec8eac285937831eaf55a324af314c8014d3f32e7d5b9fc0a7fa4a8002b4eb4"
  },
  "kernelspec": {
   "name": "python3",
   "display_name": "Python 3.7.6 64-bit ('base': conda)"
  },
  "language_info": {
   "name": "python",
   "version": "3.7.6",
   "mimetype": "text/x-python",
   "codemirror_mode": {
    "name": "ipython",
    "version": 3
   },
   "pygments_lexer": "ipython3",
   "nbconvert_exporter": "python",
   "file_extension": ".py"
  }
 },
 "nbformat": 4,
 "nbformat_minor": 2
}