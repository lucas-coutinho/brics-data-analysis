{
 "cells": [
  {
   "cell_type": "code",
   "execution_count": 137,
   "source": [
    "import pandas as pd\n",
    "import numpy as np\n",
    "import matplotlib.pyplot as plt\n",
    "import plotly.express as px\n",
    "import plotly.graph_objects as go\n",
    "from sklearn import preprocessing\n",
    "import seaborn as sns"
   ],
   "outputs": [],
   "metadata": {}
  },
  {
   "cell_type": "code",
   "execution_count": 138,
   "source": [
    "path_data = 'data/Economy_Data.csv'\n",
    "path_target = 'data/HealthAndPoverty_Data.csv'\n",
    "\n",
    "X = pd.read_csv(path_data, sep=';')\n",
    "y = pd.read_csv(path_target, sep=';')"
   ],
   "outputs": [],
   "metadata": {}
  },
  {
   "cell_type": "markdown",
   "source": [
    "# Limpando dados"
   ],
   "metadata": {}
  },
  {
   "cell_type": "code",
   "execution_count": 139,
   "source": [
    "X = X[~X['Value'].isna()] # dropping all rows with NaN values\n",
    "y = y[~y['Value'].isna()] # dropping all rows with NaN values"
   ],
   "outputs": [],
   "metadata": {}
  },
  {
   "cell_type": "code",
   "execution_count": 4,
   "source": [
    "X['SeriesName']"
   ],
   "outputs": [
    {
     "output_type": "execute_result",
     "data": {
      "text/plain": [
       "5        Adjusted net national income (constant 2010 US$)\n",
       "7        Adjusted net national income (constant 2010 US$)\n",
       "10             Adjusted net national income (current US$)\n",
       "11             Adjusted net national income (current US$)\n",
       "12             Adjusted net national income (current US$)\n",
       "                               ...                       \n",
       "86490                Use of IMF credit (DOD, current US$)\n",
       "86491                Use of IMF credit (DOD, current US$)\n",
       "86492                Use of IMF credit (DOD, current US$)\n",
       "86493                Use of IMF credit (DOD, current US$)\n",
       "86494                Use of IMF credit (DOD, current US$)\n",
       "Name: SeriesName, Length: 60348, dtype: object"
      ]
     },
     "metadata": {},
     "execution_count": 4
    }
   ],
   "metadata": {}
  },
  {
   "cell_type": "markdown",
   "source": [
    "## Primeira ideia:\n",
    "* Feature selection (ver a coluna Series Name - pra depois agrupamento por ano)\n",
    "\n",
    "## Nova ideia:\n",
    "* Utilizar os dados em X pra prever cada `SeriesName` de forma separada.\n",
    "* Aparentemente ha poucos em Y\n"
   ],
   "metadata": {}
  },
  {
   "cell_type": "markdown",
   "source": [
    "## ATENCAO \n",
    "Adicionei abaixo  uma transformacao das features em onehot, mas ainda nao sei como combinar todas no agg (talvez eu mantenha em sum)"
   ],
   "metadata": {}
  },
  {
   "cell_type": "code",
   "execution_count": 5,
   "source": [
    "one_hot = pd.get_dummies(X['SeriesName'])\n",
    "X = X.drop('SeriesName', axis=1)\n",
    "X = X.join(one_hot)"
   ],
   "outputs": [],
   "metadata": {}
  },
  {
   "cell_type": "code",
   "execution_count": 7,
   "source": [
    "X.head()"
   ],
   "outputs": [
    {
     "output_type": "execute_result",
     "data": {
      "text/plain": [
       "        SeriesCode CountryName CountryCode    Year         Value  \\\n",
       "5   NY.ADJ.NNTY.KD      Brazil         BRA  1970.0  3.918974e+11   \n",
       "7   NY.ADJ.NNTY.KD       India         IND  1970.0  1.915335e+11   \n",
       "10  NY.ADJ.NNTY.CD      Brazil         BRA  1970.0  3.786021e+10   \n",
       "11  NY.ADJ.NNTY.CD       China         CHN  1970.0  8.525561e+10   \n",
       "12  NY.ADJ.NNTY.CD       India         IND  1970.0  5.776720e+10   \n",
       "\n",
       "    Adjusted net national income (annual % growth)  \\\n",
       "5                                                0   \n",
       "7                                                0   \n",
       "10                                               0   \n",
       "11                                               0   \n",
       "12                                               0   \n",
       "\n",
       "    Adjusted net national income (constant 2010 US$)  \\\n",
       "5                                                  1   \n",
       "7                                                  1   \n",
       "10                                                 0   \n",
       "11                                                 0   \n",
       "12                                                 0   \n",
       "\n",
       "    Adjusted net national income (current US$)  \\\n",
       "5                                            0   \n",
       "7                                            0   \n",
       "10                                           1   \n",
       "11                                           1   \n",
       "12                                           1   \n",
       "\n",
       "    Adjusted net national income per capita (annual % growth)  \\\n",
       "5                                                   0           \n",
       "7                                                   0           \n",
       "10                                                  0           \n",
       "11                                                  0           \n",
       "12                                                  0           \n",
       "\n",
       "    Adjusted net national income per capita (constant 2010 US$)  ...  \\\n",
       "5                                                   0            ...   \n",
       "7                                                   0            ...   \n",
       "10                                                  0            ...   \n",
       "11                                                  0            ...   \n",
       "12                                                  0            ...   \n",
       "\n",
       "    Total reserves (includes gold, current US$)  \\\n",
       "5                                             0   \n",
       "7                                             0   \n",
       "10                                            0   \n",
       "11                                            0   \n",
       "12                                            0   \n",
       "\n",
       "    Total reserves in months of imports  \\\n",
       "5                                     0   \n",
       "7                                     0   \n",
       "10                                    0   \n",
       "11                                    0   \n",
       "12                                    0   \n",
       "\n",
       "    Total reserves minus gold (current US$)  Trade (% of GDP)  \\\n",
       "5                                         0                 0   \n",
       "7                                         0                 0   \n",
       "10                                        0                 0   \n",
       "11                                        0                 0   \n",
       "12                                        0                 0   \n",
       "\n",
       "    Trade in services (% of GDP)  \\\n",
       "5                              0   \n",
       "7                              0   \n",
       "10                             0   \n",
       "11                             0   \n",
       "12                             0   \n",
       "\n",
       "    Transport services (% of service exports, BoP)  \\\n",
       "5                                                0   \n",
       "7                                                0   \n",
       "10                                               0   \n",
       "11                                               0   \n",
       "12                                               0   \n",
       "\n",
       "    Transport services (% of service imports, BoP)  \\\n",
       "5                                                0   \n",
       "7                                                0   \n",
       "10                                               0   \n",
       "11                                               0   \n",
       "12                                               0   \n",
       "\n",
       "    Travel services (% of service exports, BoP)  \\\n",
       "5                                             0   \n",
       "7                                             0   \n",
       "10                                            0   \n",
       "11                                            0   \n",
       "12                                            0   \n",
       "\n",
       "    Travel services (% of service imports, BoP)  \\\n",
       "5                                             0   \n",
       "7                                             0   \n",
       "10                                            0   \n",
       "11                                            0   \n",
       "12                                            0   \n",
       "\n",
       "    Use of IMF credit (DOD, current US$)  \n",
       "5                                      0  \n",
       "7                                      0  \n",
       "10                                     0  \n",
       "11                                     0  \n",
       "12                                     0  \n",
       "\n",
       "[5 rows x 337 columns]"
      ],
      "text/html": [
       "<div>\n",
       "<style scoped>\n",
       "    .dataframe tbody tr th:only-of-type {\n",
       "        vertical-align: middle;\n",
       "    }\n",
       "\n",
       "    .dataframe tbody tr th {\n",
       "        vertical-align: top;\n",
       "    }\n",
       "\n",
       "    .dataframe thead th {\n",
       "        text-align: right;\n",
       "    }\n",
       "</style>\n",
       "<table border=\"1\" class=\"dataframe\">\n",
       "  <thead>\n",
       "    <tr style=\"text-align: right;\">\n",
       "      <th></th>\n",
       "      <th>SeriesCode</th>\n",
       "      <th>CountryName</th>\n",
       "      <th>CountryCode</th>\n",
       "      <th>Year</th>\n",
       "      <th>Value</th>\n",
       "      <th>Adjusted net national income (annual % growth)</th>\n",
       "      <th>Adjusted net national income (constant 2010 US$)</th>\n",
       "      <th>Adjusted net national income (current US$)</th>\n",
       "      <th>Adjusted net national income per capita (annual % growth)</th>\n",
       "      <th>Adjusted net national income per capita (constant 2010 US$)</th>\n",
       "      <th>...</th>\n",
       "      <th>Total reserves (includes gold, current US$)</th>\n",
       "      <th>Total reserves in months of imports</th>\n",
       "      <th>Total reserves minus gold (current US$)</th>\n",
       "      <th>Trade (% of GDP)</th>\n",
       "      <th>Trade in services (% of GDP)</th>\n",
       "      <th>Transport services (% of service exports, BoP)</th>\n",
       "      <th>Transport services (% of service imports, BoP)</th>\n",
       "      <th>Travel services (% of service exports, BoP)</th>\n",
       "      <th>Travel services (% of service imports, BoP)</th>\n",
       "      <th>Use of IMF credit (DOD, current US$)</th>\n",
       "    </tr>\n",
       "  </thead>\n",
       "  <tbody>\n",
       "    <tr>\n",
       "      <th>5</th>\n",
       "      <td>NY.ADJ.NNTY.KD</td>\n",
       "      <td>Brazil</td>\n",
       "      <td>BRA</td>\n",
       "      <td>1970.0</td>\n",
       "      <td>3.918974e+11</td>\n",
       "      <td>0</td>\n",
       "      <td>1</td>\n",
       "      <td>0</td>\n",
       "      <td>0</td>\n",
       "      <td>0</td>\n",
       "      <td>...</td>\n",
       "      <td>0</td>\n",
       "      <td>0</td>\n",
       "      <td>0</td>\n",
       "      <td>0</td>\n",
       "      <td>0</td>\n",
       "      <td>0</td>\n",
       "      <td>0</td>\n",
       "      <td>0</td>\n",
       "      <td>0</td>\n",
       "      <td>0</td>\n",
       "    </tr>\n",
       "    <tr>\n",
       "      <th>7</th>\n",
       "      <td>NY.ADJ.NNTY.KD</td>\n",
       "      <td>India</td>\n",
       "      <td>IND</td>\n",
       "      <td>1970.0</td>\n",
       "      <td>1.915335e+11</td>\n",
       "      <td>0</td>\n",
       "      <td>1</td>\n",
       "      <td>0</td>\n",
       "      <td>0</td>\n",
       "      <td>0</td>\n",
       "      <td>...</td>\n",
       "      <td>0</td>\n",
       "      <td>0</td>\n",
       "      <td>0</td>\n",
       "      <td>0</td>\n",
       "      <td>0</td>\n",
       "      <td>0</td>\n",
       "      <td>0</td>\n",
       "      <td>0</td>\n",
       "      <td>0</td>\n",
       "      <td>0</td>\n",
       "    </tr>\n",
       "    <tr>\n",
       "      <th>10</th>\n",
       "      <td>NY.ADJ.NNTY.CD</td>\n",
       "      <td>Brazil</td>\n",
       "      <td>BRA</td>\n",
       "      <td>1970.0</td>\n",
       "      <td>3.786021e+10</td>\n",
       "      <td>0</td>\n",
       "      <td>0</td>\n",
       "      <td>1</td>\n",
       "      <td>0</td>\n",
       "      <td>0</td>\n",
       "      <td>...</td>\n",
       "      <td>0</td>\n",
       "      <td>0</td>\n",
       "      <td>0</td>\n",
       "      <td>0</td>\n",
       "      <td>0</td>\n",
       "      <td>0</td>\n",
       "      <td>0</td>\n",
       "      <td>0</td>\n",
       "      <td>0</td>\n",
       "      <td>0</td>\n",
       "    </tr>\n",
       "    <tr>\n",
       "      <th>11</th>\n",
       "      <td>NY.ADJ.NNTY.CD</td>\n",
       "      <td>China</td>\n",
       "      <td>CHN</td>\n",
       "      <td>1970.0</td>\n",
       "      <td>8.525561e+10</td>\n",
       "      <td>0</td>\n",
       "      <td>0</td>\n",
       "      <td>1</td>\n",
       "      <td>0</td>\n",
       "      <td>0</td>\n",
       "      <td>...</td>\n",
       "      <td>0</td>\n",
       "      <td>0</td>\n",
       "      <td>0</td>\n",
       "      <td>0</td>\n",
       "      <td>0</td>\n",
       "      <td>0</td>\n",
       "      <td>0</td>\n",
       "      <td>0</td>\n",
       "      <td>0</td>\n",
       "      <td>0</td>\n",
       "    </tr>\n",
       "    <tr>\n",
       "      <th>12</th>\n",
       "      <td>NY.ADJ.NNTY.CD</td>\n",
       "      <td>India</td>\n",
       "      <td>IND</td>\n",
       "      <td>1970.0</td>\n",
       "      <td>5.776720e+10</td>\n",
       "      <td>0</td>\n",
       "      <td>0</td>\n",
       "      <td>1</td>\n",
       "      <td>0</td>\n",
       "      <td>0</td>\n",
       "      <td>...</td>\n",
       "      <td>0</td>\n",
       "      <td>0</td>\n",
       "      <td>0</td>\n",
       "      <td>0</td>\n",
       "      <td>0</td>\n",
       "      <td>0</td>\n",
       "      <td>0</td>\n",
       "      <td>0</td>\n",
       "      <td>0</td>\n",
       "      <td>0</td>\n",
       "    </tr>\n",
       "  </tbody>\n",
       "</table>\n",
       "<p>5 rows × 337 columns</p>\n",
       "</div>"
      ]
     },
     "metadata": {},
     "execution_count": 7
    }
   ],
   "metadata": {}
  },
  {
   "cell_type": "markdown",
   "source": [
    ">- Como ideia aqui sugiro contar o número de análises que foram aplicadas aos países. Contar a incidência de dummies para cada ano, e a partir daí ver a evolução das análises empregadas ao longo do tempo.\n",
    ">- Outra ideia seria montar um dataframe único onde são agregados os dados de `X` e `y`, cruzando indices históricos de cada nação afim de definir possíveis relações entre as variáveis."
   ],
   "metadata": {}
  },
  {
   "cell_type": "markdown",
   "source": [
    "## Resultados\n",
    "* Ficou horrivel o regressor dessa forma (talvez tenhamos que fazer de maneiras mais simples), e.g.:\n",
    "    - selecionar um `SeriesName` de X e um de y e criar uma hipotese em cima"
   ],
   "metadata": {}
  },
  {
   "cell_type": "markdown",
   "source": [],
   "metadata": {}
  },
  {
   "cell_type": "code",
   "execution_count": null,
   "source": [],
   "outputs": [],
   "metadata": {}
  },
  {
   "cell_type": "markdown",
   "source": [
    "## África do Sul\n",
    "---"
   ],
   "metadata": {}
  },
  {
   "cell_type": "code",
   "execution_count": 145,
   "source": [
    "X_zaf = X[X['CountryCode'] == 'ZAF'].copy()"
   ],
   "outputs": [],
   "metadata": {}
  },
  {
   "cell_type": "code",
   "execution_count": 146,
   "source": [
    "y_zaf = y[y['CountryCode'] == 'ZAF'].copy()"
   ],
   "outputs": [],
   "metadata": {}
  },
  {
   "cell_type": "markdown",
   "source": [
    "## Rússia\n",
    "---"
   ],
   "metadata": {}
  },
  {
   "cell_type": "code",
   "execution_count": 147,
   "source": [
    "X_rus = X[X['CountryCode'] == 'RUS'].copy()"
   ],
   "outputs": [],
   "metadata": {}
  },
  {
   "cell_type": "code",
   "execution_count": 148,
   "source": [
    "y_rus = y[y['CountryCode'] == 'RUS'].copy()"
   ],
   "outputs": [],
   "metadata": {}
  },
  {
   "cell_type": "markdown",
   "source": [
    "## India\n",
    "---"
   ],
   "metadata": {}
  },
  {
   "cell_type": "code",
   "execution_count": 149,
   "source": [
    "X_ind = X[X['CountryCode'] == 'IND'].copy()"
   ],
   "outputs": [],
   "metadata": {}
  },
  {
   "cell_type": "code",
   "execution_count": 150,
   "source": [
    "y_ind = y[y['CountryCode'] == 'IND'].copy()"
   ],
   "outputs": [],
   "metadata": {}
  },
  {
   "cell_type": "markdown",
   "source": [
    "## Brasil\n",
    "---"
   ],
   "metadata": {}
  },
  {
   "cell_type": "code",
   "execution_count": 151,
   "source": [
    "X_br = X[X['CountryCode'] == 'BRA'].copy()"
   ],
   "outputs": [],
   "metadata": {}
  },
  {
   "cell_type": "code",
   "execution_count": 152,
   "source": [
    "y_br = y[y['CountryCode'] == 'BRA'].copy()"
   ],
   "outputs": [],
   "metadata": {}
  },
  {
   "cell_type": "code",
   "execution_count": 7,
   "source": [
    "y_br"
   ],
   "outputs": [
    {
     "output_type": "execute_result",
     "data": {
      "text/plain": [
       "                                              SeriesName      SeriesCode  \\\n",
       "0      Adolescent fertility rate (births per 1,000 wo...     SP.ADO.TFRT   \n",
       "15     Age dependency ratio (% of working-age populat...     SP.POP.DPND   \n",
       "20     Age dependency ratio, old (% of working-age po...  SP.POP.DPND.OL   \n",
       "25     Age dependency ratio, young (% of working-age ...  SP.POP.DPND.YG   \n",
       "55                  Birth rate, crude (per 1,000 people)  SP.DYN.CBRT.IN   \n",
       "...                                                  ...             ...   \n",
       "69210  Prevalence of HIV, total (% of population ages...  SH.DYN.AIDS.ZS   \n",
       "69305  Probability of dying among adolescents ages 10...     SH.DYN.1014   \n",
       "69310  Probability of dying among adolescents ages 15...     SH.DYN.1519   \n",
       "69315  Probability of dying among children ages 5-9 y...     SH.DYN.0509   \n",
       "69320  Probability of dying among youth ages 20-24 ye...     SH.DYN.2024   \n",
       "\n",
       "      CountryName CountryCode    Year      Value  \n",
       "0          Brazil         BRA  1970.0  77.118400  \n",
       "15         Brazil         BRA  1970.0  83.980449  \n",
       "20         Brazil         BRA  1970.0   6.318839  \n",
       "25         Brazil         BRA  1970.0  77.661610  \n",
       "55         Brazil         BRA  1970.0  35.116000  \n",
       "...           ...         ...     ...        ...  \n",
       "69210      Brazil         BRA  2019.0   0.500000  \n",
       "69305      Brazil         BRA  2019.0   1.400000  \n",
       "69310      Brazil         BRA  2019.0   5.800000  \n",
       "69315      Brazil         BRA  2019.0   1.000000  \n",
       "69320      Brazil         BRA  2019.0   7.900000  \n",
       "\n",
       "[6289 rows x 6 columns]"
      ],
      "text/html": [
       "<div>\n",
       "<style scoped>\n",
       "    .dataframe tbody tr th:only-of-type {\n",
       "        vertical-align: middle;\n",
       "    }\n",
       "\n",
       "    .dataframe tbody tr th {\n",
       "        vertical-align: top;\n",
       "    }\n",
       "\n",
       "    .dataframe thead th {\n",
       "        text-align: right;\n",
       "    }\n",
       "</style>\n",
       "<table border=\"1\" class=\"dataframe\">\n",
       "  <thead>\n",
       "    <tr style=\"text-align: right;\">\n",
       "      <th></th>\n",
       "      <th>SeriesName</th>\n",
       "      <th>SeriesCode</th>\n",
       "      <th>CountryName</th>\n",
       "      <th>CountryCode</th>\n",
       "      <th>Year</th>\n",
       "      <th>Value</th>\n",
       "    </tr>\n",
       "  </thead>\n",
       "  <tbody>\n",
       "    <tr>\n",
       "      <th>0</th>\n",
       "      <td>Adolescent fertility rate (births per 1,000 wo...</td>\n",
       "      <td>SP.ADO.TFRT</td>\n",
       "      <td>Brazil</td>\n",
       "      <td>BRA</td>\n",
       "      <td>1970.0</td>\n",
       "      <td>77.118400</td>\n",
       "    </tr>\n",
       "    <tr>\n",
       "      <th>15</th>\n",
       "      <td>Age dependency ratio (% of working-age populat...</td>\n",
       "      <td>SP.POP.DPND</td>\n",
       "      <td>Brazil</td>\n",
       "      <td>BRA</td>\n",
       "      <td>1970.0</td>\n",
       "      <td>83.980449</td>\n",
       "    </tr>\n",
       "    <tr>\n",
       "      <th>20</th>\n",
       "      <td>Age dependency ratio, old (% of working-age po...</td>\n",
       "      <td>SP.POP.DPND.OL</td>\n",
       "      <td>Brazil</td>\n",
       "      <td>BRA</td>\n",
       "      <td>1970.0</td>\n",
       "      <td>6.318839</td>\n",
       "    </tr>\n",
       "    <tr>\n",
       "      <th>25</th>\n",
       "      <td>Age dependency ratio, young (% of working-age ...</td>\n",
       "      <td>SP.POP.DPND.YG</td>\n",
       "      <td>Brazil</td>\n",
       "      <td>BRA</td>\n",
       "      <td>1970.0</td>\n",
       "      <td>77.661610</td>\n",
       "    </tr>\n",
       "    <tr>\n",
       "      <th>55</th>\n",
       "      <td>Birth rate, crude (per 1,000 people)</td>\n",
       "      <td>SP.DYN.CBRT.IN</td>\n",
       "      <td>Brazil</td>\n",
       "      <td>BRA</td>\n",
       "      <td>1970.0</td>\n",
       "      <td>35.116000</td>\n",
       "    </tr>\n",
       "    <tr>\n",
       "      <th>...</th>\n",
       "      <td>...</td>\n",
       "      <td>...</td>\n",
       "      <td>...</td>\n",
       "      <td>...</td>\n",
       "      <td>...</td>\n",
       "      <td>...</td>\n",
       "    </tr>\n",
       "    <tr>\n",
       "      <th>69210</th>\n",
       "      <td>Prevalence of HIV, total (% of population ages...</td>\n",
       "      <td>SH.DYN.AIDS.ZS</td>\n",
       "      <td>Brazil</td>\n",
       "      <td>BRA</td>\n",
       "      <td>2019.0</td>\n",
       "      <td>0.500000</td>\n",
       "    </tr>\n",
       "    <tr>\n",
       "      <th>69305</th>\n",
       "      <td>Probability of dying among adolescents ages 10...</td>\n",
       "      <td>SH.DYN.1014</td>\n",
       "      <td>Brazil</td>\n",
       "      <td>BRA</td>\n",
       "      <td>2019.0</td>\n",
       "      <td>1.400000</td>\n",
       "    </tr>\n",
       "    <tr>\n",
       "      <th>69310</th>\n",
       "      <td>Probability of dying among adolescents ages 15...</td>\n",
       "      <td>SH.DYN.1519</td>\n",
       "      <td>Brazil</td>\n",
       "      <td>BRA</td>\n",
       "      <td>2019.0</td>\n",
       "      <td>5.800000</td>\n",
       "    </tr>\n",
       "    <tr>\n",
       "      <th>69315</th>\n",
       "      <td>Probability of dying among children ages 5-9 y...</td>\n",
       "      <td>SH.DYN.0509</td>\n",
       "      <td>Brazil</td>\n",
       "      <td>BRA</td>\n",
       "      <td>2019.0</td>\n",
       "      <td>1.000000</td>\n",
       "    </tr>\n",
       "    <tr>\n",
       "      <th>69320</th>\n",
       "      <td>Probability of dying among youth ages 20-24 ye...</td>\n",
       "      <td>SH.DYN.2024</td>\n",
       "      <td>Brazil</td>\n",
       "      <td>BRA</td>\n",
       "      <td>2019.0</td>\n",
       "      <td>7.900000</td>\n",
       "    </tr>\n",
       "  </tbody>\n",
       "</table>\n",
       "<p>6289 rows × 6 columns</p>\n",
       "</div>"
      ]
     },
     "metadata": {},
     "execution_count": 7
    }
   ],
   "metadata": {}
  },
  {
   "cell_type": "code",
   "execution_count": 8,
   "source": [
    "test = y_br['SeriesName'].value_counts()\n",
    "test2 = X_br['SeriesName'].value_counts()"
   ],
   "outputs": [],
   "metadata": {}
  },
  {
   "cell_type": "code",
   "execution_count": 53,
   "source": [
    "test[test >= 50].index"
   ],
   "outputs": [
    {
     "output_type": "execute_result",
     "data": {
      "text/plain": [
       "Index(['Population ages 65 and above (% of total population)',\n",
       "       'Population ages 20-24, male (% of male population)',\n",
       "       'Population ages 65 and above, male',\n",
       "       'Population ages 75-79, male (% of male population)',\n",
       "       'Population ages 30-34, male (% of male population)',\n",
       "       'Population ages 30-34, female (% of female population)',\n",
       "       'Population ages 65 and above, female', 'Population ages 0-14, male',\n",
       "       'Population ages 0-14, total',\n",
       "       'Population ages 50-54, male (% of male population)',\n",
       "       'Population ages 35-39, female (% of female population)',\n",
       "       'Population ages 05-09, male (% of male population)',\n",
       "       'Age dependency ratio (% of working-age population)',\n",
       "       'Population, total',\n",
       "       'Population ages 15-19, male (% of male population)',\n",
       "       'Mortality rate, under-5, female (per 1,000 live births)',\n",
       "       'Population ages 25-29, female (% of female population)',\n",
       "       'Population ages 0-14, female',\n",
       "       'Population ages 05-09, female (% of female population)',\n",
       "       'Population ages 70-74, female (% of female population)',\n",
       "       'Population ages 80 and above, female (% of female population)',\n",
       "       'Mortality rate, under-5 (per 1,000 live births)',\n",
       "       'Population ages 15-64 (% of total population)',\n",
       "       'Number of infant deaths',\n",
       "       'Age dependency ratio, old (% of working-age population)',\n",
       "       'Population ages 70-74, male (% of male population)',\n",
       "       'Population, male (% of total population)',\n",
       "       'Population ages 15-64, female', 'Population ages 15-64, total',\n",
       "       'Population ages 0-14 (% of total population)',\n",
       "       'Population ages 0-14, male (% of male population)',\n",
       "       'Population ages 45-49, female (% of female population)',\n",
       "       'Population, female (% of total population)',\n",
       "       'Population ages 45-49, male (% of male population)',\n",
       "       'Age dependency ratio, young (% of working-age population)',\n",
       "       'Population ages 40-44, female (% of female population)',\n",
       "       'Mortality rate, infant, female (per 1,000 live births)',\n",
       "       'Population growth (annual %)',\n",
       "       'Population ages 50-54, female (% of female population)',\n",
       "       'Population ages 15-64, male',\n",
       "       'Population ages 40-44, male (% of male population)',\n",
       "       'Population ages 25-29, male (% of male population)',\n",
       "       'Population ages 55-59, male (% of male population)',\n",
       "       'Population ages 55-59, female (% of female population)',\n",
       "       'Population ages 80 and above, male (% of male population)',\n",
       "       'Population ages 65-69, male (% of male population)',\n",
       "       'Population ages 15-19, female (% of female population)',\n",
       "       'Population ages 35-39, male (% of male population)',\n",
       "       'Population ages 10-14, female (% of female population)',\n",
       "       'Population ages 65-69, female (% of female population)',\n",
       "       'Population ages 65 and above, total',\n",
       "       'Population ages 60-64, female (% of female population)',\n",
       "       'Mortality rate, neonatal (per 1,000 live births)',\n",
       "       'Population ages 10-14, male (% of male population)',\n",
       "       'Population ages 20-24, female (% of female population)',\n",
       "       'Population ages 00-04, female (% of female population)',\n",
       "       'Population ages 60-64, male (% of male population)',\n",
       "       'Population ages 0-14, female (% of female population)',\n",
       "       'Population ages 15-64, female (% of female population)',\n",
       "       'Mortality rate, infant (per 1,000 live births)',\n",
       "       'Number of under-five deaths', 'Population, male',\n",
       "       'Population ages 75-79, female (% of female population)',\n",
       "       'Population, female',\n",
       "       'Population ages 15-64, male (% of male population)',\n",
       "       'Number of neonatal deaths',\n",
       "       'Population ages 65 and above, male (% of male population)',\n",
       "       'Mortality rate, infant, male (per 1,000 live births)',\n",
       "       'Mortality rate, under-5, male (per 1,000 live births)',\n",
       "       'Population ages 00-04, male (% of male population)',\n",
       "       'Population ages 65 and above, female (% of female population)'],\n",
       "      dtype='object')"
      ]
     },
     "metadata": {},
     "execution_count": 53
    }
   ],
   "metadata": {}
  },
  {
   "cell_type": "code",
   "execution_count": 98,
   "source": [
    "#X_br['SeriesName'].unique()[X_br['SeriesName'].unique().apply(lambda x: 'Adjusted' in x)]\n",
    "\n",
    "X_br['SeriesName'][X_br['SeriesName'].apply(lambda x: 'per capita' in x)].unique()"
   ],
   "outputs": [
    {
     "output_type": "execute_result",
     "data": {
      "text/plain": [
       "array(['Adjusted net national income per capita (constant 2010 US$)',\n",
       "       'Adjusted net national income per capita (current US$)',\n",
       "       'GDP per capita (constant 2010 US$)',\n",
       "       'GDP per capita (constant LCU)', 'GDP per capita (current LCU)',\n",
       "       'GDP per capita (current US$)', 'GDP per capita growth (annual %)',\n",
       "       'GNI per capita (constant 2010 US$)',\n",
       "       'GNI per capita (constant LCU)', 'GNI per capita (current LCU)',\n",
       "       'GNI per capita, Atlas method (current US$)',\n",
       "       'Households and NPISHs Final consumption expenditure per capita (constant 2010 US$)',\n",
       "       'Households and NPISHs Final consumption expenditure per capita growth (annual %)',\n",
       "       'Net ODA received per capita (current US$)',\n",
       "       'Adjusted net national income per capita (annual % growth)',\n",
       "       'GNI per capita growth (annual %)',\n",
       "       'GDP per capita, PPP (constant 2017 international $)',\n",
       "       'GDP per capita, PPP (current international $)',\n",
       "       'GNI per capita, PPP (constant 2017 international $)',\n",
       "       'GNI per capita, PPP (current international $)'], dtype=object)"
      ]
     },
     "metadata": {},
     "execution_count": 98
    }
   ],
   "metadata": {}
  },
  {
   "cell_type": "code",
   "execution_count": 40,
   "source": [
    "test2[test2 >= 50].index"
   ],
   "outputs": [
    {
     "output_type": "execute_result",
     "data": {
      "text/plain": [
       "Index(['Gross capital formation (current US$)',\n",
       "       'Total reserves (includes gold, current US$)',\n",
       "       'Gross national expenditure (% of GDP)',\n",
       "       'Changes in inventories (constant LCU)', 'GDP (current LCU)',\n",
       "       'Households and NPISHs Final consumption expenditure (current LCU)',\n",
       "       'Total reserves minus gold (current US$)',\n",
       "       'Gross capital formation (% of GDP)',\n",
       "       'Net primary income (Net income from abroad) (current US$)',\n",
       "       'Final consumption expenditure (constant 2010 US$)',\n",
       "       ...\n",
       "       'Final consumption expenditure (current US$)',\n",
       "       'Final consumption expenditure (current LCU)',\n",
       "       'Multilateral debt service (% of public and publicly guaranteed debt service)',\n",
       "       'Net financial flows, IBRD (NFL, current US$)',\n",
       "       'External balance on goods and services (% of GDP)',\n",
       "       'Gross fixed capital formation (current US$)',\n",
       "       'Gross fixed capital formation (constant LCU)',\n",
       "       'Gross value added at basic prices (GVA) (current US$)',\n",
       "       'General government final consumption expenditure (current LCU)',\n",
       "       'Gross capital formation (current LCU)'],\n",
       "      dtype='object', length=137)"
      ]
     },
     "metadata": {},
     "execution_count": 40
    }
   ],
   "metadata": {}
  },
  {
   "cell_type": "code",
   "execution_count": 47,
   "source": [
    "cobert_hiv_treatment = y_br[y_br['SeriesName'] == 'Antiretroviral therapy coverage (% of people living with HIV)']"
   ],
   "outputs": [],
   "metadata": {}
  },
  {
   "cell_type": "code",
   "execution_count": 25,
   "source": [
    "gva = X_br[X_br['SeriesName'] ==  'Gross value added at basic prices (GVA) (current US$)']\n"
   ],
   "outputs": [],
   "metadata": {}
  },
  {
   "cell_type": "code",
   "execution_count": 27,
   "source": [
    "gva.head()"
   ],
   "outputs": [
    {
     "output_type": "execute_result",
     "data": {
      "text/plain": [
       "                                             SeriesName      SeriesCode  \\\n",
       "775   Gross value added at basic prices (GVA) (curre...  NY.GDP.FCST.CD   \n",
       "2505  Gross value added at basic prices (GVA) (curre...  NY.GDP.FCST.CD   \n",
       "4235  Gross value added at basic prices (GVA) (curre...  NY.GDP.FCST.CD   \n",
       "5965  Gross value added at basic prices (GVA) (curre...  NY.GDP.FCST.CD   \n",
       "7695  Gross value added at basic prices (GVA) (curre...  NY.GDP.FCST.CD   \n",
       "\n",
       "     CountryName CountryCode    Year         Value  \n",
       "775       Brazil         BRA  1970.0  3.556752e+10  \n",
       "2505      Brazil         BRA  1971.0  4.214448e+10  \n",
       "4235      Brazil         BRA  1972.0  4.986391e+10  \n",
       "5965      Brazil         BRA  1973.0  6.793320e+10  \n",
       "7695      Brazil         BRA  1974.0  9.137394e+10  "
      ],
      "text/html": [
       "<div>\n",
       "<style scoped>\n",
       "    .dataframe tbody tr th:only-of-type {\n",
       "        vertical-align: middle;\n",
       "    }\n",
       "\n",
       "    .dataframe tbody tr th {\n",
       "        vertical-align: top;\n",
       "    }\n",
       "\n",
       "    .dataframe thead th {\n",
       "        text-align: right;\n",
       "    }\n",
       "</style>\n",
       "<table border=\"1\" class=\"dataframe\">\n",
       "  <thead>\n",
       "    <tr style=\"text-align: right;\">\n",
       "      <th></th>\n",
       "      <th>SeriesName</th>\n",
       "      <th>SeriesCode</th>\n",
       "      <th>CountryName</th>\n",
       "      <th>CountryCode</th>\n",
       "      <th>Year</th>\n",
       "      <th>Value</th>\n",
       "    </tr>\n",
       "  </thead>\n",
       "  <tbody>\n",
       "    <tr>\n",
       "      <th>775</th>\n",
       "      <td>Gross value added at basic prices (GVA) (curre...</td>\n",
       "      <td>NY.GDP.FCST.CD</td>\n",
       "      <td>Brazil</td>\n",
       "      <td>BRA</td>\n",
       "      <td>1970.0</td>\n",
       "      <td>3.556752e+10</td>\n",
       "    </tr>\n",
       "    <tr>\n",
       "      <th>2505</th>\n",
       "      <td>Gross value added at basic prices (GVA) (curre...</td>\n",
       "      <td>NY.GDP.FCST.CD</td>\n",
       "      <td>Brazil</td>\n",
       "      <td>BRA</td>\n",
       "      <td>1971.0</td>\n",
       "      <td>4.214448e+10</td>\n",
       "    </tr>\n",
       "    <tr>\n",
       "      <th>4235</th>\n",
       "      <td>Gross value added at basic prices (GVA) (curre...</td>\n",
       "      <td>NY.GDP.FCST.CD</td>\n",
       "      <td>Brazil</td>\n",
       "      <td>BRA</td>\n",
       "      <td>1972.0</td>\n",
       "      <td>4.986391e+10</td>\n",
       "    </tr>\n",
       "    <tr>\n",
       "      <th>5965</th>\n",
       "      <td>Gross value added at basic prices (GVA) (curre...</td>\n",
       "      <td>NY.GDP.FCST.CD</td>\n",
       "      <td>Brazil</td>\n",
       "      <td>BRA</td>\n",
       "      <td>1973.0</td>\n",
       "      <td>6.793320e+10</td>\n",
       "    </tr>\n",
       "    <tr>\n",
       "      <th>7695</th>\n",
       "      <td>Gross value added at basic prices (GVA) (curre...</td>\n",
       "      <td>NY.GDP.FCST.CD</td>\n",
       "      <td>Brazil</td>\n",
       "      <td>BRA</td>\n",
       "      <td>1974.0</td>\n",
       "      <td>9.137394e+10</td>\n",
       "    </tr>\n",
       "  </tbody>\n",
       "</table>\n",
       "</div>"
      ]
     },
     "metadata": {},
     "execution_count": 27
    }
   ],
   "metadata": {}
  },
  {
   "cell_type": "code",
   "execution_count": 85,
   "source": [
    "working_age = y_br[y_br['SeriesName'] == 'Age dependency ratio, young (% of working-age population)'].copy()"
   ],
   "outputs": [],
   "metadata": {}
  },
  {
   "cell_type": "code",
   "execution_count": 13,
   "source": [
    "infant_deaths = y_br[y_br['SeriesName'] == 'Number of infant deaths'].copy()"
   ],
   "outputs": [],
   "metadata": {}
  },
  {
   "cell_type": "code",
   "execution_count": 100,
   "source": [
    "gni_pcapita_growth = X_br[X_br['SeriesName'] == 'GNI per capita growth (annual %)']"
   ],
   "outputs": [],
   "metadata": {}
  },
  {
   "cell_type": "code",
   "execution_count": 83,
   "source": [
    "gni_per_capita = X_br[X_br['SeriesName'] == 'GNI per capita, PPP (constant 2017 international $)'].copy()"
   ],
   "outputs": [],
   "metadata": {}
  },
  {
   "cell_type": "code",
   "execution_count": 14,
   "source": [
    "norm = preprocessing.MinMaxScaler()"
   ],
   "outputs": [],
   "metadata": {}
  },
  {
   "cell_type": "code",
   "execution_count": 33,
   "source": [
    "infant_deaths_norm = infant_deaths['Value'].values\n",
    "infant_deaths_norm = norm.fit_transform(infant_deaths_norm.reshape(-1,1))\n",
    "\n",
    "gva_norm  = gva['Value'].values\n",
    "gva_norm = norm.fit_transform(gva_norm.reshape(-1,1))"
   ],
   "outputs": [],
   "metadata": {}
  },
  {
   "cell_type": "code",
   "execution_count": 34,
   "source": [
    "infant_deaths['norm'] = infant_deaths_norm\n",
    "gva['norm'] = gva_norm"
   ],
   "outputs": [
    {
     "output_type": "stream",
     "name": "stderr",
     "text": [
      "<ipython-input-34-02148d55c3d1>:2: SettingWithCopyWarning:\n",
      "\n",
      "\n",
      "A value is trying to be set on a copy of a slice from a DataFrame.\n",
      "Try using .loc[row_indexer,col_indexer] = value instead\n",
      "\n",
      "See the caveats in the documentation: https://pandas.pydata.org/pandas-docs/stable/user_guide/indexing.html#returning-a-view-versus-a-copy\n",
      "\n"
     ]
    }
   ],
   "metadata": {}
  },
  {
   "cell_type": "code",
   "execution_count": 52,
   "source": [
    "fig = go.Figure()\n",
    "fig.add_trace(go.Bar(x = infant_deaths['Year'], y = infant_deaths['norm'], name= 'infant_deaths', hovertemplate=\"Deaths: %{y}<extra></extra>\"))\n",
    "fig.add_trace(go.Bar(x = gva['Year'], y = gva['norm'], name= 'GVA'))\n",
    "fig.add_trace(go.Bar(x = cobert_hiv_treatment['Year'], y = cobert_hiv_treatment['Value']/100, name = 'HIV coverage',hovertemplate = 'Coverage: %{y}<extra></extra>'))"
   ],
   "outputs": [
    {
     "output_type": "display_data",
     "data": {
      "application/vnd.plotly.v1+json": {
       "config": {
        "plotlyServerURL": "https://plot.ly"
       },
       "data": [
        {
         "hovertemplate": "Deaths: %{y}<extra></extra>",
         "name": "infant_deaths",
         "type": "bar",
         "x": [
          1970,
          1971,
          1972,
          1973,
          1974,
          1975,
          1976,
          1977,
          1978,
          1979,
          1980,
          1981,
          1982,
          1983,
          1984,
          1985,
          1986,
          1987,
          1988,
          1989,
          1990,
          1991,
          1992,
          1993,
          1994,
          1995,
          1996,
          1997,
          1998,
          1999,
          2000,
          2001,
          2002,
          2003,
          2004,
          2005,
          2006,
          2007,
          2008,
          2009,
          2010,
          2011,
          2012,
          2013,
          2014,
          2015,
          2016,
          2017,
          2018,
          2019
         ],
         "y": [
          1,
          0.9793147267849578,
          0.9610432397178761,
          0.9457570480538429,
          0.9326795715697678,
          0.9221974194676223,
          0.9126498530885032,
          0.9021273591565868,
          0.8892246972681856,
          0.8722542342112164,
          0.850291469720095,
          0.8239885967094515,
          0.7942600299874268,
          0.7617008115431422,
          0.7280691727907805,
          0.693418902836703,
          0.6591014529782356,
          0.6246428067155699,
          0.5913742444311466,
          0.5591680169973576,
          0.5283098790417471,
          0.49799299396889646,
          0.4679215216938189,
          0.43700959463184713,
          0.4064103167506001,
          0.3760295571139455,
          0.34661027775349795,
          0.3183272932649315,
          0.2908444217334884,
          0.26369773211680303,
          0.2369880789893027,
          0.2106751205212164,
          0.18515891319110594,
          0.160711764349925,
          0.1380262087420745,
          0.11703837180375044,
          0.09833321006663125,
          0.08222001089229404,
          0.0683592305468335,
          0.0568618090621197,
          0.047351222693623976,
          0.039538354994654704,
          0.03312064224192994,
          0.02773836978665896,
          0.022951139320509115,
          0.018409321652132396,
          0.023720995905304285,
          0.009359304506854751,
          0.004662843157689486,
          0
         ]
        },
        {
         "name": "GVA",
         "type": "bar",
         "x": [
          1970,
          1971,
          1972,
          1973,
          1974,
          1975,
          1976,
          1977,
          1978,
          1979,
          1980,
          1981,
          1982,
          1983,
          1984,
          1985,
          1986,
          1987,
          1988,
          1989,
          1990,
          1991,
          1992,
          1993,
          1994,
          1995,
          1996,
          1997,
          1998,
          1999,
          2000,
          2001,
          2002,
          2003,
          2004,
          2005,
          2006,
          2007,
          2008,
          2009,
          2010,
          2011,
          2012,
          2013,
          2014,
          2015,
          2016,
          2017,
          2018,
          2019
         ],
         "y": [
          0,
          0.0030052007166235656,
          0.006532434303933958,
          0.01478881422935906,
          0.025499563339357333,
          0.03365794354554298,
          0.045197642334614985,
          0.054678617745418934,
          0.06495325392772668,
          0.07612761022100346,
          0.08076563028977203,
          0.09184530365338173,
          0.09946629259227202,
          0.06720216315512535,
          0.07081907300287704,
          0.07646258804905211,
          0.09279189717248112,
          0.10468826153068282,
          0.12019197518859182,
          0.17645061400733553,
          0.16286054403178818,
          0.22380946414907296,
          0.14450454596855897,
          0.15742475409867493,
          0.20475079568416898,
          0.2878622293975617,
          0.3234774252088903,
          0.33841598678012424,
          0.3309995026727544,
          0.22091647796176628,
          0.24132827654748956,
          0.20139680134292312,
          0.18177531391087448,
          0.20214699340023404,
          0.24337470674084405,
          0.32963912597018347,
          0.4142082321256956,
          0.5280753480437145,
          0.6381889509838776,
          0.6350130156437231,
          0.8416170694067696,
          1.0000000000000002,
          0.9416024331029796,
          0.948798230989389,
          0.9494029745971297,
          0.6918375362999104,
          0.6930751181817525,
          0.7955172381945576,
          0.7208895947456749,
          0.7034330701881595
         ]
        },
        {
         "hovertemplate": "Coverage: %{y}<extra></extra>",
         "name": "HIV coverage",
         "type": "bar",
         "x": [
          2000,
          2001,
          2002,
          2003,
          2004,
          2005,
          2006,
          2007,
          2008,
          2009,
          2010,
          2011,
          2012,
          2013,
          2014,
          2015,
          2016,
          2017,
          2018,
          2019
         ],
         "y": [
          0,
          0,
          0,
          0,
          0.01,
          0.01,
          0.02,
          0.03,
          0.04,
          0.07,
          0.08,
          0.08,
          0.15,
          0.18,
          0.23,
          0.31,
          0.37,
          0.42,
          0.53,
          0.6
         ]
        }
       ],
       "layout": {
        "template": {
         "data": {
          "bar": [
           {
            "error_x": {
             "color": "#2a3f5f"
            },
            "error_y": {
             "color": "#2a3f5f"
            },
            "marker": {
             "line": {
              "color": "#E5ECF6",
              "width": 0.5
             }
            },
            "type": "bar"
           }
          ],
          "barpolar": [
           {
            "marker": {
             "line": {
              "color": "#E5ECF6",
              "width": 0.5
             }
            },
            "type": "barpolar"
           }
          ],
          "carpet": [
           {
            "aaxis": {
             "endlinecolor": "#2a3f5f",
             "gridcolor": "white",
             "linecolor": "white",
             "minorgridcolor": "white",
             "startlinecolor": "#2a3f5f"
            },
            "baxis": {
             "endlinecolor": "#2a3f5f",
             "gridcolor": "white",
             "linecolor": "white",
             "minorgridcolor": "white",
             "startlinecolor": "#2a3f5f"
            },
            "type": "carpet"
           }
          ],
          "choropleth": [
           {
            "colorbar": {
             "outlinewidth": 0,
             "ticks": ""
            },
            "type": "choropleth"
           }
          ],
          "contour": [
           {
            "colorbar": {
             "outlinewidth": 0,
             "ticks": ""
            },
            "colorscale": [
             [
              0,
              "#0d0887"
             ],
             [
              0.1111111111111111,
              "#46039f"
             ],
             [
              0.2222222222222222,
              "#7201a8"
             ],
             [
              0.3333333333333333,
              "#9c179e"
             ],
             [
              0.4444444444444444,
              "#bd3786"
             ],
             [
              0.5555555555555556,
              "#d8576b"
             ],
             [
              0.6666666666666666,
              "#ed7953"
             ],
             [
              0.7777777777777778,
              "#fb9f3a"
             ],
             [
              0.8888888888888888,
              "#fdca26"
             ],
             [
              1,
              "#f0f921"
             ]
            ],
            "type": "contour"
           }
          ],
          "contourcarpet": [
           {
            "colorbar": {
             "outlinewidth": 0,
             "ticks": ""
            },
            "type": "contourcarpet"
           }
          ],
          "heatmap": [
           {
            "colorbar": {
             "outlinewidth": 0,
             "ticks": ""
            },
            "colorscale": [
             [
              0,
              "#0d0887"
             ],
             [
              0.1111111111111111,
              "#46039f"
             ],
             [
              0.2222222222222222,
              "#7201a8"
             ],
             [
              0.3333333333333333,
              "#9c179e"
             ],
             [
              0.4444444444444444,
              "#bd3786"
             ],
             [
              0.5555555555555556,
              "#d8576b"
             ],
             [
              0.6666666666666666,
              "#ed7953"
             ],
             [
              0.7777777777777778,
              "#fb9f3a"
             ],
             [
              0.8888888888888888,
              "#fdca26"
             ],
             [
              1,
              "#f0f921"
             ]
            ],
            "type": "heatmap"
           }
          ],
          "heatmapgl": [
           {
            "colorbar": {
             "outlinewidth": 0,
             "ticks": ""
            },
            "colorscale": [
             [
              0,
              "#0d0887"
             ],
             [
              0.1111111111111111,
              "#46039f"
             ],
             [
              0.2222222222222222,
              "#7201a8"
             ],
             [
              0.3333333333333333,
              "#9c179e"
             ],
             [
              0.4444444444444444,
              "#bd3786"
             ],
             [
              0.5555555555555556,
              "#d8576b"
             ],
             [
              0.6666666666666666,
              "#ed7953"
             ],
             [
              0.7777777777777778,
              "#fb9f3a"
             ],
             [
              0.8888888888888888,
              "#fdca26"
             ],
             [
              1,
              "#f0f921"
             ]
            ],
            "type": "heatmapgl"
           }
          ],
          "histogram": [
           {
            "marker": {
             "colorbar": {
              "outlinewidth": 0,
              "ticks": ""
             }
            },
            "type": "histogram"
           }
          ],
          "histogram2d": [
           {
            "colorbar": {
             "outlinewidth": 0,
             "ticks": ""
            },
            "colorscale": [
             [
              0,
              "#0d0887"
             ],
             [
              0.1111111111111111,
              "#46039f"
             ],
             [
              0.2222222222222222,
              "#7201a8"
             ],
             [
              0.3333333333333333,
              "#9c179e"
             ],
             [
              0.4444444444444444,
              "#bd3786"
             ],
             [
              0.5555555555555556,
              "#d8576b"
             ],
             [
              0.6666666666666666,
              "#ed7953"
             ],
             [
              0.7777777777777778,
              "#fb9f3a"
             ],
             [
              0.8888888888888888,
              "#fdca26"
             ],
             [
              1,
              "#f0f921"
             ]
            ],
            "type": "histogram2d"
           }
          ],
          "histogram2dcontour": [
           {
            "colorbar": {
             "outlinewidth": 0,
             "ticks": ""
            },
            "colorscale": [
             [
              0,
              "#0d0887"
             ],
             [
              0.1111111111111111,
              "#46039f"
             ],
             [
              0.2222222222222222,
              "#7201a8"
             ],
             [
              0.3333333333333333,
              "#9c179e"
             ],
             [
              0.4444444444444444,
              "#bd3786"
             ],
             [
              0.5555555555555556,
              "#d8576b"
             ],
             [
              0.6666666666666666,
              "#ed7953"
             ],
             [
              0.7777777777777778,
              "#fb9f3a"
             ],
             [
              0.8888888888888888,
              "#fdca26"
             ],
             [
              1,
              "#f0f921"
             ]
            ],
            "type": "histogram2dcontour"
           }
          ],
          "mesh3d": [
           {
            "colorbar": {
             "outlinewidth": 0,
             "ticks": ""
            },
            "type": "mesh3d"
           }
          ],
          "parcoords": [
           {
            "line": {
             "colorbar": {
              "outlinewidth": 0,
              "ticks": ""
             }
            },
            "type": "parcoords"
           }
          ],
          "pie": [
           {
            "automargin": true,
            "type": "pie"
           }
          ],
          "scatter": [
           {
            "marker": {
             "colorbar": {
              "outlinewidth": 0,
              "ticks": ""
             }
            },
            "type": "scatter"
           }
          ],
          "scatter3d": [
           {
            "line": {
             "colorbar": {
              "outlinewidth": 0,
              "ticks": ""
             }
            },
            "marker": {
             "colorbar": {
              "outlinewidth": 0,
              "ticks": ""
             }
            },
            "type": "scatter3d"
           }
          ],
          "scattercarpet": [
           {
            "marker": {
             "colorbar": {
              "outlinewidth": 0,
              "ticks": ""
             }
            },
            "type": "scattercarpet"
           }
          ],
          "scattergeo": [
           {
            "marker": {
             "colorbar": {
              "outlinewidth": 0,
              "ticks": ""
             }
            },
            "type": "scattergeo"
           }
          ],
          "scattergl": [
           {
            "marker": {
             "colorbar": {
              "outlinewidth": 0,
              "ticks": ""
             }
            },
            "type": "scattergl"
           }
          ],
          "scattermapbox": [
           {
            "marker": {
             "colorbar": {
              "outlinewidth": 0,
              "ticks": ""
             }
            },
            "type": "scattermapbox"
           }
          ],
          "scatterpolar": [
           {
            "marker": {
             "colorbar": {
              "outlinewidth": 0,
              "ticks": ""
             }
            },
            "type": "scatterpolar"
           }
          ],
          "scatterpolargl": [
           {
            "marker": {
             "colorbar": {
              "outlinewidth": 0,
              "ticks": ""
             }
            },
            "type": "scatterpolargl"
           }
          ],
          "scatterternary": [
           {
            "marker": {
             "colorbar": {
              "outlinewidth": 0,
              "ticks": ""
             }
            },
            "type": "scatterternary"
           }
          ],
          "surface": [
           {
            "colorbar": {
             "outlinewidth": 0,
             "ticks": ""
            },
            "colorscale": [
             [
              0,
              "#0d0887"
             ],
             [
              0.1111111111111111,
              "#46039f"
             ],
             [
              0.2222222222222222,
              "#7201a8"
             ],
             [
              0.3333333333333333,
              "#9c179e"
             ],
             [
              0.4444444444444444,
              "#bd3786"
             ],
             [
              0.5555555555555556,
              "#d8576b"
             ],
             [
              0.6666666666666666,
              "#ed7953"
             ],
             [
              0.7777777777777778,
              "#fb9f3a"
             ],
             [
              0.8888888888888888,
              "#fdca26"
             ],
             [
              1,
              "#f0f921"
             ]
            ],
            "type": "surface"
           }
          ],
          "table": [
           {
            "cells": {
             "fill": {
              "color": "#EBF0F8"
             },
             "line": {
              "color": "white"
             }
            },
            "header": {
             "fill": {
              "color": "#C8D4E3"
             },
             "line": {
              "color": "white"
             }
            },
            "type": "table"
           }
          ]
         },
         "layout": {
          "annotationdefaults": {
           "arrowcolor": "#2a3f5f",
           "arrowhead": 0,
           "arrowwidth": 1
          },
          "autotypenumbers": "strict",
          "coloraxis": {
           "colorbar": {
            "outlinewidth": 0,
            "ticks": ""
           }
          },
          "colorscale": {
           "diverging": [
            [
             0,
             "#8e0152"
            ],
            [
             0.1,
             "#c51b7d"
            ],
            [
             0.2,
             "#de77ae"
            ],
            [
             0.3,
             "#f1b6da"
            ],
            [
             0.4,
             "#fde0ef"
            ],
            [
             0.5,
             "#f7f7f7"
            ],
            [
             0.6,
             "#e6f5d0"
            ],
            [
             0.7,
             "#b8e186"
            ],
            [
             0.8,
             "#7fbc41"
            ],
            [
             0.9,
             "#4d9221"
            ],
            [
             1,
             "#276419"
            ]
           ],
           "sequential": [
            [
             0,
             "#0d0887"
            ],
            [
             0.1111111111111111,
             "#46039f"
            ],
            [
             0.2222222222222222,
             "#7201a8"
            ],
            [
             0.3333333333333333,
             "#9c179e"
            ],
            [
             0.4444444444444444,
             "#bd3786"
            ],
            [
             0.5555555555555556,
             "#d8576b"
            ],
            [
             0.6666666666666666,
             "#ed7953"
            ],
            [
             0.7777777777777778,
             "#fb9f3a"
            ],
            [
             0.8888888888888888,
             "#fdca26"
            ],
            [
             1,
             "#f0f921"
            ]
           ],
           "sequentialminus": [
            [
             0,
             "#0d0887"
            ],
            [
             0.1111111111111111,
             "#46039f"
            ],
            [
             0.2222222222222222,
             "#7201a8"
            ],
            [
             0.3333333333333333,
             "#9c179e"
            ],
            [
             0.4444444444444444,
             "#bd3786"
            ],
            [
             0.5555555555555556,
             "#d8576b"
            ],
            [
             0.6666666666666666,
             "#ed7953"
            ],
            [
             0.7777777777777778,
             "#fb9f3a"
            ],
            [
             0.8888888888888888,
             "#fdca26"
            ],
            [
             1,
             "#f0f921"
            ]
           ]
          },
          "colorway": [
           "#636efa",
           "#EF553B",
           "#00cc96",
           "#ab63fa",
           "#FFA15A",
           "#19d3f3",
           "#FF6692",
           "#B6E880",
           "#FF97FF",
           "#FECB52"
          ],
          "font": {
           "color": "#2a3f5f"
          },
          "geo": {
           "bgcolor": "white",
           "lakecolor": "white",
           "landcolor": "#E5ECF6",
           "showlakes": true,
           "showland": true,
           "subunitcolor": "white"
          },
          "hoverlabel": {
           "align": "left"
          },
          "hovermode": "closest",
          "mapbox": {
           "style": "light"
          },
          "paper_bgcolor": "white",
          "plot_bgcolor": "#E5ECF6",
          "polar": {
           "angularaxis": {
            "gridcolor": "white",
            "linecolor": "white",
            "ticks": ""
           },
           "bgcolor": "#E5ECF6",
           "radialaxis": {
            "gridcolor": "white",
            "linecolor": "white",
            "ticks": ""
           }
          },
          "scene": {
           "xaxis": {
            "backgroundcolor": "#E5ECF6",
            "gridcolor": "white",
            "gridwidth": 2,
            "linecolor": "white",
            "showbackground": true,
            "ticks": "",
            "zerolinecolor": "white"
           },
           "yaxis": {
            "backgroundcolor": "#E5ECF6",
            "gridcolor": "white",
            "gridwidth": 2,
            "linecolor": "white",
            "showbackground": true,
            "ticks": "",
            "zerolinecolor": "white"
           },
           "zaxis": {
            "backgroundcolor": "#E5ECF6",
            "gridcolor": "white",
            "gridwidth": 2,
            "linecolor": "white",
            "showbackground": true,
            "ticks": "",
            "zerolinecolor": "white"
           }
          },
          "shapedefaults": {
           "line": {
            "color": "#2a3f5f"
           }
          },
          "ternary": {
           "aaxis": {
            "gridcolor": "white",
            "linecolor": "white",
            "ticks": ""
           },
           "baxis": {
            "gridcolor": "white",
            "linecolor": "white",
            "ticks": ""
           },
           "bgcolor": "#E5ECF6",
           "caxis": {
            "gridcolor": "white",
            "linecolor": "white",
            "ticks": ""
           }
          },
          "title": {
           "x": 0.05
          },
          "xaxis": {
           "automargin": true,
           "gridcolor": "white",
           "linecolor": "white",
           "ticks": "",
           "title": {
            "standoff": 15
           },
           "zerolinecolor": "white",
           "zerolinewidth": 2
          },
          "yaxis": {
           "automargin": true,
           "gridcolor": "white",
           "linecolor": "white",
           "ticks": "",
           "title": {
            "standoff": 15
           },
           "zerolinecolor": "white",
           "zerolinewidth": 2
          }
         }
        }
       }
      }
     },
     "metadata": {}
    }
   ],
   "metadata": {}
  },
  {
   "cell_type": "code",
   "execution_count": 125,
   "source": [
    "working_age = working_age.merge(gni_pcapita_growth, on = 'Year', how = 'right')"
   ],
   "outputs": [],
   "metadata": {}
  },
  {
   "cell_type": "code",
   "execution_count": 126,
   "source": [
    "working_age"
   ],
   "outputs": [
    {
     "output_type": "execute_result",
     "data": {
      "text/plain": [
       "                                         SeriesName_x    SeriesCode_x  \\\n",
       "0   Age dependency ratio, young (% of working-age ...  SP.POP.DPND.YG   \n",
       "1   Age dependency ratio, young (% of working-age ...  SP.POP.DPND.YG   \n",
       "2   Age dependency ratio, young (% of working-age ...  SP.POP.DPND.YG   \n",
       "3   Age dependency ratio, young (% of working-age ...  SP.POP.DPND.YG   \n",
       "4   Age dependency ratio, young (% of working-age ...  SP.POP.DPND.YG   \n",
       "5   Age dependency ratio, young (% of working-age ...  SP.POP.DPND.YG   \n",
       "6   Age dependency ratio, young (% of working-age ...  SP.POP.DPND.YG   \n",
       "7   Age dependency ratio, young (% of working-age ...  SP.POP.DPND.YG   \n",
       "8   Age dependency ratio, young (% of working-age ...  SP.POP.DPND.YG   \n",
       "9   Age dependency ratio, young (% of working-age ...  SP.POP.DPND.YG   \n",
       "10  Age dependency ratio, young (% of working-age ...  SP.POP.DPND.YG   \n",
       "11  Age dependency ratio, young (% of working-age ...  SP.POP.DPND.YG   \n",
       "12  Age dependency ratio, young (% of working-age ...  SP.POP.DPND.YG   \n",
       "13  Age dependency ratio, young (% of working-age ...  SP.POP.DPND.YG   \n",
       "14  Age dependency ratio, young (% of working-age ...  SP.POP.DPND.YG   \n",
       "15  Age dependency ratio, young (% of working-age ...  SP.POP.DPND.YG   \n",
       "16  Age dependency ratio, young (% of working-age ...  SP.POP.DPND.YG   \n",
       "17  Age dependency ratio, young (% of working-age ...  SP.POP.DPND.YG   \n",
       "18  Age dependency ratio, young (% of working-age ...  SP.POP.DPND.YG   \n",
       "19  Age dependency ratio, young (% of working-age ...  SP.POP.DPND.YG   \n",
       "20  Age dependency ratio, young (% of working-age ...  SP.POP.DPND.YG   \n",
       "21  Age dependency ratio, young (% of working-age ...  SP.POP.DPND.YG   \n",
       "22  Age dependency ratio, young (% of working-age ...  SP.POP.DPND.YG   \n",
       "23  Age dependency ratio, young (% of working-age ...  SP.POP.DPND.YG   \n",
       "24  Age dependency ratio, young (% of working-age ...  SP.POP.DPND.YG   \n",
       "25  Age dependency ratio, young (% of working-age ...  SP.POP.DPND.YG   \n",
       "26  Age dependency ratio, young (% of working-age ...  SP.POP.DPND.YG   \n",
       "27  Age dependency ratio, young (% of working-age ...  SP.POP.DPND.YG   \n",
       "28  Age dependency ratio, young (% of working-age ...  SP.POP.DPND.YG   \n",
       "29  Age dependency ratio, young (% of working-age ...  SP.POP.DPND.YG   \n",
       "30  Age dependency ratio, young (% of working-age ...  SP.POP.DPND.YG   \n",
       "31  Age dependency ratio, young (% of working-age ...  SP.POP.DPND.YG   \n",
       "32  Age dependency ratio, young (% of working-age ...  SP.POP.DPND.YG   \n",
       "33  Age dependency ratio, young (% of working-age ...  SP.POP.DPND.YG   \n",
       "34  Age dependency ratio, young (% of working-age ...  SP.POP.DPND.YG   \n",
       "35  Age dependency ratio, young (% of working-age ...  SP.POP.DPND.YG   \n",
       "36  Age dependency ratio, young (% of working-age ...  SP.POP.DPND.YG   \n",
       "37  Age dependency ratio, young (% of working-age ...  SP.POP.DPND.YG   \n",
       "38  Age dependency ratio, young (% of working-age ...  SP.POP.DPND.YG   \n",
       "39  Age dependency ratio, young (% of working-age ...  SP.POP.DPND.YG   \n",
       "40  Age dependency ratio, young (% of working-age ...  SP.POP.DPND.YG   \n",
       "41  Age dependency ratio, young (% of working-age ...  SP.POP.DPND.YG   \n",
       "42  Age dependency ratio, young (% of working-age ...  SP.POP.DPND.YG   \n",
       "43  Age dependency ratio, young (% of working-age ...  SP.POP.DPND.YG   \n",
       "44  Age dependency ratio, young (% of working-age ...  SP.POP.DPND.YG   \n",
       "45  Age dependency ratio, young (% of working-age ...  SP.POP.DPND.YG   \n",
       "46  Age dependency ratio, young (% of working-age ...  SP.POP.DPND.YG   \n",
       "47  Age dependency ratio, young (% of working-age ...  SP.POP.DPND.YG   \n",
       "48  Age dependency ratio, young (% of working-age ...  SP.POP.DPND.YG   \n",
       "\n",
       "   CountryName_x CountryCode_x    Year    Value_x  \\\n",
       "0         Brazil           BRA  1971.0  76.588746   \n",
       "1         Brazil           BRA  1972.0  75.482549   \n",
       "2         Brazil           BRA  1973.0  74.318919   \n",
       "3         Brazil           BRA  1974.0  73.061335   \n",
       "4         Brazil           BRA  1975.0  71.724512   \n",
       "5         Brazil           BRA  1976.0  70.518361   \n",
       "6         Brazil           BRA  1977.0  69.321616   \n",
       "7         Brazil           BRA  1978.0  68.137142   \n",
       "8         Brazil           BRA  1979.0  66.979679   \n",
       "9         Brazil           BRA  1980.0  65.869792   \n",
       "10        Brazil           BRA  1981.0  65.161212   \n",
       "11        Brazil           BRA  1982.0  64.396122   \n",
       "12        Brazil           BRA  1983.0  63.616991   \n",
       "13        Brazil           BRA  1984.0  62.841514   \n",
       "14        Brazil           BRA  1985.0  62.052868   \n",
       "15        Brazil           BRA  1986.0  61.447457   \n",
       "16        Brazil           BRA  1987.0  60.705391   \n",
       "17        Brazil           BRA  1988.0  59.867060   \n",
       "18        Brazil           BRA  1989.0  58.973403   \n",
       "19        Brazil           BRA  1990.0  58.037163   \n",
       "20        Brazil           BRA  1991.0  56.932133   \n",
       "21        Brazil           BRA  1992.0  55.888694   \n",
       "22        Brazil           BRA  1993.0  54.830051   \n",
       "23        Brazil           BRA  1994.0  53.674695   \n",
       "24        Brazil           BRA  1995.0  52.411496   \n",
       "25        Brazil           BRA  1996.0  51.223603   \n",
       "26        Brazil           BRA  1997.0  49.961580   \n",
       "27        Brazil           BRA  1998.0  48.668402   \n",
       "28        Brazil           BRA  1999.0  47.403399   \n",
       "29        Brazil           BRA  2000.0  46.191864   \n",
       "30        Brazil           BRA  2001.0  45.176126   \n",
       "31        Brazil           BRA  2002.0  44.125668   \n",
       "32        Brazil           BRA  2003.0  43.075612   \n",
       "33        Brazil           BRA  2004.0  42.053569   \n",
       "34        Brazil           BRA  2005.0  41.063444   \n",
       "35        Brazil           BRA  2006.0  40.040417   \n",
       "36        Brazil           BRA  2007.0  39.081032   \n",
       "37        Brazil           BRA  2008.0  38.157688   \n",
       "38        Brazil           BRA  2009.0  37.237466   \n",
       "39        Brazil           BRA  2010.0  36.314913   \n",
       "40        Brazil           BRA  2011.0  35.416345   \n",
       "41        Brazil           BRA  2012.0  34.557182   \n",
       "42        Brazil           BRA  2013.0  33.733999   \n",
       "43        Brazil           BRA  2014.0  32.954730   \n",
       "44        Brazil           BRA  2015.0  32.229507   \n",
       "45        Brazil           BRA  2016.0  31.658157   \n",
       "46        Brazil           BRA  2017.0  31.105477   \n",
       "47        Brazil           BRA  2018.0  30.589513   \n",
       "48        Brazil           BRA  2019.0  30.125373   \n",
       "\n",
       "                        SeriesName_y       SeriesCode_y CountryName_y  \\\n",
       "0   GNI per capita growth (annual %)  NY.GNP.PCAP.KD.ZG        Brazil   \n",
       "1   GNI per capita growth (annual %)  NY.GNP.PCAP.KD.ZG        Brazil   \n",
       "2   GNI per capita growth (annual %)  NY.GNP.PCAP.KD.ZG        Brazil   \n",
       "3   GNI per capita growth (annual %)  NY.GNP.PCAP.KD.ZG        Brazil   \n",
       "4   GNI per capita growth (annual %)  NY.GNP.PCAP.KD.ZG        Brazil   \n",
       "5   GNI per capita growth (annual %)  NY.GNP.PCAP.KD.ZG        Brazil   \n",
       "6   GNI per capita growth (annual %)  NY.GNP.PCAP.KD.ZG        Brazil   \n",
       "7   GNI per capita growth (annual %)  NY.GNP.PCAP.KD.ZG        Brazil   \n",
       "8   GNI per capita growth (annual %)  NY.GNP.PCAP.KD.ZG        Brazil   \n",
       "9   GNI per capita growth (annual %)  NY.GNP.PCAP.KD.ZG        Brazil   \n",
       "10  GNI per capita growth (annual %)  NY.GNP.PCAP.KD.ZG        Brazil   \n",
       "11  GNI per capita growth (annual %)  NY.GNP.PCAP.KD.ZG        Brazil   \n",
       "12  GNI per capita growth (annual %)  NY.GNP.PCAP.KD.ZG        Brazil   \n",
       "13  GNI per capita growth (annual %)  NY.GNP.PCAP.KD.ZG        Brazil   \n",
       "14  GNI per capita growth (annual %)  NY.GNP.PCAP.KD.ZG        Brazil   \n",
       "15  GNI per capita growth (annual %)  NY.GNP.PCAP.KD.ZG        Brazil   \n",
       "16  GNI per capita growth (annual %)  NY.GNP.PCAP.KD.ZG        Brazil   \n",
       "17  GNI per capita growth (annual %)  NY.GNP.PCAP.KD.ZG        Brazil   \n",
       "18  GNI per capita growth (annual %)  NY.GNP.PCAP.KD.ZG        Brazil   \n",
       "19  GNI per capita growth (annual %)  NY.GNP.PCAP.KD.ZG        Brazil   \n",
       "20  GNI per capita growth (annual %)  NY.GNP.PCAP.KD.ZG        Brazil   \n",
       "21  GNI per capita growth (annual %)  NY.GNP.PCAP.KD.ZG        Brazil   \n",
       "22  GNI per capita growth (annual %)  NY.GNP.PCAP.KD.ZG        Brazil   \n",
       "23  GNI per capita growth (annual %)  NY.GNP.PCAP.KD.ZG        Brazil   \n",
       "24  GNI per capita growth (annual %)  NY.GNP.PCAP.KD.ZG        Brazil   \n",
       "25  GNI per capita growth (annual %)  NY.GNP.PCAP.KD.ZG        Brazil   \n",
       "26  GNI per capita growth (annual %)  NY.GNP.PCAP.KD.ZG        Brazil   \n",
       "27  GNI per capita growth (annual %)  NY.GNP.PCAP.KD.ZG        Brazil   \n",
       "28  GNI per capita growth (annual %)  NY.GNP.PCAP.KD.ZG        Brazil   \n",
       "29  GNI per capita growth (annual %)  NY.GNP.PCAP.KD.ZG        Brazil   \n",
       "30  GNI per capita growth (annual %)  NY.GNP.PCAP.KD.ZG        Brazil   \n",
       "31  GNI per capita growth (annual %)  NY.GNP.PCAP.KD.ZG        Brazil   \n",
       "32  GNI per capita growth (annual %)  NY.GNP.PCAP.KD.ZG        Brazil   \n",
       "33  GNI per capita growth (annual %)  NY.GNP.PCAP.KD.ZG        Brazil   \n",
       "34  GNI per capita growth (annual %)  NY.GNP.PCAP.KD.ZG        Brazil   \n",
       "35  GNI per capita growth (annual %)  NY.GNP.PCAP.KD.ZG        Brazil   \n",
       "36  GNI per capita growth (annual %)  NY.GNP.PCAP.KD.ZG        Brazil   \n",
       "37  GNI per capita growth (annual %)  NY.GNP.PCAP.KD.ZG        Brazil   \n",
       "38  GNI per capita growth (annual %)  NY.GNP.PCAP.KD.ZG        Brazil   \n",
       "39  GNI per capita growth (annual %)  NY.GNP.PCAP.KD.ZG        Brazil   \n",
       "40  GNI per capita growth (annual %)  NY.GNP.PCAP.KD.ZG        Brazil   \n",
       "41  GNI per capita growth (annual %)  NY.GNP.PCAP.KD.ZG        Brazil   \n",
       "42  GNI per capita growth (annual %)  NY.GNP.PCAP.KD.ZG        Brazil   \n",
       "43  GNI per capita growth (annual %)  NY.GNP.PCAP.KD.ZG        Brazil   \n",
       "44  GNI per capita growth (annual %)  NY.GNP.PCAP.KD.ZG        Brazil   \n",
       "45  GNI per capita growth (annual %)  NY.GNP.PCAP.KD.ZG        Brazil   \n",
       "46  GNI per capita growth (annual %)  NY.GNP.PCAP.KD.ZG        Brazil   \n",
       "47  GNI per capita growth (annual %)  NY.GNP.PCAP.KD.ZG        Brazil   \n",
       "48  GNI per capita growth (annual %)  NY.GNP.PCAP.KD.ZG        Brazil   \n",
       "\n",
       "   CountryCode_y    Value_y  \n",
       "0            BRA   8.975421  \n",
       "1            BRA   9.670938  \n",
       "2            BRA  10.937734  \n",
       "3            BRA   6.901292  \n",
       "4            BRA   2.177873  \n",
       "5            BRA   6.999470  \n",
       "6            BRA   1.983963  \n",
       "7            BRA   0.122624  \n",
       "8            BRA   3.907551  \n",
       "9            BRA   5.962585  \n",
       "10           BRA  -7.461292  \n",
       "11           BRA  -2.785896  \n",
       "12           BRA  -6.585412  \n",
       "13           BRA   2.914613  \n",
       "14           BRA   6.313823  \n",
       "15           BRA   6.906235  \n",
       "16           BRA   2.342672  \n",
       "17           BRA  -2.287409  \n",
       "18           BRA  11.125586  \n",
       "19           BRA -11.863578  \n",
       "20           BRA   0.069519  \n",
       "21           BRA  -1.821530  \n",
       "22           BRA   2.395829  \n",
       "23           BRA   2.221737  \n",
       "24           BRA   5.147605  \n",
       "25           BRA  -0.612421  \n",
       "26           BRA   1.278731  \n",
       "27           BRA  -2.426770  \n",
       "28           BRA  -1.764464  \n",
       "29           BRA   5.437044  \n",
       "30           BRA  -0.347342  \n",
       "31           BRA   1.557134  \n",
       "32           BRA   0.075771  \n",
       "33           BRA   4.717938  \n",
       "34           BRA   2.084061  \n",
       "35           BRA   3.223177  \n",
       "36           BRA   5.384931  \n",
       "37           BRA   3.714313  \n",
       "38           BRA  -0.905124  \n",
       "39           BRA   5.572044  \n",
       "40           BRA   3.550420  \n",
       "41           BRA   1.088684  \n",
       "42           BRA   3.285533  \n",
       "43           BRA  -0.830005  \n",
       "44           BRA  -4.365731  \n",
       "45           BRA  -4.306303  \n",
       "46           BRA   0.773509  \n",
       "47           BRA  -0.466758  \n",
       "48           BRA   0.572064  "
      ],
      "text/html": [
       "<div>\n",
       "<style scoped>\n",
       "    .dataframe tbody tr th:only-of-type {\n",
       "        vertical-align: middle;\n",
       "    }\n",
       "\n",
       "    .dataframe tbody tr th {\n",
       "        vertical-align: top;\n",
       "    }\n",
       "\n",
       "    .dataframe thead th {\n",
       "        text-align: right;\n",
       "    }\n",
       "</style>\n",
       "<table border=\"1\" class=\"dataframe\">\n",
       "  <thead>\n",
       "    <tr style=\"text-align: right;\">\n",
       "      <th></th>\n",
       "      <th>SeriesName_x</th>\n",
       "      <th>SeriesCode_x</th>\n",
       "      <th>CountryName_x</th>\n",
       "      <th>CountryCode_x</th>\n",
       "      <th>Year</th>\n",
       "      <th>Value_x</th>\n",
       "      <th>SeriesName_y</th>\n",
       "      <th>SeriesCode_y</th>\n",
       "      <th>CountryName_y</th>\n",
       "      <th>CountryCode_y</th>\n",
       "      <th>Value_y</th>\n",
       "    </tr>\n",
       "  </thead>\n",
       "  <tbody>\n",
       "    <tr>\n",
       "      <th>0</th>\n",
       "      <td>Age dependency ratio, young (% of working-age ...</td>\n",
       "      <td>SP.POP.DPND.YG</td>\n",
       "      <td>Brazil</td>\n",
       "      <td>BRA</td>\n",
       "      <td>1971.0</td>\n",
       "      <td>76.588746</td>\n",
       "      <td>GNI per capita growth (annual %)</td>\n",
       "      <td>NY.GNP.PCAP.KD.ZG</td>\n",
       "      <td>Brazil</td>\n",
       "      <td>BRA</td>\n",
       "      <td>8.975421</td>\n",
       "    </tr>\n",
       "    <tr>\n",
       "      <th>1</th>\n",
       "      <td>Age dependency ratio, young (% of working-age ...</td>\n",
       "      <td>SP.POP.DPND.YG</td>\n",
       "      <td>Brazil</td>\n",
       "      <td>BRA</td>\n",
       "      <td>1972.0</td>\n",
       "      <td>75.482549</td>\n",
       "      <td>GNI per capita growth (annual %)</td>\n",
       "      <td>NY.GNP.PCAP.KD.ZG</td>\n",
       "      <td>Brazil</td>\n",
       "      <td>BRA</td>\n",
       "      <td>9.670938</td>\n",
       "    </tr>\n",
       "    <tr>\n",
       "      <th>2</th>\n",
       "      <td>Age dependency ratio, young (% of working-age ...</td>\n",
       "      <td>SP.POP.DPND.YG</td>\n",
       "      <td>Brazil</td>\n",
       "      <td>BRA</td>\n",
       "      <td>1973.0</td>\n",
       "      <td>74.318919</td>\n",
       "      <td>GNI per capita growth (annual %)</td>\n",
       "      <td>NY.GNP.PCAP.KD.ZG</td>\n",
       "      <td>Brazil</td>\n",
       "      <td>BRA</td>\n",
       "      <td>10.937734</td>\n",
       "    </tr>\n",
       "    <tr>\n",
       "      <th>3</th>\n",
       "      <td>Age dependency ratio, young (% of working-age ...</td>\n",
       "      <td>SP.POP.DPND.YG</td>\n",
       "      <td>Brazil</td>\n",
       "      <td>BRA</td>\n",
       "      <td>1974.0</td>\n",
       "      <td>73.061335</td>\n",
       "      <td>GNI per capita growth (annual %)</td>\n",
       "      <td>NY.GNP.PCAP.KD.ZG</td>\n",
       "      <td>Brazil</td>\n",
       "      <td>BRA</td>\n",
       "      <td>6.901292</td>\n",
       "    </tr>\n",
       "    <tr>\n",
       "      <th>4</th>\n",
       "      <td>Age dependency ratio, young (% of working-age ...</td>\n",
       "      <td>SP.POP.DPND.YG</td>\n",
       "      <td>Brazil</td>\n",
       "      <td>BRA</td>\n",
       "      <td>1975.0</td>\n",
       "      <td>71.724512</td>\n",
       "      <td>GNI per capita growth (annual %)</td>\n",
       "      <td>NY.GNP.PCAP.KD.ZG</td>\n",
       "      <td>Brazil</td>\n",
       "      <td>BRA</td>\n",
       "      <td>2.177873</td>\n",
       "    </tr>\n",
       "    <tr>\n",
       "      <th>5</th>\n",
       "      <td>Age dependency ratio, young (% of working-age ...</td>\n",
       "      <td>SP.POP.DPND.YG</td>\n",
       "      <td>Brazil</td>\n",
       "      <td>BRA</td>\n",
       "      <td>1976.0</td>\n",
       "      <td>70.518361</td>\n",
       "      <td>GNI per capita growth (annual %)</td>\n",
       "      <td>NY.GNP.PCAP.KD.ZG</td>\n",
       "      <td>Brazil</td>\n",
       "      <td>BRA</td>\n",
       "      <td>6.999470</td>\n",
       "    </tr>\n",
       "    <tr>\n",
       "      <th>6</th>\n",
       "      <td>Age dependency ratio, young (% of working-age ...</td>\n",
       "      <td>SP.POP.DPND.YG</td>\n",
       "      <td>Brazil</td>\n",
       "      <td>BRA</td>\n",
       "      <td>1977.0</td>\n",
       "      <td>69.321616</td>\n",
       "      <td>GNI per capita growth (annual %)</td>\n",
       "      <td>NY.GNP.PCAP.KD.ZG</td>\n",
       "      <td>Brazil</td>\n",
       "      <td>BRA</td>\n",
       "      <td>1.983963</td>\n",
       "    </tr>\n",
       "    <tr>\n",
       "      <th>7</th>\n",
       "      <td>Age dependency ratio, young (% of working-age ...</td>\n",
       "      <td>SP.POP.DPND.YG</td>\n",
       "      <td>Brazil</td>\n",
       "      <td>BRA</td>\n",
       "      <td>1978.0</td>\n",
       "      <td>68.137142</td>\n",
       "      <td>GNI per capita growth (annual %)</td>\n",
       "      <td>NY.GNP.PCAP.KD.ZG</td>\n",
       "      <td>Brazil</td>\n",
       "      <td>BRA</td>\n",
       "      <td>0.122624</td>\n",
       "    </tr>\n",
       "    <tr>\n",
       "      <th>8</th>\n",
       "      <td>Age dependency ratio, young (% of working-age ...</td>\n",
       "      <td>SP.POP.DPND.YG</td>\n",
       "      <td>Brazil</td>\n",
       "      <td>BRA</td>\n",
       "      <td>1979.0</td>\n",
       "      <td>66.979679</td>\n",
       "      <td>GNI per capita growth (annual %)</td>\n",
       "      <td>NY.GNP.PCAP.KD.ZG</td>\n",
       "      <td>Brazil</td>\n",
       "      <td>BRA</td>\n",
       "      <td>3.907551</td>\n",
       "    </tr>\n",
       "    <tr>\n",
       "      <th>9</th>\n",
       "      <td>Age dependency ratio, young (% of working-age ...</td>\n",
       "      <td>SP.POP.DPND.YG</td>\n",
       "      <td>Brazil</td>\n",
       "      <td>BRA</td>\n",
       "      <td>1980.0</td>\n",
       "      <td>65.869792</td>\n",
       "      <td>GNI per capita growth (annual %)</td>\n",
       "      <td>NY.GNP.PCAP.KD.ZG</td>\n",
       "      <td>Brazil</td>\n",
       "      <td>BRA</td>\n",
       "      <td>5.962585</td>\n",
       "    </tr>\n",
       "    <tr>\n",
       "      <th>10</th>\n",
       "      <td>Age dependency ratio, young (% of working-age ...</td>\n",
       "      <td>SP.POP.DPND.YG</td>\n",
       "      <td>Brazil</td>\n",
       "      <td>BRA</td>\n",
       "      <td>1981.0</td>\n",
       "      <td>65.161212</td>\n",
       "      <td>GNI per capita growth (annual %)</td>\n",
       "      <td>NY.GNP.PCAP.KD.ZG</td>\n",
       "      <td>Brazil</td>\n",
       "      <td>BRA</td>\n",
       "      <td>-7.461292</td>\n",
       "    </tr>\n",
       "    <tr>\n",
       "      <th>11</th>\n",
       "      <td>Age dependency ratio, young (% of working-age ...</td>\n",
       "      <td>SP.POP.DPND.YG</td>\n",
       "      <td>Brazil</td>\n",
       "      <td>BRA</td>\n",
       "      <td>1982.0</td>\n",
       "      <td>64.396122</td>\n",
       "      <td>GNI per capita growth (annual %)</td>\n",
       "      <td>NY.GNP.PCAP.KD.ZG</td>\n",
       "      <td>Brazil</td>\n",
       "      <td>BRA</td>\n",
       "      <td>-2.785896</td>\n",
       "    </tr>\n",
       "    <tr>\n",
       "      <th>12</th>\n",
       "      <td>Age dependency ratio, young (% of working-age ...</td>\n",
       "      <td>SP.POP.DPND.YG</td>\n",
       "      <td>Brazil</td>\n",
       "      <td>BRA</td>\n",
       "      <td>1983.0</td>\n",
       "      <td>63.616991</td>\n",
       "      <td>GNI per capita growth (annual %)</td>\n",
       "      <td>NY.GNP.PCAP.KD.ZG</td>\n",
       "      <td>Brazil</td>\n",
       "      <td>BRA</td>\n",
       "      <td>-6.585412</td>\n",
       "    </tr>\n",
       "    <tr>\n",
       "      <th>13</th>\n",
       "      <td>Age dependency ratio, young (% of working-age ...</td>\n",
       "      <td>SP.POP.DPND.YG</td>\n",
       "      <td>Brazil</td>\n",
       "      <td>BRA</td>\n",
       "      <td>1984.0</td>\n",
       "      <td>62.841514</td>\n",
       "      <td>GNI per capita growth (annual %)</td>\n",
       "      <td>NY.GNP.PCAP.KD.ZG</td>\n",
       "      <td>Brazil</td>\n",
       "      <td>BRA</td>\n",
       "      <td>2.914613</td>\n",
       "    </tr>\n",
       "    <tr>\n",
       "      <th>14</th>\n",
       "      <td>Age dependency ratio, young (% of working-age ...</td>\n",
       "      <td>SP.POP.DPND.YG</td>\n",
       "      <td>Brazil</td>\n",
       "      <td>BRA</td>\n",
       "      <td>1985.0</td>\n",
       "      <td>62.052868</td>\n",
       "      <td>GNI per capita growth (annual %)</td>\n",
       "      <td>NY.GNP.PCAP.KD.ZG</td>\n",
       "      <td>Brazil</td>\n",
       "      <td>BRA</td>\n",
       "      <td>6.313823</td>\n",
       "    </tr>\n",
       "    <tr>\n",
       "      <th>15</th>\n",
       "      <td>Age dependency ratio, young (% of working-age ...</td>\n",
       "      <td>SP.POP.DPND.YG</td>\n",
       "      <td>Brazil</td>\n",
       "      <td>BRA</td>\n",
       "      <td>1986.0</td>\n",
       "      <td>61.447457</td>\n",
       "      <td>GNI per capita growth (annual %)</td>\n",
       "      <td>NY.GNP.PCAP.KD.ZG</td>\n",
       "      <td>Brazil</td>\n",
       "      <td>BRA</td>\n",
       "      <td>6.906235</td>\n",
       "    </tr>\n",
       "    <tr>\n",
       "      <th>16</th>\n",
       "      <td>Age dependency ratio, young (% of working-age ...</td>\n",
       "      <td>SP.POP.DPND.YG</td>\n",
       "      <td>Brazil</td>\n",
       "      <td>BRA</td>\n",
       "      <td>1987.0</td>\n",
       "      <td>60.705391</td>\n",
       "      <td>GNI per capita growth (annual %)</td>\n",
       "      <td>NY.GNP.PCAP.KD.ZG</td>\n",
       "      <td>Brazil</td>\n",
       "      <td>BRA</td>\n",
       "      <td>2.342672</td>\n",
       "    </tr>\n",
       "    <tr>\n",
       "      <th>17</th>\n",
       "      <td>Age dependency ratio, young (% of working-age ...</td>\n",
       "      <td>SP.POP.DPND.YG</td>\n",
       "      <td>Brazil</td>\n",
       "      <td>BRA</td>\n",
       "      <td>1988.0</td>\n",
       "      <td>59.867060</td>\n",
       "      <td>GNI per capita growth (annual %)</td>\n",
       "      <td>NY.GNP.PCAP.KD.ZG</td>\n",
       "      <td>Brazil</td>\n",
       "      <td>BRA</td>\n",
       "      <td>-2.287409</td>\n",
       "    </tr>\n",
       "    <tr>\n",
       "      <th>18</th>\n",
       "      <td>Age dependency ratio, young (% of working-age ...</td>\n",
       "      <td>SP.POP.DPND.YG</td>\n",
       "      <td>Brazil</td>\n",
       "      <td>BRA</td>\n",
       "      <td>1989.0</td>\n",
       "      <td>58.973403</td>\n",
       "      <td>GNI per capita growth (annual %)</td>\n",
       "      <td>NY.GNP.PCAP.KD.ZG</td>\n",
       "      <td>Brazil</td>\n",
       "      <td>BRA</td>\n",
       "      <td>11.125586</td>\n",
       "    </tr>\n",
       "    <tr>\n",
       "      <th>19</th>\n",
       "      <td>Age dependency ratio, young (% of working-age ...</td>\n",
       "      <td>SP.POP.DPND.YG</td>\n",
       "      <td>Brazil</td>\n",
       "      <td>BRA</td>\n",
       "      <td>1990.0</td>\n",
       "      <td>58.037163</td>\n",
       "      <td>GNI per capita growth (annual %)</td>\n",
       "      <td>NY.GNP.PCAP.KD.ZG</td>\n",
       "      <td>Brazil</td>\n",
       "      <td>BRA</td>\n",
       "      <td>-11.863578</td>\n",
       "    </tr>\n",
       "    <tr>\n",
       "      <th>20</th>\n",
       "      <td>Age dependency ratio, young (% of working-age ...</td>\n",
       "      <td>SP.POP.DPND.YG</td>\n",
       "      <td>Brazil</td>\n",
       "      <td>BRA</td>\n",
       "      <td>1991.0</td>\n",
       "      <td>56.932133</td>\n",
       "      <td>GNI per capita growth (annual %)</td>\n",
       "      <td>NY.GNP.PCAP.KD.ZG</td>\n",
       "      <td>Brazil</td>\n",
       "      <td>BRA</td>\n",
       "      <td>0.069519</td>\n",
       "    </tr>\n",
       "    <tr>\n",
       "      <th>21</th>\n",
       "      <td>Age dependency ratio, young (% of working-age ...</td>\n",
       "      <td>SP.POP.DPND.YG</td>\n",
       "      <td>Brazil</td>\n",
       "      <td>BRA</td>\n",
       "      <td>1992.0</td>\n",
       "      <td>55.888694</td>\n",
       "      <td>GNI per capita growth (annual %)</td>\n",
       "      <td>NY.GNP.PCAP.KD.ZG</td>\n",
       "      <td>Brazil</td>\n",
       "      <td>BRA</td>\n",
       "      <td>-1.821530</td>\n",
       "    </tr>\n",
       "    <tr>\n",
       "      <th>22</th>\n",
       "      <td>Age dependency ratio, young (% of working-age ...</td>\n",
       "      <td>SP.POP.DPND.YG</td>\n",
       "      <td>Brazil</td>\n",
       "      <td>BRA</td>\n",
       "      <td>1993.0</td>\n",
       "      <td>54.830051</td>\n",
       "      <td>GNI per capita growth (annual %)</td>\n",
       "      <td>NY.GNP.PCAP.KD.ZG</td>\n",
       "      <td>Brazil</td>\n",
       "      <td>BRA</td>\n",
       "      <td>2.395829</td>\n",
       "    </tr>\n",
       "    <tr>\n",
       "      <th>23</th>\n",
       "      <td>Age dependency ratio, young (% of working-age ...</td>\n",
       "      <td>SP.POP.DPND.YG</td>\n",
       "      <td>Brazil</td>\n",
       "      <td>BRA</td>\n",
       "      <td>1994.0</td>\n",
       "      <td>53.674695</td>\n",
       "      <td>GNI per capita growth (annual %)</td>\n",
       "      <td>NY.GNP.PCAP.KD.ZG</td>\n",
       "      <td>Brazil</td>\n",
       "      <td>BRA</td>\n",
       "      <td>2.221737</td>\n",
       "    </tr>\n",
       "    <tr>\n",
       "      <th>24</th>\n",
       "      <td>Age dependency ratio, young (% of working-age ...</td>\n",
       "      <td>SP.POP.DPND.YG</td>\n",
       "      <td>Brazil</td>\n",
       "      <td>BRA</td>\n",
       "      <td>1995.0</td>\n",
       "      <td>52.411496</td>\n",
       "      <td>GNI per capita growth (annual %)</td>\n",
       "      <td>NY.GNP.PCAP.KD.ZG</td>\n",
       "      <td>Brazil</td>\n",
       "      <td>BRA</td>\n",
       "      <td>5.147605</td>\n",
       "    </tr>\n",
       "    <tr>\n",
       "      <th>25</th>\n",
       "      <td>Age dependency ratio, young (% of working-age ...</td>\n",
       "      <td>SP.POP.DPND.YG</td>\n",
       "      <td>Brazil</td>\n",
       "      <td>BRA</td>\n",
       "      <td>1996.0</td>\n",
       "      <td>51.223603</td>\n",
       "      <td>GNI per capita growth (annual %)</td>\n",
       "      <td>NY.GNP.PCAP.KD.ZG</td>\n",
       "      <td>Brazil</td>\n",
       "      <td>BRA</td>\n",
       "      <td>-0.612421</td>\n",
       "    </tr>\n",
       "    <tr>\n",
       "      <th>26</th>\n",
       "      <td>Age dependency ratio, young (% of working-age ...</td>\n",
       "      <td>SP.POP.DPND.YG</td>\n",
       "      <td>Brazil</td>\n",
       "      <td>BRA</td>\n",
       "      <td>1997.0</td>\n",
       "      <td>49.961580</td>\n",
       "      <td>GNI per capita growth (annual %)</td>\n",
       "      <td>NY.GNP.PCAP.KD.ZG</td>\n",
       "      <td>Brazil</td>\n",
       "      <td>BRA</td>\n",
       "      <td>1.278731</td>\n",
       "    </tr>\n",
       "    <tr>\n",
       "      <th>27</th>\n",
       "      <td>Age dependency ratio, young (% of working-age ...</td>\n",
       "      <td>SP.POP.DPND.YG</td>\n",
       "      <td>Brazil</td>\n",
       "      <td>BRA</td>\n",
       "      <td>1998.0</td>\n",
       "      <td>48.668402</td>\n",
       "      <td>GNI per capita growth (annual %)</td>\n",
       "      <td>NY.GNP.PCAP.KD.ZG</td>\n",
       "      <td>Brazil</td>\n",
       "      <td>BRA</td>\n",
       "      <td>-2.426770</td>\n",
       "    </tr>\n",
       "    <tr>\n",
       "      <th>28</th>\n",
       "      <td>Age dependency ratio, young (% of working-age ...</td>\n",
       "      <td>SP.POP.DPND.YG</td>\n",
       "      <td>Brazil</td>\n",
       "      <td>BRA</td>\n",
       "      <td>1999.0</td>\n",
       "      <td>47.403399</td>\n",
       "      <td>GNI per capita growth (annual %)</td>\n",
       "      <td>NY.GNP.PCAP.KD.ZG</td>\n",
       "      <td>Brazil</td>\n",
       "      <td>BRA</td>\n",
       "      <td>-1.764464</td>\n",
       "    </tr>\n",
       "    <tr>\n",
       "      <th>29</th>\n",
       "      <td>Age dependency ratio, young (% of working-age ...</td>\n",
       "      <td>SP.POP.DPND.YG</td>\n",
       "      <td>Brazil</td>\n",
       "      <td>BRA</td>\n",
       "      <td>2000.0</td>\n",
       "      <td>46.191864</td>\n",
       "      <td>GNI per capita growth (annual %)</td>\n",
       "      <td>NY.GNP.PCAP.KD.ZG</td>\n",
       "      <td>Brazil</td>\n",
       "      <td>BRA</td>\n",
       "      <td>5.437044</td>\n",
       "    </tr>\n",
       "    <tr>\n",
       "      <th>30</th>\n",
       "      <td>Age dependency ratio, young (% of working-age ...</td>\n",
       "      <td>SP.POP.DPND.YG</td>\n",
       "      <td>Brazil</td>\n",
       "      <td>BRA</td>\n",
       "      <td>2001.0</td>\n",
       "      <td>45.176126</td>\n",
       "      <td>GNI per capita growth (annual %)</td>\n",
       "      <td>NY.GNP.PCAP.KD.ZG</td>\n",
       "      <td>Brazil</td>\n",
       "      <td>BRA</td>\n",
       "      <td>-0.347342</td>\n",
       "    </tr>\n",
       "    <tr>\n",
       "      <th>31</th>\n",
       "      <td>Age dependency ratio, young (% of working-age ...</td>\n",
       "      <td>SP.POP.DPND.YG</td>\n",
       "      <td>Brazil</td>\n",
       "      <td>BRA</td>\n",
       "      <td>2002.0</td>\n",
       "      <td>44.125668</td>\n",
       "      <td>GNI per capita growth (annual %)</td>\n",
       "      <td>NY.GNP.PCAP.KD.ZG</td>\n",
       "      <td>Brazil</td>\n",
       "      <td>BRA</td>\n",
       "      <td>1.557134</td>\n",
       "    </tr>\n",
       "    <tr>\n",
       "      <th>32</th>\n",
       "      <td>Age dependency ratio, young (% of working-age ...</td>\n",
       "      <td>SP.POP.DPND.YG</td>\n",
       "      <td>Brazil</td>\n",
       "      <td>BRA</td>\n",
       "      <td>2003.0</td>\n",
       "      <td>43.075612</td>\n",
       "      <td>GNI per capita growth (annual %)</td>\n",
       "      <td>NY.GNP.PCAP.KD.ZG</td>\n",
       "      <td>Brazil</td>\n",
       "      <td>BRA</td>\n",
       "      <td>0.075771</td>\n",
       "    </tr>\n",
       "    <tr>\n",
       "      <th>33</th>\n",
       "      <td>Age dependency ratio, young (% of working-age ...</td>\n",
       "      <td>SP.POP.DPND.YG</td>\n",
       "      <td>Brazil</td>\n",
       "      <td>BRA</td>\n",
       "      <td>2004.0</td>\n",
       "      <td>42.053569</td>\n",
       "      <td>GNI per capita growth (annual %)</td>\n",
       "      <td>NY.GNP.PCAP.KD.ZG</td>\n",
       "      <td>Brazil</td>\n",
       "      <td>BRA</td>\n",
       "      <td>4.717938</td>\n",
       "    </tr>\n",
       "    <tr>\n",
       "      <th>34</th>\n",
       "      <td>Age dependency ratio, young (% of working-age ...</td>\n",
       "      <td>SP.POP.DPND.YG</td>\n",
       "      <td>Brazil</td>\n",
       "      <td>BRA</td>\n",
       "      <td>2005.0</td>\n",
       "      <td>41.063444</td>\n",
       "      <td>GNI per capita growth (annual %)</td>\n",
       "      <td>NY.GNP.PCAP.KD.ZG</td>\n",
       "      <td>Brazil</td>\n",
       "      <td>BRA</td>\n",
       "      <td>2.084061</td>\n",
       "    </tr>\n",
       "    <tr>\n",
       "      <th>35</th>\n",
       "      <td>Age dependency ratio, young (% of working-age ...</td>\n",
       "      <td>SP.POP.DPND.YG</td>\n",
       "      <td>Brazil</td>\n",
       "      <td>BRA</td>\n",
       "      <td>2006.0</td>\n",
       "      <td>40.040417</td>\n",
       "      <td>GNI per capita growth (annual %)</td>\n",
       "      <td>NY.GNP.PCAP.KD.ZG</td>\n",
       "      <td>Brazil</td>\n",
       "      <td>BRA</td>\n",
       "      <td>3.223177</td>\n",
       "    </tr>\n",
       "    <tr>\n",
       "      <th>36</th>\n",
       "      <td>Age dependency ratio, young (% of working-age ...</td>\n",
       "      <td>SP.POP.DPND.YG</td>\n",
       "      <td>Brazil</td>\n",
       "      <td>BRA</td>\n",
       "      <td>2007.0</td>\n",
       "      <td>39.081032</td>\n",
       "      <td>GNI per capita growth (annual %)</td>\n",
       "      <td>NY.GNP.PCAP.KD.ZG</td>\n",
       "      <td>Brazil</td>\n",
       "      <td>BRA</td>\n",
       "      <td>5.384931</td>\n",
       "    </tr>\n",
       "    <tr>\n",
       "      <th>37</th>\n",
       "      <td>Age dependency ratio, young (% of working-age ...</td>\n",
       "      <td>SP.POP.DPND.YG</td>\n",
       "      <td>Brazil</td>\n",
       "      <td>BRA</td>\n",
       "      <td>2008.0</td>\n",
       "      <td>38.157688</td>\n",
       "      <td>GNI per capita growth (annual %)</td>\n",
       "      <td>NY.GNP.PCAP.KD.ZG</td>\n",
       "      <td>Brazil</td>\n",
       "      <td>BRA</td>\n",
       "      <td>3.714313</td>\n",
       "    </tr>\n",
       "    <tr>\n",
       "      <th>38</th>\n",
       "      <td>Age dependency ratio, young (% of working-age ...</td>\n",
       "      <td>SP.POP.DPND.YG</td>\n",
       "      <td>Brazil</td>\n",
       "      <td>BRA</td>\n",
       "      <td>2009.0</td>\n",
       "      <td>37.237466</td>\n",
       "      <td>GNI per capita growth (annual %)</td>\n",
       "      <td>NY.GNP.PCAP.KD.ZG</td>\n",
       "      <td>Brazil</td>\n",
       "      <td>BRA</td>\n",
       "      <td>-0.905124</td>\n",
       "    </tr>\n",
       "    <tr>\n",
       "      <th>39</th>\n",
       "      <td>Age dependency ratio, young (% of working-age ...</td>\n",
       "      <td>SP.POP.DPND.YG</td>\n",
       "      <td>Brazil</td>\n",
       "      <td>BRA</td>\n",
       "      <td>2010.0</td>\n",
       "      <td>36.314913</td>\n",
       "      <td>GNI per capita growth (annual %)</td>\n",
       "      <td>NY.GNP.PCAP.KD.ZG</td>\n",
       "      <td>Brazil</td>\n",
       "      <td>BRA</td>\n",
       "      <td>5.572044</td>\n",
       "    </tr>\n",
       "    <tr>\n",
       "      <th>40</th>\n",
       "      <td>Age dependency ratio, young (% of working-age ...</td>\n",
       "      <td>SP.POP.DPND.YG</td>\n",
       "      <td>Brazil</td>\n",
       "      <td>BRA</td>\n",
       "      <td>2011.0</td>\n",
       "      <td>35.416345</td>\n",
       "      <td>GNI per capita growth (annual %)</td>\n",
       "      <td>NY.GNP.PCAP.KD.ZG</td>\n",
       "      <td>Brazil</td>\n",
       "      <td>BRA</td>\n",
       "      <td>3.550420</td>\n",
       "    </tr>\n",
       "    <tr>\n",
       "      <th>41</th>\n",
       "      <td>Age dependency ratio, young (% of working-age ...</td>\n",
       "      <td>SP.POP.DPND.YG</td>\n",
       "      <td>Brazil</td>\n",
       "      <td>BRA</td>\n",
       "      <td>2012.0</td>\n",
       "      <td>34.557182</td>\n",
       "      <td>GNI per capita growth (annual %)</td>\n",
       "      <td>NY.GNP.PCAP.KD.ZG</td>\n",
       "      <td>Brazil</td>\n",
       "      <td>BRA</td>\n",
       "      <td>1.088684</td>\n",
       "    </tr>\n",
       "    <tr>\n",
       "      <th>42</th>\n",
       "      <td>Age dependency ratio, young (% of working-age ...</td>\n",
       "      <td>SP.POP.DPND.YG</td>\n",
       "      <td>Brazil</td>\n",
       "      <td>BRA</td>\n",
       "      <td>2013.0</td>\n",
       "      <td>33.733999</td>\n",
       "      <td>GNI per capita growth (annual %)</td>\n",
       "      <td>NY.GNP.PCAP.KD.ZG</td>\n",
       "      <td>Brazil</td>\n",
       "      <td>BRA</td>\n",
       "      <td>3.285533</td>\n",
       "    </tr>\n",
       "    <tr>\n",
       "      <th>43</th>\n",
       "      <td>Age dependency ratio, young (% of working-age ...</td>\n",
       "      <td>SP.POP.DPND.YG</td>\n",
       "      <td>Brazil</td>\n",
       "      <td>BRA</td>\n",
       "      <td>2014.0</td>\n",
       "      <td>32.954730</td>\n",
       "      <td>GNI per capita growth (annual %)</td>\n",
       "      <td>NY.GNP.PCAP.KD.ZG</td>\n",
       "      <td>Brazil</td>\n",
       "      <td>BRA</td>\n",
       "      <td>-0.830005</td>\n",
       "    </tr>\n",
       "    <tr>\n",
       "      <th>44</th>\n",
       "      <td>Age dependency ratio, young (% of working-age ...</td>\n",
       "      <td>SP.POP.DPND.YG</td>\n",
       "      <td>Brazil</td>\n",
       "      <td>BRA</td>\n",
       "      <td>2015.0</td>\n",
       "      <td>32.229507</td>\n",
       "      <td>GNI per capita growth (annual %)</td>\n",
       "      <td>NY.GNP.PCAP.KD.ZG</td>\n",
       "      <td>Brazil</td>\n",
       "      <td>BRA</td>\n",
       "      <td>-4.365731</td>\n",
       "    </tr>\n",
       "    <tr>\n",
       "      <th>45</th>\n",
       "      <td>Age dependency ratio, young (% of working-age ...</td>\n",
       "      <td>SP.POP.DPND.YG</td>\n",
       "      <td>Brazil</td>\n",
       "      <td>BRA</td>\n",
       "      <td>2016.0</td>\n",
       "      <td>31.658157</td>\n",
       "      <td>GNI per capita growth (annual %)</td>\n",
       "      <td>NY.GNP.PCAP.KD.ZG</td>\n",
       "      <td>Brazil</td>\n",
       "      <td>BRA</td>\n",
       "      <td>-4.306303</td>\n",
       "    </tr>\n",
       "    <tr>\n",
       "      <th>46</th>\n",
       "      <td>Age dependency ratio, young (% of working-age ...</td>\n",
       "      <td>SP.POP.DPND.YG</td>\n",
       "      <td>Brazil</td>\n",
       "      <td>BRA</td>\n",
       "      <td>2017.0</td>\n",
       "      <td>31.105477</td>\n",
       "      <td>GNI per capita growth (annual %)</td>\n",
       "      <td>NY.GNP.PCAP.KD.ZG</td>\n",
       "      <td>Brazil</td>\n",
       "      <td>BRA</td>\n",
       "      <td>0.773509</td>\n",
       "    </tr>\n",
       "    <tr>\n",
       "      <th>47</th>\n",
       "      <td>Age dependency ratio, young (% of working-age ...</td>\n",
       "      <td>SP.POP.DPND.YG</td>\n",
       "      <td>Brazil</td>\n",
       "      <td>BRA</td>\n",
       "      <td>2018.0</td>\n",
       "      <td>30.589513</td>\n",
       "      <td>GNI per capita growth (annual %)</td>\n",
       "      <td>NY.GNP.PCAP.KD.ZG</td>\n",
       "      <td>Brazil</td>\n",
       "      <td>BRA</td>\n",
       "      <td>-0.466758</td>\n",
       "    </tr>\n",
       "    <tr>\n",
       "      <th>48</th>\n",
       "      <td>Age dependency ratio, young (% of working-age ...</td>\n",
       "      <td>SP.POP.DPND.YG</td>\n",
       "      <td>Brazil</td>\n",
       "      <td>BRA</td>\n",
       "      <td>2019.0</td>\n",
       "      <td>30.125373</td>\n",
       "      <td>GNI per capita growth (annual %)</td>\n",
       "      <td>NY.GNP.PCAP.KD.ZG</td>\n",
       "      <td>Brazil</td>\n",
       "      <td>BRA</td>\n",
       "      <td>0.572064</td>\n",
       "    </tr>\n",
       "  </tbody>\n",
       "</table>\n",
       "</div>"
      ]
     },
     "metadata": {},
     "execution_count": 126
    }
   ],
   "metadata": {}
  },
  {
   "cell_type": "code",
   "execution_count": 78,
   "source": [
    "import statsmodels.api as sm\n",
    "from scipy import stats\n",
    "\n",
    "hipot_X = infant_deaths['Value'].iloc[:]\n",
    "hipot_y = gva['Value'].iloc[:]\n",
    "\n",
    "hipot_X = hipot_X.reset_index(drop=True)\n",
    "hipot_y = hipot_y.reset_index(drop=True)\n",
    "\n",
    "est = sm.OLS(hipot_y, hipot_X)\n",
    "est2 = est.fit()\n",
    "print(est2.summary())"
   ],
   "outputs": [
    {
     "output_type": "stream",
     "name": "stdout",
     "text": [
      "                                 OLS Regression Results                                \n",
      "=======================================================================================\n",
      "Dep. Variable:                  Value   R-squared (uncentered):                   0.108\n",
      "Model:                            OLS   Adj. R-squared (uncentered):              0.090\n",
      "Method:                 Least Squares   F-statistic:                              5.944\n",
      "Date:                Thu, 29 Jul 2021   Prob (F-statistic):                      0.0184\n",
      "Time:                        16:17:17   Log-Likelihood:                         -1448.2\n",
      "No. Observations:                  50   AIC:                                      2898.\n",
      "Df Residuals:                      49   BIC:                                      2900.\n",
      "Df Model:                           1                                                  \n",
      "Covariance Type:            nonrobust                                                  \n",
      "==============================================================================\n",
      "                 coef    std err          t      P>|t|      [0.025      0.975]\n",
      "------------------------------------------------------------------------------\n",
      "Value       1.632e+06    6.7e+05      2.438      0.018    2.87e+05    2.98e+06\n",
      "==============================================================================\n",
      "Omnibus:                        6.483   Durbin-Watson:                   0.028\n",
      "Prob(Omnibus):                  0.039   Jarque-Bera (JB):                5.705\n",
      "Skew:                           0.741   Prob(JB):                       0.0577\n",
      "Kurtosis:                       2.264   Cond. No.                         1.00\n",
      "==============================================================================\n",
      "\n",
      "Notes:\n",
      "[1] R² is computed without centering (uncentered) since the model does not contain a constant.\n",
      "[2] Standard Errors assume that the covariance matrix of the errors is correctly specified.\n"
     ]
    }
   ],
   "metadata": {}
  },
  {
   "cell_type": "markdown",
   "source": [
    ">- A partir dessas informações é possivel refutar a hipotese nula;"
   ],
   "metadata": {}
  },
  {
   "cell_type": "code",
   "execution_count": 54,
   "source": [
    "sns.regplot(x = gva['Value'], y = infant_deaths['Value'])"
   ],
   "outputs": [
    {
     "output_type": "execute_result",
     "data": {
      "text/plain": [
       "<AxesSubplot:xlabel='Value', ylabel='Value'>"
      ]
     },
     "metadata": {},
     "execution_count": 54
    },
    {
     "output_type": "display_data",
     "data": {
      "text/plain": [
       "<Figure size 432x288 with 1 Axes>"
      ],
      "image/png": "[encoded data removed]"
     },
     "metadata": {
      "needs_background": "light"
     }
    }
   ],
   "metadata": {}
  }
 ],
 "metadata": {
  "orig_nbformat": 4,
  "language_info": {
   "name": "python",
   "version": "3.9.4",
   "mimetype": "text/x-python",
   "codemirror_mode": {
    "name": "ipython",
    "version": 3
   },
   "pygments_lexer": "ipython3",
   "nbconvert_exporter": "python",
   "file_extension": ".py"
  },
  "kernelspec": {
   "name": "python3",
   "display_name": "Python 3.9.4 64-bit ('dev': conda)"
  },
  "interpreter": {
   "hash": "73ba0934a819d0225009db724ab5a86de3918dffb4a6db1c4e1870b848ff81da"
  }
 },
 "nbformat": 4,
 "nbformat_minor": 2
}