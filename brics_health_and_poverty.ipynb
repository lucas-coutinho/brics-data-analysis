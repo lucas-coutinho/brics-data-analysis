{
 "cells": [
  {
   "cell_type": "code",
   "execution_count": 36,
   "source": [
    "import pandas as pd\n",
    "import numpy as np\n",
    "import matplotlib.pyplot as plt\n",
    "import plotly.express as px\n",
    "import plotly.graph_objects as go\n",
    "from sklearn import preprocessing\n",
    "import seaborn as sns"
   ],
   "outputs": [],
   "metadata": {}
  },
  {
   "cell_type": "code",
   "execution_count": 2,
   "source": [
    "path_data = 'data/Economy_Data.csv'\n",
    "path_target = 'data/HealthAndPoverty_Data.csv'\n",
    "\n",
    "X = pd.read_csv(path_data, sep=';')\n",
    "y = pd.read_csv(path_target, sep=';')"
   ],
   "outputs": [],
   "metadata": {}
  },
  {
   "cell_type": "markdown",
   "source": [
    "# Limpando dados"
   ],
   "metadata": {}
  },
  {
   "cell_type": "code",
   "execution_count": 3,
   "source": [
    "X = X[~X['Value'].isna()] # dropping all rows with NaN values\n",
    "y = y[~y['Value'].isna()] # dropping all rows with NaN values"
   ],
   "outputs": [],
   "metadata": {}
  },
  {
   "cell_type": "code",
   "execution_count": 4,
   "source": [
    "X['SeriesName']"
   ],
   "outputs": [
    {
     "output_type": "execute_result",
     "data": {
      "text/plain": [
       "5        Adjusted net national income (constant 2010 US$)\n",
       "7        Adjusted net national income (constant 2010 US$)\n",
       "10             Adjusted net national income (current US$)\n",
       "11             Adjusted net national income (current US$)\n",
       "12             Adjusted net national income (current US$)\n",
       "                               ...                       \n",
       "86490                Use of IMF credit (DOD, current US$)\n",
       "86491                Use of IMF credit (DOD, current US$)\n",
       "86492                Use of IMF credit (DOD, current US$)\n",
       "86493                Use of IMF credit (DOD, current US$)\n",
       "86494                Use of IMF credit (DOD, current US$)\n",
       "Name: SeriesName, Length: 60348, dtype: object"
      ]
     },
     "metadata": {},
     "execution_count": 4
    }
   ],
   "metadata": {}
  },
  {
   "cell_type": "markdown",
   "source": [
    "## Primeira ideia:\n",
    "* Feature selection (ver a coluna Series Name - pra depois agrupamento por ano)\n",
    "\n",
    "## Nova ideia:\n",
    "* Utilizar os dados em X pra prever cada `SeriesName` de forma separada.\n",
    "* Aparentemente ha poucos em Y\n"
   ],
   "metadata": {}
  },
  {
   "cell_type": "markdown",
   "source": [
    "## ATENCAO \n",
    "Adicionei abaixo  uma transformacao das features em onehot, mas ainda nao sei como combinar todas no agg (talvez eu mantenha em sum)"
   ],
   "metadata": {}
  },
  {
   "cell_type": "code",
   "execution_count": 5,
   "source": [
    "one_hot = pd.get_dummies(X['SeriesName'])\n",
    "X = X.drop('SeriesName', axis=1)\n",
    "X = X.join(one_hot)"
   ],
   "outputs": [],
   "metadata": {}
  },
  {
   "cell_type": "code",
   "execution_count": 6,
   "source": [
    "# one_hot = pd.get_dummies(y['SeriesName'])\n",
    "# y.drop('SeriesName', axis = 1, inplace=True)\n",
    "# y = y.join(one_hot)"
   ],
   "outputs": [],
   "metadata": {}
  },
  {
   "cell_type": "code",
   "execution_count": 7,
   "source": [
    "X.head()"
   ],
   "outputs": [
    {
     "output_type": "execute_result",
     "data": {
      "text/plain": [
       "        SeriesCode CountryName CountryCode    Year         Value  \\\n",
       "5   NY.ADJ.NNTY.KD      Brazil         BRA  1970.0  3.918974e+11   \n",
       "7   NY.ADJ.NNTY.KD       India         IND  1970.0  1.915335e+11   \n",
       "10  NY.ADJ.NNTY.CD      Brazil         BRA  1970.0  3.786021e+10   \n",
       "11  NY.ADJ.NNTY.CD       China         CHN  1970.0  8.525561e+10   \n",
       "12  NY.ADJ.NNTY.CD       India         IND  1970.0  5.776720e+10   \n",
       "\n",
       "    Adjusted net national income (annual % growth)  \\\n",
       "5                                                0   \n",
       "7                                                0   \n",
       "10                                               0   \n",
       "11                                               0   \n",
       "12                                               0   \n",
       "\n",
       "    Adjusted net national income (constant 2010 US$)  \\\n",
       "5                                                  1   \n",
       "7                                                  1   \n",
       "10                                                 0   \n",
       "11                                                 0   \n",
       "12                                                 0   \n",
       "\n",
       "    Adjusted net national income (current US$)  \\\n",
       "5                                            0   \n",
       "7                                            0   \n",
       "10                                           1   \n",
       "11                                           1   \n",
       "12                                           1   \n",
       "\n",
       "    Adjusted net national income per capita (annual % growth)  \\\n",
       "5                                                   0           \n",
       "7                                                   0           \n",
       "10                                                  0           \n",
       "11                                                  0           \n",
       "12                                                  0           \n",
       "\n",
       "    Adjusted net national income per capita (constant 2010 US$)  ...  \\\n",
       "5                                                   0            ...   \n",
       "7                                                   0            ...   \n",
       "10                                                  0            ...   \n",
       "11                                                  0            ...   \n",
       "12                                                  0            ...   \n",
       "\n",
       "    Total reserves (includes gold, current US$)  \\\n",
       "5                                             0   \n",
       "7                                             0   \n",
       "10                                            0   \n",
       "11                                            0   \n",
       "12                                            0   \n",
       "\n",
       "    Total reserves in months of imports  \\\n",
       "5                                     0   \n",
       "7                                     0   \n",
       "10                                    0   \n",
       "11                                    0   \n",
       "12                                    0   \n",
       "\n",
       "    Total reserves minus gold (current US$)  Trade (% of GDP)  \\\n",
       "5                                         0                 0   \n",
       "7                                         0                 0   \n",
       "10                                        0                 0   \n",
       "11                                        0                 0   \n",
       "12                                        0                 0   \n",
       "\n",
       "    Trade in services (% of GDP)  \\\n",
       "5                              0   \n",
       "7                              0   \n",
       "10                             0   \n",
       "11                             0   \n",
       "12                             0   \n",
       "\n",
       "    Transport services (% of service exports, BoP)  \\\n",
       "5                                                0   \n",
       "7                                                0   \n",
       "10                                               0   \n",
       "11                                               0   \n",
       "12                                               0   \n",
       "\n",
       "    Transport services (% of service imports, BoP)  \\\n",
       "5                                                0   \n",
       "7                                                0   \n",
       "10                                               0   \n",
       "11                                               0   \n",
       "12                                               0   \n",
       "\n",
       "    Travel services (% of service exports, BoP)  \\\n",
       "5                                             0   \n",
       "7                                             0   \n",
       "10                                            0   \n",
       "11                                            0   \n",
       "12                                            0   \n",
       "\n",
       "    Travel services (% of service imports, BoP)  \\\n",
       "5                                             0   \n",
       "7                                             0   \n",
       "10                                            0   \n",
       "11                                            0   \n",
       "12                                            0   \n",
       "\n",
       "    Use of IMF credit (DOD, current US$)  \n",
       "5                                      0  \n",
       "7                                      0  \n",
       "10                                     0  \n",
       "11                                     0  \n",
       "12                                     0  \n",
       "\n",
       "[5 rows x 337 columns]"
      ],
      "text/html": [
       "<div>\n",
       "<style scoped>\n",
       "    .dataframe tbody tr th:only-of-type {\n",
       "        vertical-align: middle;\n",
       "    }\n",
       "\n",
       "    .dataframe tbody tr th {\n",
       "        vertical-align: top;\n",
       "    }\n",
       "\n",
       "    .dataframe thead th {\n",
       "        text-align: right;\n",
       "    }\n",
       "</style>\n",
       "<table border=\"1\" class=\"dataframe\">\n",
       "  <thead>\n",
       "    <tr style=\"text-align: right;\">\n",
       "      <th></th>\n",
       "      <th>SeriesCode</th>\n",
       "      <th>CountryName</th>\n",
       "      <th>CountryCode</th>\n",
       "      <th>Year</th>\n",
       "      <th>Value</th>\n",
       "      <th>Adjusted net national income (annual % growth)</th>\n",
       "      <th>Adjusted net national income (constant 2010 US$)</th>\n",
       "      <th>Adjusted net national income (current US$)</th>\n",
       "      <th>Adjusted net national income per capita (annual % growth)</th>\n",
       "      <th>Adjusted net national income per capita (constant 2010 US$)</th>\n",
       "      <th>...</th>\n",
       "      <th>Total reserves (includes gold, current US$)</th>\n",
       "      <th>Total reserves in months of imports</th>\n",
       "      <th>Total reserves minus gold (current US$)</th>\n",
       "      <th>Trade (% of GDP)</th>\n",
       "      <th>Trade in services (% of GDP)</th>\n",
       "      <th>Transport services (% of service exports, BoP)</th>\n",
       "      <th>Transport services (% of service imports, BoP)</th>\n",
       "      <th>Travel services (% of service exports, BoP)</th>\n",
       "      <th>Travel services (% of service imports, BoP)</th>\n",
       "      <th>Use of IMF credit (DOD, current US$)</th>\n",
       "    </tr>\n",
       "  </thead>\n",
       "  <tbody>\n",
       "    <tr>\n",
       "      <th>5</th>\n",
       "      <td>NY.ADJ.NNTY.KD</td>\n",
       "      <td>Brazil</td>\n",
       "      <td>BRA</td>\n",
       "      <td>1970.0</td>\n",
       "      <td>3.918974e+11</td>\n",
       "      <td>0</td>\n",
       "      <td>1</td>\n",
       "      <td>0</td>\n",
       "      <td>0</td>\n",
       "      <td>0</td>\n",
       "      <td>...</td>\n",
       "      <td>0</td>\n",
       "      <td>0</td>\n",
       "      <td>0</td>\n",
       "      <td>0</td>\n",
       "      <td>0</td>\n",
       "      <td>0</td>\n",
       "      <td>0</td>\n",
       "      <td>0</td>\n",
       "      <td>0</td>\n",
       "      <td>0</td>\n",
       "    </tr>\n",
       "    <tr>\n",
       "      <th>7</th>\n",
       "      <td>NY.ADJ.NNTY.KD</td>\n",
       "      <td>India</td>\n",
       "      <td>IND</td>\n",
       "      <td>1970.0</td>\n",
       "      <td>1.915335e+11</td>\n",
       "      <td>0</td>\n",
       "      <td>1</td>\n",
       "      <td>0</td>\n",
       "      <td>0</td>\n",
       "      <td>0</td>\n",
       "      <td>...</td>\n",
       "      <td>0</td>\n",
       "      <td>0</td>\n",
       "      <td>0</td>\n",
       "      <td>0</td>\n",
       "      <td>0</td>\n",
       "      <td>0</td>\n",
       "      <td>0</td>\n",
       "      <td>0</td>\n",
       "      <td>0</td>\n",
       "      <td>0</td>\n",
       "    </tr>\n",
       "    <tr>\n",
       "      <th>10</th>\n",
       "      <td>NY.ADJ.NNTY.CD</td>\n",
       "      <td>Brazil</td>\n",
       "      <td>BRA</td>\n",
       "      <td>1970.0</td>\n",
       "      <td>3.786021e+10</td>\n",
       "      <td>0</td>\n",
       "      <td>0</td>\n",
       "      <td>1</td>\n",
       "      <td>0</td>\n",
       "      <td>0</td>\n",
       "      <td>...</td>\n",
       "      <td>0</td>\n",
       "      <td>0</td>\n",
       "      <td>0</td>\n",
       "      <td>0</td>\n",
       "      <td>0</td>\n",
       "      <td>0</td>\n",
       "      <td>0</td>\n",
       "      <td>0</td>\n",
       "      <td>0</td>\n",
       "      <td>0</td>\n",
       "    </tr>\n",
       "    <tr>\n",
       "      <th>11</th>\n",
       "      <td>NY.ADJ.NNTY.CD</td>\n",
       "      <td>China</td>\n",
       "      <td>CHN</td>\n",
       "      <td>1970.0</td>\n",
       "      <td>8.525561e+10</td>\n",
       "      <td>0</td>\n",
       "      <td>0</td>\n",
       "      <td>1</td>\n",
       "      <td>0</td>\n",
       "      <td>0</td>\n",
       "      <td>...</td>\n",
       "      <td>0</td>\n",
       "      <td>0</td>\n",
       "      <td>0</td>\n",
       "      <td>0</td>\n",
       "      <td>0</td>\n",
       "      <td>0</td>\n",
       "      <td>0</td>\n",
       "      <td>0</td>\n",
       "      <td>0</td>\n",
       "      <td>0</td>\n",
       "    </tr>\n",
       "    <tr>\n",
       "      <th>12</th>\n",
       "      <td>NY.ADJ.NNTY.CD</td>\n",
       "      <td>India</td>\n",
       "      <td>IND</td>\n",
       "      <td>1970.0</td>\n",
       "      <td>5.776720e+10</td>\n",
       "      <td>0</td>\n",
       "      <td>0</td>\n",
       "      <td>1</td>\n",
       "      <td>0</td>\n",
       "      <td>0</td>\n",
       "      <td>...</td>\n",
       "      <td>0</td>\n",
       "      <td>0</td>\n",
       "      <td>0</td>\n",
       "      <td>0</td>\n",
       "      <td>0</td>\n",
       "      <td>0</td>\n",
       "      <td>0</td>\n",
       "      <td>0</td>\n",
       "      <td>0</td>\n",
       "      <td>0</td>\n",
       "    </tr>\n",
       "  </tbody>\n",
       "</table>\n",
       "<p>5 rows × 337 columns</p>\n",
       "</div>"
      ]
     },
     "metadata": {},
     "execution_count": 7
    }
   ],
   "metadata": {}
  },
  {
   "cell_type": "markdown",
   "source": [
    ">- Como ideia aqui sugiro contar o número de análises que foram aplicadas aos países. Contar a incidência de dummies para cada ano, e a partir daí ver a evolução das análises empregadas ao longo do tempo.\n",
    ">- Outra ideia seria montar um dataframe único onde são agregados os dados de `X` e `y`, cruzando indices históricos de cada nação afim de definir possíveis relações entre as variáveis."
   ],
   "metadata": {}
  },
  {
   "cell_type": "code",
   "execution_count": 8,
   "source": [
    "X_by_year = X[X['CountryName']=='Brazil'].groupby(['Year']).mean().reset_index()\n",
    "y_by_year = y[y['CountryName']=='Brazil'].groupby(['Year']).mean().reset_index()"
   ],
   "outputs": [],
   "metadata": {}
  },
  {
   "cell_type": "code",
   "execution_count": 9,
   "source": [
    "X_by_year.head()"
   ],
   "outputs": [
    {
     "output_type": "execute_result",
     "data": {
      "text/plain": [
       "     Year         Value  Adjusted net national income (annual % growth)  \\\n",
       "0  1970.0  4.388201e+10                                        0.000000   \n",
       "1  1971.0  4.801289e+10                                        0.005181   \n",
       "2  1972.0  5.340986e+10                                        0.005102   \n",
       "3  1973.0  6.158197e+10                                        0.005128   \n",
       "4  1974.0  6.799576e+10                                        0.005102   \n",
       "\n",
       "   Adjusted net national income (constant 2010 US$)  \\\n",
       "0                                          0.005319   \n",
       "1                                          0.005181   \n",
       "2                                          0.005102   \n",
       "3                                          0.005128   \n",
       "4                                          0.005102   \n",
       "\n",
       "   Adjusted net national income (current US$)  \\\n",
       "0                                    0.005319   \n",
       "1                                    0.005181   \n",
       "2                                    0.005102   \n",
       "3                                    0.005128   \n",
       "4                                    0.005102   \n",
       "\n",
       "   Adjusted net national income per capita (annual % growth)  \\\n",
       "0                                           0.000000           \n",
       "1                                           0.005181           \n",
       "2                                           0.005102           \n",
       "3                                           0.005128           \n",
       "4                                           0.005102           \n",
       "\n",
       "   Adjusted net national income per capita (constant 2010 US$)  \\\n",
       "0                                           0.005319             \n",
       "1                                           0.005181             \n",
       "2                                           0.005102             \n",
       "3                                           0.005128             \n",
       "4                                           0.005102             \n",
       "\n",
       "   Adjusted net national income per capita (current US$)  \\\n",
       "0                                           0.005319       \n",
       "1                                           0.005181       \n",
       "2                                           0.005102       \n",
       "3                                           0.005128       \n",
       "4                                           0.005102       \n",
       "\n",
       "   Adjusted net savings, excluding particulate emission damage (% of GNI)  \\\n",
       "0                                                0.0                        \n",
       "1                                                0.0                        \n",
       "2                                                0.0                        \n",
       "3                                                0.0                        \n",
       "4                                                0.0                        \n",
       "\n",
       "   Adjusted net savings, excluding particulate emission damage (current US$)  \\\n",
       "0                                                0.0                           \n",
       "1                                                0.0                           \n",
       "2                                                0.0                           \n",
       "3                                                0.0                           \n",
       "4                                                0.0                           \n",
       "\n",
       "   ...  Total reserves (includes gold, current US$)  \\\n",
       "0  ...                                     0.005319   \n",
       "1  ...                                     0.005181   \n",
       "2  ...                                     0.005102   \n",
       "3  ...                                     0.005128   \n",
       "4  ...                                     0.005102   \n",
       "\n",
       "   Total reserves in months of imports  \\\n",
       "0                                  0.0   \n",
       "1                                  0.0   \n",
       "2                                  0.0   \n",
       "3                                  0.0   \n",
       "4                                  0.0   \n",
       "\n",
       "   Total reserves minus gold (current US$)  Trade (% of GDP)  \\\n",
       "0                                 0.005319          0.005319   \n",
       "1                                 0.005181          0.005181   \n",
       "2                                 0.005102          0.005102   \n",
       "3                                 0.005128          0.005128   \n",
       "4                                 0.005102          0.005102   \n",
       "\n",
       "   Trade in services (% of GDP)  \\\n",
       "0                           0.0   \n",
       "1                           0.0   \n",
       "2                           0.0   \n",
       "3                           0.0   \n",
       "4                           0.0   \n",
       "\n",
       "   Transport services (% of service exports, BoP)  \\\n",
       "0                                             0.0   \n",
       "1                                             0.0   \n",
       "2                                             0.0   \n",
       "3                                             0.0   \n",
       "4                                             0.0   \n",
       "\n",
       "   Transport services (% of service imports, BoP)  \\\n",
       "0                                             0.0   \n",
       "1                                             0.0   \n",
       "2                                             0.0   \n",
       "3                                             0.0   \n",
       "4                                             0.0   \n",
       "\n",
       "   Travel services (% of service exports, BoP)  \\\n",
       "0                                          0.0   \n",
       "1                                          0.0   \n",
       "2                                          0.0   \n",
       "3                                          0.0   \n",
       "4                                          0.0   \n",
       "\n",
       "   Travel services (% of service imports, BoP)  \\\n",
       "0                                          0.0   \n",
       "1                                          0.0   \n",
       "2                                          0.0   \n",
       "3                                          0.0   \n",
       "4                                          0.0   \n",
       "\n",
       "   Use of IMF credit (DOD, current US$)  \n",
       "0                              0.005319  \n",
       "1                              0.005181  \n",
       "2                              0.005102  \n",
       "3                              0.005128  \n",
       "4                              0.005102  \n",
       "\n",
       "[5 rows x 334 columns]"
      ],
      "text/html": [
       "<div>\n",
       "<style scoped>\n",
       "    .dataframe tbody tr th:only-of-type {\n",
       "        vertical-align: middle;\n",
       "    }\n",
       "\n",
       "    .dataframe tbody tr th {\n",
       "        vertical-align: top;\n",
       "    }\n",
       "\n",
       "    .dataframe thead th {\n",
       "        text-align: right;\n",
       "    }\n",
       "</style>\n",
       "<table border=\"1\" class=\"dataframe\">\n",
       "  <thead>\n",
       "    <tr style=\"text-align: right;\">\n",
       "      <th></th>\n",
       "      <th>Year</th>\n",
       "      <th>Value</th>\n",
       "      <th>Adjusted net national income (annual % growth)</th>\n",
       "      <th>Adjusted net national income (constant 2010 US$)</th>\n",
       "      <th>Adjusted net national income (current US$)</th>\n",
       "      <th>Adjusted net national income per capita (annual % growth)</th>\n",
       "      <th>Adjusted net national income per capita (constant 2010 US$)</th>\n",
       "      <th>Adjusted net national income per capita (current US$)</th>\n",
       "      <th>Adjusted net savings, excluding particulate emission damage (% of GNI)</th>\n",
       "      <th>Adjusted net savings, excluding particulate emission damage (current US$)</th>\n",
       "      <th>...</th>\n",
       "      <th>Total reserves (includes gold, current US$)</th>\n",
       "      <th>Total reserves in months of imports</th>\n",
       "      <th>Total reserves minus gold (current US$)</th>\n",
       "      <th>Trade (% of GDP)</th>\n",
       "      <th>Trade in services (% of GDP)</th>\n",
       "      <th>Transport services (% of service exports, BoP)</th>\n",
       "      <th>Transport services (% of service imports, BoP)</th>\n",
       "      <th>Travel services (% of service exports, BoP)</th>\n",
       "      <th>Travel services (% of service imports, BoP)</th>\n",
       "      <th>Use of IMF credit (DOD, current US$)</th>\n",
       "    </tr>\n",
       "  </thead>\n",
       "  <tbody>\n",
       "    <tr>\n",
       "      <th>0</th>\n",
       "      <td>1970.0</td>\n",
       "      <td>4.388201e+10</td>\n",
       "      <td>0.000000</td>\n",
       "      <td>0.005319</td>\n",
       "      <td>0.005319</td>\n",
       "      <td>0.000000</td>\n",
       "      <td>0.005319</td>\n",
       "      <td>0.005319</td>\n",
       "      <td>0.0</td>\n",
       "      <td>0.0</td>\n",
       "      <td>...</td>\n",
       "      <td>0.005319</td>\n",
       "      <td>0.0</td>\n",
       "      <td>0.005319</td>\n",
       "      <td>0.005319</td>\n",
       "      <td>0.0</td>\n",
       "      <td>0.0</td>\n",
       "      <td>0.0</td>\n",
       "      <td>0.0</td>\n",
       "      <td>0.0</td>\n",
       "      <td>0.005319</td>\n",
       "    </tr>\n",
       "    <tr>\n",
       "      <th>1</th>\n",
       "      <td>1971.0</td>\n",
       "      <td>4.801289e+10</td>\n",
       "      <td>0.005181</td>\n",
       "      <td>0.005181</td>\n",
       "      <td>0.005181</td>\n",
       "      <td>0.005181</td>\n",
       "      <td>0.005181</td>\n",
       "      <td>0.005181</td>\n",
       "      <td>0.0</td>\n",
       "      <td>0.0</td>\n",
       "      <td>...</td>\n",
       "      <td>0.005181</td>\n",
       "      <td>0.0</td>\n",
       "      <td>0.005181</td>\n",
       "      <td>0.005181</td>\n",
       "      <td>0.0</td>\n",
       "      <td>0.0</td>\n",
       "      <td>0.0</td>\n",
       "      <td>0.0</td>\n",
       "      <td>0.0</td>\n",
       "      <td>0.005181</td>\n",
       "    </tr>\n",
       "    <tr>\n",
       "      <th>2</th>\n",
       "      <td>1972.0</td>\n",
       "      <td>5.340986e+10</td>\n",
       "      <td>0.005102</td>\n",
       "      <td>0.005102</td>\n",
       "      <td>0.005102</td>\n",
       "      <td>0.005102</td>\n",
       "      <td>0.005102</td>\n",
       "      <td>0.005102</td>\n",
       "      <td>0.0</td>\n",
       "      <td>0.0</td>\n",
       "      <td>...</td>\n",
       "      <td>0.005102</td>\n",
       "      <td>0.0</td>\n",
       "      <td>0.005102</td>\n",
       "      <td>0.005102</td>\n",
       "      <td>0.0</td>\n",
       "      <td>0.0</td>\n",
       "      <td>0.0</td>\n",
       "      <td>0.0</td>\n",
       "      <td>0.0</td>\n",
       "      <td>0.005102</td>\n",
       "    </tr>\n",
       "    <tr>\n",
       "      <th>3</th>\n",
       "      <td>1973.0</td>\n",
       "      <td>6.158197e+10</td>\n",
       "      <td>0.005128</td>\n",
       "      <td>0.005128</td>\n",
       "      <td>0.005128</td>\n",
       "      <td>0.005128</td>\n",
       "      <td>0.005128</td>\n",
       "      <td>0.005128</td>\n",
       "      <td>0.0</td>\n",
       "      <td>0.0</td>\n",
       "      <td>...</td>\n",
       "      <td>0.005128</td>\n",
       "      <td>0.0</td>\n",
       "      <td>0.005128</td>\n",
       "      <td>0.005128</td>\n",
       "      <td>0.0</td>\n",
       "      <td>0.0</td>\n",
       "      <td>0.0</td>\n",
       "      <td>0.0</td>\n",
       "      <td>0.0</td>\n",
       "      <td>0.005128</td>\n",
       "    </tr>\n",
       "    <tr>\n",
       "      <th>4</th>\n",
       "      <td>1974.0</td>\n",
       "      <td>6.799576e+10</td>\n",
       "      <td>0.005102</td>\n",
       "      <td>0.005102</td>\n",
       "      <td>0.005102</td>\n",
       "      <td>0.005102</td>\n",
       "      <td>0.005102</td>\n",
       "      <td>0.005102</td>\n",
       "      <td>0.0</td>\n",
       "      <td>0.0</td>\n",
       "      <td>...</td>\n",
       "      <td>0.005102</td>\n",
       "      <td>0.0</td>\n",
       "      <td>0.005102</td>\n",
       "      <td>0.005102</td>\n",
       "      <td>0.0</td>\n",
       "      <td>0.0</td>\n",
       "      <td>0.0</td>\n",
       "      <td>0.0</td>\n",
       "      <td>0.0</td>\n",
       "      <td>0.005102</td>\n",
       "    </tr>\n",
       "  </tbody>\n",
       "</table>\n",
       "<p>5 rows × 334 columns</p>\n",
       "</div>"
      ]
     },
     "metadata": {},
     "execution_count": 9
    }
   ],
   "metadata": {}
  },
  {
   "cell_type": "code",
   "execution_count": 10,
   "source": [
    "X_by_year.iloc[:,2:] = X_by_year.iloc[:,2:].applymap(lambda x: 1 if x > 0 else 0)"
   ],
   "outputs": [],
   "metadata": {}
  },
  {
   "cell_type": "code",
   "execution_count": 11,
   "source": [
    "X_by_year.head()"
   ],
   "outputs": [
    {
     "output_type": "execute_result",
     "data": {
      "text/plain": [
       "     Year         Value  Adjusted net national income (annual % growth)  \\\n",
       "0  1970.0  4.388201e+10                                               0   \n",
       "1  1971.0  4.801289e+10                                               1   \n",
       "2  1972.0  5.340986e+10                                               1   \n",
       "3  1973.0  6.158197e+10                                               1   \n",
       "4  1974.0  6.799576e+10                                               1   \n",
       "\n",
       "   Adjusted net national income (constant 2010 US$)  \\\n",
       "0                                                 1   \n",
       "1                                                 1   \n",
       "2                                                 1   \n",
       "3                                                 1   \n",
       "4                                                 1   \n",
       "\n",
       "   Adjusted net national income (current US$)  \\\n",
       "0                                           1   \n",
       "1                                           1   \n",
       "2                                           1   \n",
       "3                                           1   \n",
       "4                                           1   \n",
       "\n",
       "   Adjusted net national income per capita (annual % growth)  \\\n",
       "0                                                  0           \n",
       "1                                                  1           \n",
       "2                                                  1           \n",
       "3                                                  1           \n",
       "4                                                  1           \n",
       "\n",
       "   Adjusted net national income per capita (constant 2010 US$)  \\\n",
       "0                                                  1             \n",
       "1                                                  1             \n",
       "2                                                  1             \n",
       "3                                                  1             \n",
       "4                                                  1             \n",
       "\n",
       "   Adjusted net national income per capita (current US$)  \\\n",
       "0                                                  1       \n",
       "1                                                  1       \n",
       "2                                                  1       \n",
       "3                                                  1       \n",
       "4                                                  1       \n",
       "\n",
       "   Adjusted net savings, excluding particulate emission damage (% of GNI)  \\\n",
       "0                                                  0                        \n",
       "1                                                  0                        \n",
       "2                                                  0                        \n",
       "3                                                  0                        \n",
       "4                                                  0                        \n",
       "\n",
       "   Adjusted net savings, excluding particulate emission damage (current US$)  \\\n",
       "0                                                  0                           \n",
       "1                                                  0                           \n",
       "2                                                  0                           \n",
       "3                                                  0                           \n",
       "4                                                  0                           \n",
       "\n",
       "   ...  Total reserves (includes gold, current US$)  \\\n",
       "0  ...                                            1   \n",
       "1  ...                                            1   \n",
       "2  ...                                            1   \n",
       "3  ...                                            1   \n",
       "4  ...                                            1   \n",
       "\n",
       "   Total reserves in months of imports  \\\n",
       "0                                    0   \n",
       "1                                    0   \n",
       "2                                    0   \n",
       "3                                    0   \n",
       "4                                    0   \n",
       "\n",
       "   Total reserves minus gold (current US$)  Trade (% of GDP)  \\\n",
       "0                                        1                 1   \n",
       "1                                        1                 1   \n",
       "2                                        1                 1   \n",
       "3                                        1                 1   \n",
       "4                                        1                 1   \n",
       "\n",
       "   Trade in services (% of GDP)  \\\n",
       "0                             0   \n",
       "1                             0   \n",
       "2                             0   \n",
       "3                             0   \n",
       "4                             0   \n",
       "\n",
       "   Transport services (% of service exports, BoP)  \\\n",
       "0                                               0   \n",
       "1                                               0   \n",
       "2                                               0   \n",
       "3                                               0   \n",
       "4                                               0   \n",
       "\n",
       "   Transport services (% of service imports, BoP)  \\\n",
       "0                                               0   \n",
       "1                                               0   \n",
       "2                                               0   \n",
       "3                                               0   \n",
       "4                                               0   \n",
       "\n",
       "   Travel services (% of service exports, BoP)  \\\n",
       "0                                            0   \n",
       "1                                            0   \n",
       "2                                            0   \n",
       "3                                            0   \n",
       "4                                            0   \n",
       "\n",
       "   Travel services (% of service imports, BoP)  \\\n",
       "0                                            0   \n",
       "1                                            0   \n",
       "2                                            0   \n",
       "3                                            0   \n",
       "4                                            0   \n",
       "\n",
       "   Use of IMF credit (DOD, current US$)  \n",
       "0                                     1  \n",
       "1                                     1  \n",
       "2                                     1  \n",
       "3                                     1  \n",
       "4                                     1  \n",
       "\n",
       "[5 rows x 334 columns]"
      ],
      "text/html": [
       "<div>\n",
       "<style scoped>\n",
       "    .dataframe tbody tr th:only-of-type {\n",
       "        vertical-align: middle;\n",
       "    }\n",
       "\n",
       "    .dataframe tbody tr th {\n",
       "        vertical-align: top;\n",
       "    }\n",
       "\n",
       "    .dataframe thead th {\n",
       "        text-align: right;\n",
       "    }\n",
       "</style>\n",
       "<table border=\"1\" class=\"dataframe\">\n",
       "  <thead>\n",
       "    <tr style=\"text-align: right;\">\n",
       "      <th></th>\n",
       "      <th>Year</th>\n",
       "      <th>Value</th>\n",
       "      <th>Adjusted net national income (annual % growth)</th>\n",
       "      <th>Adjusted net national income (constant 2010 US$)</th>\n",
       "      <th>Adjusted net national income (current US$)</th>\n",
       "      <th>Adjusted net national income per capita (annual % growth)</th>\n",
       "      <th>Adjusted net national income per capita (constant 2010 US$)</th>\n",
       "      <th>Adjusted net national income per capita (current US$)</th>\n",
       "      <th>Adjusted net savings, excluding particulate emission damage (% of GNI)</th>\n",
       "      <th>Adjusted net savings, excluding particulate emission damage (current US$)</th>\n",
       "      <th>...</th>\n",
       "      <th>Total reserves (includes gold, current US$)</th>\n",
       "      <th>Total reserves in months of imports</th>\n",
       "      <th>Total reserves minus gold (current US$)</th>\n",
       "      <th>Trade (% of GDP)</th>\n",
       "      <th>Trade in services (% of GDP)</th>\n",
       "      <th>Transport services (% of service exports, BoP)</th>\n",
       "      <th>Transport services (% of service imports, BoP)</th>\n",
       "      <th>Travel services (% of service exports, BoP)</th>\n",
       "      <th>Travel services (% of service imports, BoP)</th>\n",
       "      <th>Use of IMF credit (DOD, current US$)</th>\n",
       "    </tr>\n",
       "  </thead>\n",
       "  <tbody>\n",
       "    <tr>\n",
       "      <th>0</th>\n",
       "      <td>1970.0</td>\n",
       "      <td>4.388201e+10</td>\n",
       "      <td>0</td>\n",
       "      <td>1</td>\n",
       "      <td>1</td>\n",
       "      <td>0</td>\n",
       "      <td>1</td>\n",
       "      <td>1</td>\n",
       "      <td>0</td>\n",
       "      <td>0</td>\n",
       "      <td>...</td>\n",
       "      <td>1</td>\n",
       "      <td>0</td>\n",
       "      <td>1</td>\n",
       "      <td>1</td>\n",
       "      <td>0</td>\n",
       "      <td>0</td>\n",
       "      <td>0</td>\n",
       "      <td>0</td>\n",
       "      <td>0</td>\n",
       "      <td>1</td>\n",
       "    </tr>\n",
       "    <tr>\n",
       "      <th>1</th>\n",
       "      <td>1971.0</td>\n",
       "      <td>4.801289e+10</td>\n",
       "      <td>1</td>\n",
       "      <td>1</td>\n",
       "      <td>1</td>\n",
       "      <td>1</td>\n",
       "      <td>1</td>\n",
       "      <td>1</td>\n",
       "      <td>0</td>\n",
       "      <td>0</td>\n",
       "      <td>...</td>\n",
       "      <td>1</td>\n",
       "      <td>0</td>\n",
       "      <td>1</td>\n",
       "      <td>1</td>\n",
       "      <td>0</td>\n",
       "      <td>0</td>\n",
       "      <td>0</td>\n",
       "      <td>0</td>\n",
       "      <td>0</td>\n",
       "      <td>1</td>\n",
       "    </tr>\n",
       "    <tr>\n",
       "      <th>2</th>\n",
       "      <td>1972.0</td>\n",
       "      <td>5.340986e+10</td>\n",
       "      <td>1</td>\n",
       "      <td>1</td>\n",
       "      <td>1</td>\n",
       "      <td>1</td>\n",
       "      <td>1</td>\n",
       "      <td>1</td>\n",
       "      <td>0</td>\n",
       "      <td>0</td>\n",
       "      <td>...</td>\n",
       "      <td>1</td>\n",
       "      <td>0</td>\n",
       "      <td>1</td>\n",
       "      <td>1</td>\n",
       "      <td>0</td>\n",
       "      <td>0</td>\n",
       "      <td>0</td>\n",
       "      <td>0</td>\n",
       "      <td>0</td>\n",
       "      <td>1</td>\n",
       "    </tr>\n",
       "    <tr>\n",
       "      <th>3</th>\n",
       "      <td>1973.0</td>\n",
       "      <td>6.158197e+10</td>\n",
       "      <td>1</td>\n",
       "      <td>1</td>\n",
       "      <td>1</td>\n",
       "      <td>1</td>\n",
       "      <td>1</td>\n",
       "      <td>1</td>\n",
       "      <td>0</td>\n",
       "      <td>0</td>\n",
       "      <td>...</td>\n",
       "      <td>1</td>\n",
       "      <td>0</td>\n",
       "      <td>1</td>\n",
       "      <td>1</td>\n",
       "      <td>0</td>\n",
       "      <td>0</td>\n",
       "      <td>0</td>\n",
       "      <td>0</td>\n",
       "      <td>0</td>\n",
       "      <td>1</td>\n",
       "    </tr>\n",
       "    <tr>\n",
       "      <th>4</th>\n",
       "      <td>1974.0</td>\n",
       "      <td>6.799576e+10</td>\n",
       "      <td>1</td>\n",
       "      <td>1</td>\n",
       "      <td>1</td>\n",
       "      <td>1</td>\n",
       "      <td>1</td>\n",
       "      <td>1</td>\n",
       "      <td>0</td>\n",
       "      <td>0</td>\n",
       "      <td>...</td>\n",
       "      <td>1</td>\n",
       "      <td>0</td>\n",
       "      <td>1</td>\n",
       "      <td>1</td>\n",
       "      <td>0</td>\n",
       "      <td>0</td>\n",
       "      <td>0</td>\n",
       "      <td>0</td>\n",
       "      <td>0</td>\n",
       "      <td>1</td>\n",
       "    </tr>\n",
       "  </tbody>\n",
       "</table>\n",
       "<p>5 rows × 334 columns</p>\n",
       "</div>"
      ]
     },
     "metadata": {},
     "execution_count": 11
    }
   ],
   "metadata": {}
  },
  {
   "cell_type": "code",
   "execution_count": 12,
   "source": [
    "\n",
    "y_target = y[y['SeriesName'] == 'Adolescent fertility rate (births per 1,000 women ages 15-19)'].groupby(['CountryName','Year']).mean().reset_index()\n",
    "\n"
   ],
   "outputs": [],
   "metadata": {}
  },
  {
   "cell_type": "code",
   "execution_count": 13,
   "source": [
    "data = y_target[y_target['CountryName'] == 'Brazil'].merge(X_by_year, on='Year')\n",
    "X, y = data.iloc[:,4:], data.iloc[:,3]\n",
    "X['Value'] = data.iloc[:,2]"
   ],
   "outputs": [],
   "metadata": {}
  },
  {
   "cell_type": "code",
   "execution_count": 14,
   "source": [
    "from sklearn.ensemble import RandomForestClassifier\n",
    "from sklearn.model_selection import cross_validate, StratifiedKFold\n",
    "from sklearn.metrics import plot_roc_curve, plot_precision_recall_curve\n",
    "from sklearn.metrics import auc\n",
    "from sklearn.model_selection import  RandomizedSearchCV, train_test_split\n",
    "from sklearn.ensemble import RandomForestRegressor as RF\n",
    "\n",
    "X_train, X_test, y_train, y_test = train_test_split(X, y, test_size=0.2, random_state=42)\n",
    "\n",
    "tprs = []\n",
    "aucs = []\n",
    "score = []\n",
    "ap = []\n",
    "prcs = []\n",
    "feature_importances = []\n",
    "mean_fpr = np.linspace(0, 1, 100)\n",
    "\n",
    "\n",
    "#for i, (train, test) in enumerate(cv.split(X, y)):\n",
    "n = 10\n",
    "param_grid = {\n",
    "    'n_estimators': [i for i in range(2,100)],\n",
    "    'min_samples_split': [i for i in range(8,51)],\n",
    "    'min_samples_leaf': [i for i in range(1,31)],\n",
    "    'max_depth': [i for i in range(2,20)],\n",
    "    'max_samples': [round(0.1*i,2) for i in range(1,10)]\n",
    "}\n",
    "\n",
    "random_grid_search = RandomizedSearchCV(estimator=RF(max_features='sqrt'),param_distributions=param_grid,n_iter=n,scoring='r2', n_jobs=-1, verbose=2, random_state=42)\n",
    "random_grid_search.fit(X_train,\n",
    "                        y_train,)\n",
    "\n",
    "feature_importances.append(random_grid_search.best_estimator_.feature_importances_)\n",
    "\n",
    "    \n"
   ],
   "outputs": [
    {
     "output_type": "stream",
     "name": "stdout",
     "text": [
      "Fitting 5 folds for each of 10 candidates, totalling 50 fits\n"
     ]
    }
   ],
   "metadata": {}
  },
  {
   "cell_type": "code",
   "execution_count": 15,
   "source": [
    "random_grid_search.best_estimator_.feature_importances_"
   ],
   "outputs": [
    {
     "output_type": "execute_result",
     "data": {
      "text/plain": [
       "array([0., 0., 0., 0., 0., 0., 0., 0., 0., 0., 0., 0., 0., 0., 0., 0., 0.,\n",
       "       0., 0., 0., 0., 0., 0., 0., 0., 0., 0., 0., 0., 0., 0., 0., 0., 0.,\n",
       "       0., 0., 0., 0., 0., 0., 0., 0., 0., 0., 0., 0., 0., 0., 0., 0., 0.,\n",
       "       0., 0., 0., 0., 0., 0., 0., 0., 0., 0., 0., 0., 0., 0., 0., 0., 0.,\n",
       "       0., 0., 0., 0., 0., 0., 0., 0., 0., 0., 0., 0., 0., 0., 0., 0., 0.,\n",
       "       0., 0., 0., 0., 0., 0., 0., 0., 0., 0., 0., 0., 0., 0., 0., 0., 0.,\n",
       "       0., 0., 0., 0., 0., 0., 0., 0., 0., 0., 0., 0., 0., 0., 0., 0., 0.,\n",
       "       0., 0., 0., 0., 0., 0., 0., 0., 0., 0., 0., 0., 0., 0., 0., 0., 0.,\n",
       "       0., 0., 0., 0., 0., 0., 0., 0., 0., 0., 0., 0., 0., 0., 0., 0., 0.,\n",
       "       0., 0., 0., 0., 0., 0., 0., 0., 0., 0., 0., 0., 0., 0., 0., 0., 0.,\n",
       "       0., 0., 0., 0., 0., 0., 0., 0., 0., 0., 0., 0., 0., 0., 0., 0., 0.,\n",
       "       0., 0., 0., 0., 0., 0., 0., 0., 0., 0., 0., 0., 0., 0., 0., 0., 0.,\n",
       "       0., 0., 0., 0., 0., 0., 0., 0., 0., 0., 0., 0., 0., 0., 0., 0., 0.,\n",
       "       0., 0., 0., 0., 0., 0., 0., 0., 0., 0., 0., 0., 0., 0., 0., 0., 0.,\n",
       "       0., 0., 0., 0., 0., 0., 0., 0., 0., 0., 0., 0., 0., 0., 0., 0., 0.,\n",
       "       0., 0., 0., 0., 0., 0., 0., 0., 0., 0., 0., 0., 0., 0., 0., 0., 0.,\n",
       "       0., 0., 0., 0., 0., 0., 0., 0., 0., 0., 0., 0., 0., 0., 0., 0., 0.,\n",
       "       0., 0., 0., 0., 0., 0., 0., 0., 0., 0., 0., 0., 0., 0., 0., 0., 0.,\n",
       "       0., 0., 0., 0., 0., 0., 0., 0., 0., 0., 0., 0., 0., 0., 0., 0., 0.,\n",
       "       0., 0., 0., 0., 0., 0., 0., 0., 0., 0.])"
      ]
     },
     "metadata": {},
     "execution_count": 15
    }
   ],
   "metadata": {}
  },
  {
   "cell_type": "markdown",
   "source": [
    "## Resultados\n",
    "* Ficou horrivel o regressor dessa forma (talvez tenhamos que fazer de maneiras mais simples), e.g.:\n",
    "    - selecionar um `SeriesName` de X e um de y e criar uma hipotese em cima"
   ],
   "metadata": {}
  },
  {
   "cell_type": "markdown",
   "source": [],
   "metadata": {}
  },
  {
   "cell_type": "code",
   "execution_count": 5,
   "source": [
    "X_br = X[X['CountryCode'] == 'BRA'].copy()"
   ],
   "outputs": [],
   "metadata": {}
  },
  {
   "cell_type": "code",
   "execution_count": 6,
   "source": [
    "y_br = y[y['CountryCode'] == 'BRA'].copy()"
   ],
   "outputs": [],
   "metadata": {}
  },
  {
   "cell_type": "code",
   "execution_count": 7,
   "source": [
    "y_br"
   ],
   "outputs": [
    {
     "output_type": "execute_result",
     "data": {
      "text/plain": [
       "                                              SeriesName      SeriesCode  \\\n",
       "0      Adolescent fertility rate (births per 1,000 wo...     SP.ADO.TFRT   \n",
       "15     Age dependency ratio (% of working-age populat...     SP.POP.DPND   \n",
       "20     Age dependency ratio, old (% of working-age po...  SP.POP.DPND.OL   \n",
       "25     Age dependency ratio, young (% of working-age ...  SP.POP.DPND.YG   \n",
       "55                  Birth rate, crude (per 1,000 people)  SP.DYN.CBRT.IN   \n",
       "...                                                  ...             ...   \n",
       "69210  Prevalence of HIV, total (% of population ages...  SH.DYN.AIDS.ZS   \n",
       "69305  Probability of dying among adolescents ages 10...     SH.DYN.1014   \n",
       "69310  Probability of dying among adolescents ages 15...     SH.DYN.1519   \n",
       "69315  Probability of dying among children ages 5-9 y...     SH.DYN.0509   \n",
       "69320  Probability of dying among youth ages 20-24 ye...     SH.DYN.2024   \n",
       "\n",
       "      CountryName CountryCode    Year      Value  \n",
       "0          Brazil         BRA  1970.0  77.118400  \n",
       "15         Brazil         BRA  1970.0  83.980449  \n",
       "20         Brazil         BRA  1970.0   6.318839  \n",
       "25         Brazil         BRA  1970.0  77.661610  \n",
       "55         Brazil         BRA  1970.0  35.116000  \n",
       "...           ...         ...     ...        ...  \n",
       "69210      Brazil         BRA  2019.0   0.500000  \n",
       "69305      Brazil         BRA  2019.0   1.400000  \n",
       "69310      Brazil         BRA  2019.0   5.800000  \n",
       "69315      Brazil         BRA  2019.0   1.000000  \n",
       "69320      Brazil         BRA  2019.0   7.900000  \n",
       "\n",
       "[6289 rows x 6 columns]"
      ],
      "text/html": [
       "<div>\n",
       "<style scoped>\n",
       "    .dataframe tbody tr th:only-of-type {\n",
       "        vertical-align: middle;\n",
       "    }\n",
       "\n",
       "    .dataframe tbody tr th {\n",
       "        vertical-align: top;\n",
       "    }\n",
       "\n",
       "    .dataframe thead th {\n",
       "        text-align: right;\n",
       "    }\n",
       "</style>\n",
       "<table border=\"1\" class=\"dataframe\">\n",
       "  <thead>\n",
       "    <tr style=\"text-align: right;\">\n",
       "      <th></th>\n",
       "      <th>SeriesName</th>\n",
       "      <th>SeriesCode</th>\n",
       "      <th>CountryName</th>\n",
       "      <th>CountryCode</th>\n",
       "      <th>Year</th>\n",
       "      <th>Value</th>\n",
       "    </tr>\n",
       "  </thead>\n",
       "  <tbody>\n",
       "    <tr>\n",
       "      <th>0</th>\n",
       "      <td>Adolescent fertility rate (births per 1,000 wo...</td>\n",
       "      <td>SP.ADO.TFRT</td>\n",
       "      <td>Brazil</td>\n",
       "      <td>BRA</td>\n",
       "      <td>1970.0</td>\n",
       "      <td>77.118400</td>\n",
       "    </tr>\n",
       "    <tr>\n",
       "      <th>15</th>\n",
       "      <td>Age dependency ratio (% of working-age populat...</td>\n",
       "      <td>SP.POP.DPND</td>\n",
       "      <td>Brazil</td>\n",
       "      <td>BRA</td>\n",
       "      <td>1970.0</td>\n",
       "      <td>83.980449</td>\n",
       "    </tr>\n",
       "    <tr>\n",
       "      <th>20</th>\n",
       "      <td>Age dependency ratio, old (% of working-age po...</td>\n",
       "      <td>SP.POP.DPND.OL</td>\n",
       "      <td>Brazil</td>\n",
       "      <td>BRA</td>\n",
       "      <td>1970.0</td>\n",
       "      <td>6.318839</td>\n",
       "    </tr>\n",
       "    <tr>\n",
       "      <th>25</th>\n",
       "      <td>Age dependency ratio, young (% of working-age ...</td>\n",
       "      <td>SP.POP.DPND.YG</td>\n",
       "      <td>Brazil</td>\n",
       "      <td>BRA</td>\n",
       "      <td>1970.0</td>\n",
       "      <td>77.661610</td>\n",
       "    </tr>\n",
       "    <tr>\n",
       "      <th>55</th>\n",
       "      <td>Birth rate, crude (per 1,000 people)</td>\n",
       "      <td>SP.DYN.CBRT.IN</td>\n",
       "      <td>Brazil</td>\n",
       "      <td>BRA</td>\n",
       "      <td>1970.0</td>\n",
       "      <td>35.116000</td>\n",
       "    </tr>\n",
       "    <tr>\n",
       "      <th>...</th>\n",
       "      <td>...</td>\n",
       "      <td>...</td>\n",
       "      <td>...</td>\n",
       "      <td>...</td>\n",
       "      <td>...</td>\n",
       "      <td>...</td>\n",
       "    </tr>\n",
       "    <tr>\n",
       "      <th>69210</th>\n",
       "      <td>Prevalence of HIV, total (% of population ages...</td>\n",
       "      <td>SH.DYN.AIDS.ZS</td>\n",
       "      <td>Brazil</td>\n",
       "      <td>BRA</td>\n",
       "      <td>2019.0</td>\n",
       "      <td>0.500000</td>\n",
       "    </tr>\n",
       "    <tr>\n",
       "      <th>69305</th>\n",
       "      <td>Probability of dying among adolescents ages 10...</td>\n",
       "      <td>SH.DYN.1014</td>\n",
       "      <td>Brazil</td>\n",
       "      <td>BRA</td>\n",
       "      <td>2019.0</td>\n",
       "      <td>1.400000</td>\n",
       "    </tr>\n",
       "    <tr>\n",
       "      <th>69310</th>\n",
       "      <td>Probability of dying among adolescents ages 15...</td>\n",
       "      <td>SH.DYN.1519</td>\n",
       "      <td>Brazil</td>\n",
       "      <td>BRA</td>\n",
       "      <td>2019.0</td>\n",
       "      <td>5.800000</td>\n",
       "    </tr>\n",
       "    <tr>\n",
       "      <th>69315</th>\n",
       "      <td>Probability of dying among children ages 5-9 y...</td>\n",
       "      <td>SH.DYN.0509</td>\n",
       "      <td>Brazil</td>\n",
       "      <td>BRA</td>\n",
       "      <td>2019.0</td>\n",
       "      <td>1.000000</td>\n",
       "    </tr>\n",
       "    <tr>\n",
       "      <th>69320</th>\n",
       "      <td>Probability of dying among youth ages 20-24 ye...</td>\n",
       "      <td>SH.DYN.2024</td>\n",
       "      <td>Brazil</td>\n",
       "      <td>BRA</td>\n",
       "      <td>2019.0</td>\n",
       "      <td>7.900000</td>\n",
       "    </tr>\n",
       "  </tbody>\n",
       "</table>\n",
       "<p>6289 rows × 6 columns</p>\n",
       "</div>"
      ]
     },
     "metadata": {},
     "execution_count": 7
    }
   ],
   "metadata": {}
  },
  {
   "cell_type": "code",
   "execution_count": 8,
   "source": [
    "test = y_br['SeriesName'].value_counts()\n",
    "test2 = X_br['SeriesName'].value_counts()"
   ],
   "outputs": [],
   "metadata": {}
  },
  {
   "cell_type": "code",
   "execution_count": 42,
   "source": [
    "test[test == 20].index"
   ],
   "outputs": [
    {
     "output_type": "execute_result",
     "data": {
      "text/plain": [
       "Index(['Antiretroviral therapy coverage (% of people living with HIV)', 'Sex ratio at birth (male births per female births)'], dtype='object')"
      ]
     },
     "metadata": {},
     "execution_count": 42
    }
   ],
   "metadata": {}
  },
  {
   "cell_type": "code",
   "execution_count": 40,
   "source": [
    "test2[test2 >= 50].index"
   ],
   "outputs": [
    {
     "output_type": "execute_result",
     "data": {
      "text/plain": [
       "Index(['Gross capital formation (current US$)',\n",
       "       'Total reserves (includes gold, current US$)',\n",
       "       'Gross national expenditure (% of GDP)',\n",
       "       'Changes in inventories (constant LCU)', 'GDP (current LCU)',\n",
       "       'Households and NPISHs Final consumption expenditure (current LCU)',\n",
       "       'Total reserves minus gold (current US$)',\n",
       "       'Gross capital formation (% of GDP)',\n",
       "       'Net primary income (Net income from abroad) (current US$)',\n",
       "       'Final consumption expenditure (constant 2010 US$)',\n",
       "       ...\n",
       "       'Final consumption expenditure (current US$)',\n",
       "       'Final consumption expenditure (current LCU)',\n",
       "       'Multilateral debt service (% of public and publicly guaranteed debt service)',\n",
       "       'Net financial flows, IBRD (NFL, current US$)',\n",
       "       'External balance on goods and services (% of GDP)',\n",
       "       'Gross fixed capital formation (current US$)',\n",
       "       'Gross fixed capital formation (constant LCU)',\n",
       "       'Gross value added at basic prices (GVA) (current US$)',\n",
       "       'General government final consumption expenditure (current LCU)',\n",
       "       'Gross capital formation (current LCU)'],\n",
       "      dtype='object', length=137)"
      ]
     },
     "metadata": {},
     "execution_count": 40
    }
   ],
   "metadata": {}
  },
  {
   "cell_type": "code",
   "execution_count": 12,
   "source": [
    "cobert_hiv_treatment = y_br['SeriesName'] == 'Antiretroviral therapy coverage (% of people living with HIV)'"
   ],
   "outputs": [],
   "metadata": {}
  },
  {
   "cell_type": "code",
   "execution_count": 25,
   "source": [
    "gva = X_br[X_br['SeriesName'] ==  'Gross value added at basic prices (GVA) (current US$)']\n"
   ],
   "outputs": [],
   "metadata": {}
  },
  {
   "cell_type": "code",
   "execution_count": 27,
   "source": [
    "gva.head()"
   ],
   "outputs": [
    {
     "output_type": "execute_result",
     "data": {
      "text/plain": [
       "                                             SeriesName      SeriesCode  \\\n",
       "775   Gross value added at basic prices (GVA) (curre...  NY.GDP.FCST.CD   \n",
       "2505  Gross value added at basic prices (GVA) (curre...  NY.GDP.FCST.CD   \n",
       "4235  Gross value added at basic prices (GVA) (curre...  NY.GDP.FCST.CD   \n",
       "5965  Gross value added at basic prices (GVA) (curre...  NY.GDP.FCST.CD   \n",
       "7695  Gross value added at basic prices (GVA) (curre...  NY.GDP.FCST.CD   \n",
       "\n",
       "     CountryName CountryCode    Year         Value  \n",
       "775       Brazil         BRA  1970.0  3.556752e+10  \n",
       "2505      Brazil         BRA  1971.0  4.214448e+10  \n",
       "4235      Brazil         BRA  1972.0  4.986391e+10  \n",
       "5965      Brazil         BRA  1973.0  6.793320e+10  \n",
       "7695      Brazil         BRA  1974.0  9.137394e+10  "
      ],
      "text/html": [
       "<div>\n",
       "<style scoped>\n",
       "    .dataframe tbody tr th:only-of-type {\n",
       "        vertical-align: middle;\n",
       "    }\n",
       "\n",
       "    .dataframe tbody tr th {\n",
       "        vertical-align: top;\n",
       "    }\n",
       "\n",
       "    .dataframe thead th {\n",
       "        text-align: right;\n",
       "    }\n",
       "</style>\n",
       "<table border=\"1\" class=\"dataframe\">\n",
       "  <thead>\n",
       "    <tr style=\"text-align: right;\">\n",
       "      <th></th>\n",
       "      <th>SeriesName</th>\n",
       "      <th>SeriesCode</th>\n",
       "      <th>CountryName</th>\n",
       "      <th>CountryCode</th>\n",
       "      <th>Year</th>\n",
       "      <th>Value</th>\n",
       "    </tr>\n",
       "  </thead>\n",
       "  <tbody>\n",
       "    <tr>\n",
       "      <th>775</th>\n",
       "      <td>Gross value added at basic prices (GVA) (curre...</td>\n",
       "      <td>NY.GDP.FCST.CD</td>\n",
       "      <td>Brazil</td>\n",
       "      <td>BRA</td>\n",
       "      <td>1970.0</td>\n",
       "      <td>3.556752e+10</td>\n",
       "    </tr>\n",
       "    <tr>\n",
       "      <th>2505</th>\n",
       "      <td>Gross value added at basic prices (GVA) (curre...</td>\n",
       "      <td>NY.GDP.FCST.CD</td>\n",
       "      <td>Brazil</td>\n",
       "      <td>BRA</td>\n",
       "      <td>1971.0</td>\n",
       "      <td>4.214448e+10</td>\n",
       "    </tr>\n",
       "    <tr>\n",
       "      <th>4235</th>\n",
       "      <td>Gross value added at basic prices (GVA) (curre...</td>\n",
       "      <td>NY.GDP.FCST.CD</td>\n",
       "      <td>Brazil</td>\n",
       "      <td>BRA</td>\n",
       "      <td>1972.0</td>\n",
       "      <td>4.986391e+10</td>\n",
       "    </tr>\n",
       "    <tr>\n",
       "      <th>5965</th>\n",
       "      <td>Gross value added at basic prices (GVA) (curre...</td>\n",
       "      <td>NY.GDP.FCST.CD</td>\n",
       "      <td>Brazil</td>\n",
       "      <td>BRA</td>\n",
       "      <td>1973.0</td>\n",
       "      <td>6.793320e+10</td>\n",
       "    </tr>\n",
       "    <tr>\n",
       "      <th>7695</th>\n",
       "      <td>Gross value added at basic prices (GVA) (curre...</td>\n",
       "      <td>NY.GDP.FCST.CD</td>\n",
       "      <td>Brazil</td>\n",
       "      <td>BRA</td>\n",
       "      <td>1974.0</td>\n",
       "      <td>9.137394e+10</td>\n",
       "    </tr>\n",
       "  </tbody>\n",
       "</table>\n",
       "</div>"
      ]
     },
     "metadata": {},
     "execution_count": 27
    }
   ],
   "metadata": {}
  },
  {
   "cell_type": "code",
   "execution_count": 13,
   "source": [
    "infant_deaths = y_br[y_br['SeriesName'] == 'Number of infant deaths'].copy()"
   ],
   "outputs": [],
   "metadata": {}
  },
  {
   "cell_type": "code",
   "execution_count": 14,
   "source": [
    "norm = preprocessing.MinMaxScaler()"
   ],
   "outputs": [],
   "metadata": {}
  },
  {
   "cell_type": "code",
   "execution_count": 33,
   "source": [
    "infant_deaths_norm = infant_deaths['Value'].values\n",
    "infant_deaths_norm = norm.fit_transform(infant_deaths_norm.reshape(-1,1))\n",
    "\n",
    "gva_norm  = gva['Value'].values\n",
    "gva_norm = norm.fit_transform(gva_norm.reshape(-1,1))"
   ],
   "outputs": [],
   "metadata": {}
  },
  {
   "cell_type": "code",
   "execution_count": 34,
   "source": [
    "infant_deaths['norm'] = infant_deaths_norm\n",
    "gva['norm'] = gva_norm"
   ],
   "outputs": [
    {
     "output_type": "stream",
     "name": "stderr",
     "text": [
      "<ipython-input-34-02148d55c3d1>:2: SettingWithCopyWarning:\n",
      "\n",
      "\n",
      "A value is trying to be set on a copy of a slice from a DataFrame.\n",
      "Try using .loc[row_indexer,col_indexer] = value instead\n",
      "\n",
      "See the caveats in the documentation: https://pandas.pydata.org/pandas-docs/stable/user_guide/indexing.html#returning-a-view-versus-a-copy\n",
      "\n"
     ]
    }
   ],
   "metadata": {}
  },
  {
   "cell_type": "code",
   "execution_count": 17,
   "source": [
    "infant_deaths.head()"
   ],
   "outputs": [
    {
     "output_type": "execute_result",
     "data": {
      "text/plain": [
       "                   SeriesName   SeriesCode CountryName CountryCode    Year  \\\n",
       "580   Number of infant deaths  SH.DTH.IMRT      Brazil         BRA  1970.0   \n",
       "1970  Number of infant deaths  SH.DTH.IMRT      Brazil         BRA  1971.0   \n",
       "3360  Number of infant deaths  SH.DTH.IMRT      Brazil         BRA  1972.0   \n",
       "4750  Number of infant deaths  SH.DTH.IMRT      Brazil         BRA  1973.0   \n",
       "6140  Number of infant deaths  SH.DTH.IMRT      Brazil         BRA  1974.0   \n",
       "\n",
       "         Value      norm  \n",
       "580   333509.0  1.000000  \n",
       "1970  327356.0  0.979315  \n",
       "3360  321921.0  0.961043  \n",
       "4750  317374.0  0.945757  \n",
       "6140  313484.0  0.932680  "
      ],
      "text/html": [
       "<div>\n",
       "<style scoped>\n",
       "    .dataframe tbody tr th:only-of-type {\n",
       "        vertical-align: middle;\n",
       "    }\n",
       "\n",
       "    .dataframe tbody tr th {\n",
       "        vertical-align: top;\n",
       "    }\n",
       "\n",
       "    .dataframe thead th {\n",
       "        text-align: right;\n",
       "    }\n",
       "</style>\n",
       "<table border=\"1\" class=\"dataframe\">\n",
       "  <thead>\n",
       "    <tr style=\"text-align: right;\">\n",
       "      <th></th>\n",
       "      <th>SeriesName</th>\n",
       "      <th>SeriesCode</th>\n",
       "      <th>CountryName</th>\n",
       "      <th>CountryCode</th>\n",
       "      <th>Year</th>\n",
       "      <th>Value</th>\n",
       "      <th>norm</th>\n",
       "    </tr>\n",
       "  </thead>\n",
       "  <tbody>\n",
       "    <tr>\n",
       "      <th>580</th>\n",
       "      <td>Number of infant deaths</td>\n",
       "      <td>SH.DTH.IMRT</td>\n",
       "      <td>Brazil</td>\n",
       "      <td>BRA</td>\n",
       "      <td>1970.0</td>\n",
       "      <td>333509.0</td>\n",
       "      <td>1.000000</td>\n",
       "    </tr>\n",
       "    <tr>\n",
       "      <th>1970</th>\n",
       "      <td>Number of infant deaths</td>\n",
       "      <td>SH.DTH.IMRT</td>\n",
       "      <td>Brazil</td>\n",
       "      <td>BRA</td>\n",
       "      <td>1971.0</td>\n",
       "      <td>327356.0</td>\n",
       "      <td>0.979315</td>\n",
       "    </tr>\n",
       "    <tr>\n",
       "      <th>3360</th>\n",
       "      <td>Number of infant deaths</td>\n",
       "      <td>SH.DTH.IMRT</td>\n",
       "      <td>Brazil</td>\n",
       "      <td>BRA</td>\n",
       "      <td>1972.0</td>\n",
       "      <td>321921.0</td>\n",
       "      <td>0.961043</td>\n",
       "    </tr>\n",
       "    <tr>\n",
       "      <th>4750</th>\n",
       "      <td>Number of infant deaths</td>\n",
       "      <td>SH.DTH.IMRT</td>\n",
       "      <td>Brazil</td>\n",
       "      <td>BRA</td>\n",
       "      <td>1973.0</td>\n",
       "      <td>317374.0</td>\n",
       "      <td>0.945757</td>\n",
       "    </tr>\n",
       "    <tr>\n",
       "      <th>6140</th>\n",
       "      <td>Number of infant deaths</td>\n",
       "      <td>SH.DTH.IMRT</td>\n",
       "      <td>Brazil</td>\n",
       "      <td>BRA</td>\n",
       "      <td>1974.0</td>\n",
       "      <td>313484.0</td>\n",
       "      <td>0.932680</td>\n",
       "    </tr>\n",
       "  </tbody>\n",
       "</table>\n",
       "</div>"
      ]
     },
     "metadata": {},
     "execution_count": 17
    }
   ],
   "metadata": {}
  },
  {
   "cell_type": "code",
   "execution_count": 18,
   "source": [
    "gni.head()"
   ],
   "outputs": [
    {
     "output_type": "execute_result",
     "data": {
      "text/plain": [
       "                                 SeriesName      SeriesCode CountryName  \\\n",
       "710   Gross national expenditure (% of GDP)  NE.DAB.TOTL.ZS      Brazil   \n",
       "2440  Gross national expenditure (% of GDP)  NE.DAB.TOTL.ZS      Brazil   \n",
       "4170  Gross national expenditure (% of GDP)  NE.DAB.TOTL.ZS      Brazil   \n",
       "5900  Gross national expenditure (% of GDP)  NE.DAB.TOTL.ZS      Brazil   \n",
       "7630  Gross national expenditure (% of GDP)  NE.DAB.TOTL.ZS      Brazil   \n",
       "\n",
       "     CountryCode    Year       Value  \n",
       "710          BRA  1970.0  100.420317  \n",
       "2440         BRA  1971.0  101.724673  \n",
       "4170         BRA  1972.0  101.584894  \n",
       "5900         BRA  1973.0  101.229908  \n",
       "7630         BRA  1974.0  105.870612  "
      ],
      "text/html": [
       "<div>\n",
       "<style scoped>\n",
       "    .dataframe tbody tr th:only-of-type {\n",
       "        vertical-align: middle;\n",
       "    }\n",
       "\n",
       "    .dataframe tbody tr th {\n",
       "        vertical-align: top;\n",
       "    }\n",
       "\n",
       "    .dataframe thead th {\n",
       "        text-align: right;\n",
       "    }\n",
       "</style>\n",
       "<table border=\"1\" class=\"dataframe\">\n",
       "  <thead>\n",
       "    <tr style=\"text-align: right;\">\n",
       "      <th></th>\n",
       "      <th>SeriesName</th>\n",
       "      <th>SeriesCode</th>\n",
       "      <th>CountryName</th>\n",
       "      <th>CountryCode</th>\n",
       "      <th>Year</th>\n",
       "      <th>Value</th>\n",
       "    </tr>\n",
       "  </thead>\n",
       "  <tbody>\n",
       "    <tr>\n",
       "      <th>710</th>\n",
       "      <td>Gross national expenditure (% of GDP)</td>\n",
       "      <td>NE.DAB.TOTL.ZS</td>\n",
       "      <td>Brazil</td>\n",
       "      <td>BRA</td>\n",
       "      <td>1970.0</td>\n",
       "      <td>100.420317</td>\n",
       "    </tr>\n",
       "    <tr>\n",
       "      <th>2440</th>\n",
       "      <td>Gross national expenditure (% of GDP)</td>\n",
       "      <td>NE.DAB.TOTL.ZS</td>\n",
       "      <td>Brazil</td>\n",
       "      <td>BRA</td>\n",
       "      <td>1971.0</td>\n",
       "      <td>101.724673</td>\n",
       "    </tr>\n",
       "    <tr>\n",
       "      <th>4170</th>\n",
       "      <td>Gross national expenditure (% of GDP)</td>\n",
       "      <td>NE.DAB.TOTL.ZS</td>\n",
       "      <td>Brazil</td>\n",
       "      <td>BRA</td>\n",
       "      <td>1972.0</td>\n",
       "      <td>101.584894</td>\n",
       "    </tr>\n",
       "    <tr>\n",
       "      <th>5900</th>\n",
       "      <td>Gross national expenditure (% of GDP)</td>\n",
       "      <td>NE.DAB.TOTL.ZS</td>\n",
       "      <td>Brazil</td>\n",
       "      <td>BRA</td>\n",
       "      <td>1973.0</td>\n",
       "      <td>101.229908</td>\n",
       "    </tr>\n",
       "    <tr>\n",
       "      <th>7630</th>\n",
       "      <td>Gross national expenditure (% of GDP)</td>\n",
       "      <td>NE.DAB.TOTL.ZS</td>\n",
       "      <td>Brazil</td>\n",
       "      <td>BRA</td>\n",
       "      <td>1974.0</td>\n",
       "      <td>105.870612</td>\n",
       "    </tr>\n",
       "  </tbody>\n",
       "</table>\n",
       "</div>"
      ]
     },
     "metadata": {},
     "execution_count": 18
    }
   ],
   "metadata": {}
  },
  {
   "cell_type": "code",
   "execution_count": 19,
   "source": [
    "infant_deaths.head()"
   ],
   "outputs": [
    {
     "output_type": "execute_result",
     "data": {
      "text/plain": [
       "                   SeriesName   SeriesCode CountryName CountryCode    Year  \\\n",
       "580   Number of infant deaths  SH.DTH.IMRT      Brazil         BRA  1970.0   \n",
       "1970  Number of infant deaths  SH.DTH.IMRT      Brazil         BRA  1971.0   \n",
       "3360  Number of infant deaths  SH.DTH.IMRT      Brazil         BRA  1972.0   \n",
       "4750  Number of infant deaths  SH.DTH.IMRT      Brazil         BRA  1973.0   \n",
       "6140  Number of infant deaths  SH.DTH.IMRT      Brazil         BRA  1974.0   \n",
       "\n",
       "         Value      norm  \n",
       "580   333509.0  1.000000  \n",
       "1970  327356.0  0.979315  \n",
       "3360  321921.0  0.961043  \n",
       "4750  317374.0  0.945757  \n",
       "6140  313484.0  0.932680  "
      ],
      "text/html": [
       "<div>\n",
       "<style scoped>\n",
       "    .dataframe tbody tr th:only-of-type {\n",
       "        vertical-align: middle;\n",
       "    }\n",
       "\n",
       "    .dataframe tbody tr th {\n",
       "        vertical-align: top;\n",
       "    }\n",
       "\n",
       "    .dataframe thead th {\n",
       "        text-align: right;\n",
       "    }\n",
       "</style>\n",
       "<table border=\"1\" class=\"dataframe\">\n",
       "  <thead>\n",
       "    <tr style=\"text-align: right;\">\n",
       "      <th></th>\n",
       "      <th>SeriesName</th>\n",
       "      <th>SeriesCode</th>\n",
       "      <th>CountryName</th>\n",
       "      <th>CountryCode</th>\n",
       "      <th>Year</th>\n",
       "      <th>Value</th>\n",
       "      <th>norm</th>\n",
       "    </tr>\n",
       "  </thead>\n",
       "  <tbody>\n",
       "    <tr>\n",
       "      <th>580</th>\n",
       "      <td>Number of infant deaths</td>\n",
       "      <td>SH.DTH.IMRT</td>\n",
       "      <td>Brazil</td>\n",
       "      <td>BRA</td>\n",
       "      <td>1970.0</td>\n",
       "      <td>333509.0</td>\n",
       "      <td>1.000000</td>\n",
       "    </tr>\n",
       "    <tr>\n",
       "      <th>1970</th>\n",
       "      <td>Number of infant deaths</td>\n",
       "      <td>SH.DTH.IMRT</td>\n",
       "      <td>Brazil</td>\n",
       "      <td>BRA</td>\n",
       "      <td>1971.0</td>\n",
       "      <td>327356.0</td>\n",
       "      <td>0.979315</td>\n",
       "    </tr>\n",
       "    <tr>\n",
       "      <th>3360</th>\n",
       "      <td>Number of infant deaths</td>\n",
       "      <td>SH.DTH.IMRT</td>\n",
       "      <td>Brazil</td>\n",
       "      <td>BRA</td>\n",
       "      <td>1972.0</td>\n",
       "      <td>321921.0</td>\n",
       "      <td>0.961043</td>\n",
       "    </tr>\n",
       "    <tr>\n",
       "      <th>4750</th>\n",
       "      <td>Number of infant deaths</td>\n",
       "      <td>SH.DTH.IMRT</td>\n",
       "      <td>Brazil</td>\n",
       "      <td>BRA</td>\n",
       "      <td>1973.0</td>\n",
       "      <td>317374.0</td>\n",
       "      <td>0.945757</td>\n",
       "    </tr>\n",
       "    <tr>\n",
       "      <th>6140</th>\n",
       "      <td>Number of infant deaths</td>\n",
       "      <td>SH.DTH.IMRT</td>\n",
       "      <td>Brazil</td>\n",
       "      <td>BRA</td>\n",
       "      <td>1974.0</td>\n",
       "      <td>313484.0</td>\n",
       "      <td>0.932680</td>\n",
       "    </tr>\n",
       "  </tbody>\n",
       "</table>\n",
       "</div>"
      ]
     },
     "metadata": {},
     "execution_count": 19
    }
   ],
   "metadata": {}
  },
  {
   "cell_type": "code",
   "execution_count": 35,
   "source": [
    "fig = go.Figure()\n",
    "fig.add_trace(go.Bar(x = infant_deaths['Year'], y = infant_deaths['norm'], name= 'infant_deaths', hovertemplate=\"Deaths: %{y}<extra></extra>\"))\n",
    "fig.add_trace(go.Bar(x = gva['Year'], y = gva['norm'], name= 'GVA'))"
   ],
   "outputs": [
    {
     "output_type": "display_data",
     "data": {
      "application/vnd.plotly.v1+json": {
       "config": {
        "plotlyServerURL": "https://plot.ly"
       },
       "data": [
        {
         "hovertemplate": "Deaths: %{y}<extra></extra>",
         "name": "infant_deaths",
         "type": "bar",
         "x": [
          1970,
          1971,
          1972,
          1973,
          1974,
          1975,
          1976,
          1977,
          1978,
          1979,
          1980,
          1981,
          1982,
          1983,
          1984,
          1985,
          1986,
          1987,
          1988,
          1989,
          1990,
          1991,
          1992,
          1993,
          1994,
          1995,
          1996,
          1997,
          1998,
          1999,
          2000,
          2001,
          2002,
          2003,
          2004,
          2005,
          2006,
          2007,
          2008,
          2009,
          2010,
          2011,
          2012,
          2013,
          2014,
          2015,
          2016,
          2017,
          2018,
          2019
         ],
         "y": [
          1,
          0.9793147267849578,
          0.9610432397178761,
          0.9457570480538429,
          0.9326795715697678,
          0.9221974194676223,
          0.9126498530885032,
          0.9021273591565868,
          0.8892246972681856,
          0.8722542342112164,
          0.850291469720095,
          0.8239885967094515,
          0.7942600299874268,
          0.7617008115431422,
          0.7280691727907805,
          0.693418902836703,
          0.6591014529782356,
          0.6246428067155699,
          0.5913742444311466,
          0.5591680169973576,
          0.5283098790417471,
          0.49799299396889646,
          0.4679215216938189,
          0.43700959463184713,
          0.4064103167506001,
          0.3760295571139455,
          0.34661027775349795,
          0.3183272932649315,
          0.2908444217334884,
          0.26369773211680303,
          0.2369880789893027,
          0.2106751205212164,
          0.18515891319110594,
          0.160711764349925,
          0.1380262087420745,
          0.11703837180375044,
          0.09833321006663125,
          0.08222001089229404,
          0.0683592305468335,
          0.0568618090621197,
          0.047351222693623976,
          0.039538354994654704,
          0.03312064224192994,
          0.02773836978665896,
          0.022951139320509115,
          0.018409321652132396,
          0.023720995905304285,
          0.009359304506854751,
          0.004662843157689486,
          0
         ]
        },
        {
         "name": "GVA",
         "type": "bar",
         "x": [
          1970,
          1971,
          1972,
          1973,
          1974,
          1975,
          1976,
          1977,
          1978,
          1979,
          1980,
          1981,
          1982,
          1983,
          1984,
          1985,
          1986,
          1987,
          1988,
          1989,
          1990,
          1991,
          1992,
          1993,
          1994,
          1995,
          1996,
          1997,
          1998,
          1999,
          2000,
          2001,
          2002,
          2003,
          2004,
          2005,
          2006,
          2007,
          2008,
          2009,
          2010,
          2011,
          2012,
          2013,
          2014,
          2015,
          2016,
          2017,
          2018,
          2019
         ],
         "y": [
          0,
          0.0030052007166235656,
          0.006532434303933958,
          0.01478881422935906,
          0.025499563339357333,
          0.03365794354554298,
          0.045197642334614985,
          0.054678617745418934,
          0.06495325392772668,
          0.07612761022100346,
          0.08076563028977203,
          0.09184530365338173,
          0.09946629259227202,
          0.06720216315512535,
          0.07081907300287704,
          0.07646258804905211,
          0.09279189717248112,
          0.10468826153068282,
          0.12019197518859182,
          0.17645061400733553,
          0.16286054403178818,
          0.22380946414907296,
          0.14450454596855897,
          0.15742475409867493,
          0.20475079568416898,
          0.2878622293975617,
          0.3234774252088903,
          0.33841598678012424,
          0.3309995026727544,
          0.22091647796176628,
          0.24132827654748956,
          0.20139680134292312,
          0.18177531391087448,
          0.20214699340023404,
          0.24337470674084405,
          0.32963912597018347,
          0.4142082321256956,
          0.5280753480437145,
          0.6381889509838776,
          0.6350130156437231,
          0.8416170694067696,
          1.0000000000000002,
          0.9416024331029796,
          0.948798230989389,
          0.9494029745971297,
          0.6918375362999104,
          0.6930751181817525,
          0.7955172381945576,
          0.7208895947456749,
          0.7034330701881595
         ]
        }
       ],
       "layout": {
        "template": {
         "data": {
          "bar": [
           {
            "error_x": {
             "color": "#2a3f5f"
            },
            "error_y": {
             "color": "#2a3f5f"
            },
            "marker": {
             "line": {
              "color": "#E5ECF6",
              "width": 0.5
             }
            },
            "type": "bar"
           }
          ],
          "barpolar": [
           {
            "marker": {
             "line": {
              "color": "#E5ECF6",
              "width": 0.5
             }
            },
            "type": "barpolar"
           }
          ],
          "carpet": [
           {
            "aaxis": {
             "endlinecolor": "#2a3f5f",
             "gridcolor": "white",
             "linecolor": "white",
             "minorgridcolor": "white",
             "startlinecolor": "#2a3f5f"
            },
            "baxis": {
             "endlinecolor": "#2a3f5f",
             "gridcolor": "white",
             "linecolor": "white",
             "minorgridcolor": "white",
             "startlinecolor": "#2a3f5f"
            },
            "type": "carpet"
           }
          ],
          "choropleth": [
           {
            "colorbar": {
             "outlinewidth": 0,
             "ticks": ""
            },
            "type": "choropleth"
           }
          ],
          "contour": [
           {
            "colorbar": {
             "outlinewidth": 0,
             "ticks": ""
            },
            "colorscale": [
             [
              0,
              "#0d0887"
             ],
             [
              0.1111111111111111,
              "#46039f"
             ],
             [
              0.2222222222222222,
              "#7201a8"
             ],
             [
              0.3333333333333333,
              "#9c179e"
             ],
             [
              0.4444444444444444,
              "#bd3786"
             ],
             [
              0.5555555555555556,
              "#d8576b"
             ],
             [
              0.6666666666666666,
              "#ed7953"
             ],
             [
              0.7777777777777778,
              "#fb9f3a"
             ],
             [
              0.8888888888888888,
              "#fdca26"
             ],
             [
              1,
              "#f0f921"
             ]
            ],
            "type": "contour"
           }
          ],
          "contourcarpet": [
           {
            "colorbar": {
             "outlinewidth": 0,
             "ticks": ""
            },
            "type": "contourcarpet"
           }
          ],
          "heatmap": [
           {
            "colorbar": {
             "outlinewidth": 0,
             "ticks": ""
            },
            "colorscale": [
             [
              0,
              "#0d0887"
             ],
             [
              0.1111111111111111,
              "#46039f"
             ],
             [
              0.2222222222222222,
              "#7201a8"
             ],
             [
              0.3333333333333333,
              "#9c179e"
             ],
             [
              0.4444444444444444,
              "#bd3786"
             ],
             [
              0.5555555555555556,
              "#d8576b"
             ],
             [
              0.6666666666666666,
              "#ed7953"
             ],
             [
              0.7777777777777778,
              "#fb9f3a"
             ],
             [
              0.8888888888888888,
              "#fdca26"
             ],
             [
              1,
              "#f0f921"
             ]
            ],
            "type": "heatmap"
           }
          ],
          "heatmapgl": [
           {
            "colorbar": {
             "outlinewidth": 0,
             "ticks": ""
            },
            "colorscale": [
             [
              0,
              "#0d0887"
             ],
             [
              0.1111111111111111,
              "#46039f"
             ],
             [
              0.2222222222222222,
              "#7201a8"
             ],
             [
              0.3333333333333333,
              "#9c179e"
             ],
             [
              0.4444444444444444,
              "#bd3786"
             ],
             [
              0.5555555555555556,
              "#d8576b"
             ],
             [
              0.6666666666666666,
              "#ed7953"
             ],
             [
              0.7777777777777778,
              "#fb9f3a"
             ],
             [
              0.8888888888888888,
              "#fdca26"
             ],
             [
              1,
              "#f0f921"
             ]
            ],
            "type": "heatmapgl"
           }
          ],
          "histogram": [
           {
            "marker": {
             "colorbar": {
              "outlinewidth": 0,
              "ticks": ""
             }
            },
            "type": "histogram"
           }
          ],
          "histogram2d": [
           {
            "colorbar": {
             "outlinewidth": 0,
             "ticks": ""
            },
            "colorscale": [
             [
              0,
              "#0d0887"
             ],
             [
              0.1111111111111111,
              "#46039f"
             ],
             [
              0.2222222222222222,
              "#7201a8"
             ],
             [
              0.3333333333333333,
              "#9c179e"
             ],
             [
              0.4444444444444444,
              "#bd3786"
             ],
             [
              0.5555555555555556,
              "#d8576b"
             ],
             [
              0.6666666666666666,
              "#ed7953"
             ],
             [
              0.7777777777777778,
              "#fb9f3a"
             ],
             [
              0.8888888888888888,
              "#fdca26"
             ],
             [
              1,
              "#f0f921"
             ]
            ],
            "type": "histogram2d"
           }
          ],
          "histogram2dcontour": [
           {
            "colorbar": {
             "outlinewidth": 0,
             "ticks": ""
            },
            "colorscale": [
             [
              0,
              "#0d0887"
             ],
             [
              0.1111111111111111,
              "#46039f"
             ],
             [
              0.2222222222222222,
              "#7201a8"
             ],
             [
              0.3333333333333333,
              "#9c179e"
             ],
             [
              0.4444444444444444,
              "#bd3786"
             ],
             [
              0.5555555555555556,
              "#d8576b"
             ],
             [
              0.6666666666666666,
              "#ed7953"
             ],
             [
              0.7777777777777778,
              "#fb9f3a"
             ],
             [
              0.8888888888888888,
              "#fdca26"
             ],
             [
              1,
              "#f0f921"
             ]
            ],
            "type": "histogram2dcontour"
           }
          ],
          "mesh3d": [
           {
            "colorbar": {
             "outlinewidth": 0,
             "ticks": ""
            },
            "type": "mesh3d"
           }
          ],
          "parcoords": [
           {
            "line": {
             "colorbar": {
              "outlinewidth": 0,
              "ticks": ""
             }
            },
            "type": "parcoords"
           }
          ],
          "pie": [
           {
            "automargin": true,
            "type": "pie"
           }
          ],
          "scatter": [
           {
            "marker": {
             "colorbar": {
              "outlinewidth": 0,
              "ticks": ""
             }
            },
            "type": "scatter"
           }
          ],
          "scatter3d": [
           {
            "line": {
             "colorbar": {
              "outlinewidth": 0,
              "ticks": ""
             }
            },
            "marker": {
             "colorbar": {
              "outlinewidth": 0,
              "ticks": ""
             }
            },
            "type": "scatter3d"
           }
          ],
          "scattercarpet": [
           {
            "marker": {
             "colorbar": {
              "outlinewidth": 0,
              "ticks": ""
             }
            },
            "type": "scattercarpet"
           }
          ],
          "scattergeo": [
           {
            "marker": {
             "colorbar": {
              "outlinewidth": 0,
              "ticks": ""
             }
            },
            "type": "scattergeo"
           }
          ],
          "scattergl": [
           {
            "marker": {
             "colorbar": {
              "outlinewidth": 0,
              "ticks": ""
             }
            },
            "type": "scattergl"
           }
          ],
          "scattermapbox": [
           {
            "marker": {
             "colorbar": {
              "outlinewidth": 0,
              "ticks": ""
             }
            },
            "type": "scattermapbox"
           }
          ],
          "scatterpolar": [
           {
            "marker": {
             "colorbar": {
              "outlinewidth": 0,
              "ticks": ""
             }
            },
            "type": "scatterpolar"
           }
          ],
          "scatterpolargl": [
           {
            "marker": {
             "colorbar": {
              "outlinewidth": 0,
              "ticks": ""
             }
            },
            "type": "scatterpolargl"
           }
          ],
          "scatterternary": [
           {
            "marker": {
             "colorbar": {
              "outlinewidth": 0,
              "ticks": ""
             }
            },
            "type": "scatterternary"
           }
          ],
          "surface": [
           {
            "colorbar": {
             "outlinewidth": 0,
             "ticks": ""
            },
            "colorscale": [
             [
              0,
              "#0d0887"
             ],
             [
              0.1111111111111111,
              "#46039f"
             ],
             [
              0.2222222222222222,
              "#7201a8"
             ],
             [
              0.3333333333333333,
              "#9c179e"
             ],
             [
              0.4444444444444444,
              "#bd3786"
             ],
             [
              0.5555555555555556,
              "#d8576b"
             ],
             [
              0.6666666666666666,
              "#ed7953"
             ],
             [
              0.7777777777777778,
              "#fb9f3a"
             ],
             [
              0.8888888888888888,
              "#fdca26"
             ],
             [
              1,
              "#f0f921"
             ]
            ],
            "type": "surface"
           }
          ],
          "table": [
           {
            "cells": {
             "fill": {
              "color": "#EBF0F8"
             },
             "line": {
              "color": "white"
             }
            },
            "header": {
             "fill": {
              "color": "#C8D4E3"
             },
             "line": {
              "color": "white"
             }
            },
            "type": "table"
           }
          ]
         },
         "layout": {
          "annotationdefaults": {
           "arrowcolor": "#2a3f5f",
           "arrowhead": 0,
           "arrowwidth": 1
          },
          "autotypenumbers": "strict",
          "coloraxis": {
           "colorbar": {
            "outlinewidth": 0,
            "ticks": ""
           }
          },
          "colorscale": {
           "diverging": [
            [
             0,
             "#8e0152"
            ],
            [
             0.1,
             "#c51b7d"
            ],
            [
             0.2,
             "#de77ae"
            ],
            [
             0.3,
             "#f1b6da"
            ],
            [
             0.4,
             "#fde0ef"
            ],
            [
             0.5,
             "#f7f7f7"
            ],
            [
             0.6,
             "#e6f5d0"
            ],
            [
             0.7,
             "#b8e186"
            ],
            [
             0.8,
             "#7fbc41"
            ],
            [
             0.9,
             "#4d9221"
            ],
            [
             1,
             "#276419"
            ]
           ],
           "sequential": [
            [
             0,
             "#0d0887"
            ],
            [
             0.1111111111111111,
             "#46039f"
            ],
            [
             0.2222222222222222,
             "#7201a8"
            ],
            [
             0.3333333333333333,
             "#9c179e"
            ],
            [
             0.4444444444444444,
             "#bd3786"
            ],
            [
             0.5555555555555556,
             "#d8576b"
            ],
            [
             0.6666666666666666,
             "#ed7953"
            ],
            [
             0.7777777777777778,
             "#fb9f3a"
            ],
            [
             0.8888888888888888,
             "#fdca26"
            ],
            [
             1,
             "#f0f921"
            ]
           ],
           "sequentialminus": [
            [
             0,
             "#0d0887"
            ],
            [
             0.1111111111111111,
             "#46039f"
            ],
            [
             0.2222222222222222,
             "#7201a8"
            ],
            [
             0.3333333333333333,
             "#9c179e"
            ],
            [
             0.4444444444444444,
             "#bd3786"
            ],
            [
             0.5555555555555556,
             "#d8576b"
            ],
            [
             0.6666666666666666,
             "#ed7953"
            ],
            [
             0.7777777777777778,
             "#fb9f3a"
            ],
            [
             0.8888888888888888,
             "#fdca26"
            ],
            [
             1,
             "#f0f921"
            ]
           ]
          },
          "colorway": [
           "#636efa",
           "#EF553B",
           "#00cc96",
           "#ab63fa",
           "#FFA15A",
           "#19d3f3",
           "#FF6692",
           "#B6E880",
           "#FF97FF",
           "#FECB52"
          ],
          "font": {
           "color": "#2a3f5f"
          },
          "geo": {
           "bgcolor": "white",
           "lakecolor": "white",
           "landcolor": "#E5ECF6",
           "showlakes": true,
           "showland": true,
           "subunitcolor": "white"
          },
          "hoverlabel": {
           "align": "left"
          },
          "hovermode": "closest",
          "mapbox": {
           "style": "light"
          },
          "paper_bgcolor": "white",
          "plot_bgcolor": "#E5ECF6",
          "polar": {
           "angularaxis": {
            "gridcolor": "white",
            "linecolor": "white",
            "ticks": ""
           },
           "bgcolor": "#E5ECF6",
           "radialaxis": {
            "gridcolor": "white",
            "linecolor": "white",
            "ticks": ""
           }
          },
          "scene": {
           "xaxis": {
            "backgroundcolor": "#E5ECF6",
            "gridcolor": "white",
            "gridwidth": 2,
            "linecolor": "white",
            "showbackground": true,
            "ticks": "",
            "zerolinecolor": "white"
           },
           "yaxis": {
            "backgroundcolor": "#E5ECF6",
            "gridcolor": "white",
            "gridwidth": 2,
            "linecolor": "white",
            "showbackground": true,
            "ticks": "",
            "zerolinecolor": "white"
           },
           "zaxis": {
            "backgroundcolor": "#E5ECF6",
            "gridcolor": "white",
            "gridwidth": 2,
            "linecolor": "white",
            "showbackground": true,
            "ticks": "",
            "zerolinecolor": "white"
           }
          },
          "shapedefaults": {
           "line": {
            "color": "#2a3f5f"
           }
          },
          "ternary": {
           "aaxis": {
            "gridcolor": "white",
            "linecolor": "white",
            "ticks": ""
           },
           "baxis": {
            "gridcolor": "white",
            "linecolor": "white",
            "ticks": ""
           },
           "bgcolor": "#E5ECF6",
           "caxis": {
            "gridcolor": "white",
            "linecolor": "white",
            "ticks": ""
           }
          },
          "title": {
           "x": 0.05
          },
          "xaxis": {
           "automargin": true,
           "gridcolor": "white",
           "linecolor": "white",
           "ticks": "",
           "title": {
            "standoff": 15
           },
           "zerolinecolor": "white",
           "zerolinewidth": 2
          },
          "yaxis": {
           "automargin": true,
           "gridcolor": "white",
           "linecolor": "white",
           "ticks": "",
           "title": {
            "standoff": 15
           },
           "zerolinecolor": "white",
           "zerolinewidth": 2
          }
         }
        }
       }
      }
     },
     "metadata": {}
    }
   ],
   "metadata": {}
  },
  {
   "cell_type": "code",
   "execution_count": 29,
   "source": [],
   "outputs": [
    {
     "output_type": "execute_result",
     "data": {
      "text/plain": [
       "                    SeriesName   SeriesCode CountryName CountryCode    Year  \\\n",
       "580    Number of infant deaths  SH.DTH.IMRT      Brazil         BRA  1970.0   \n",
       "1970   Number of infant deaths  SH.DTH.IMRT      Brazil         BRA  1971.0   \n",
       "3360   Number of infant deaths  SH.DTH.IMRT      Brazil         BRA  1972.0   \n",
       "4750   Number of infant deaths  SH.DTH.IMRT      Brazil         BRA  1973.0   \n",
       "6140   Number of infant deaths  SH.DTH.IMRT      Brazil         BRA  1974.0   \n",
       "7530   Number of infant deaths  SH.DTH.IMRT      Brazil         BRA  1975.0   \n",
       "8920   Number of infant deaths  SH.DTH.IMRT      Brazil         BRA  1976.0   \n",
       "10310  Number of infant deaths  SH.DTH.IMRT      Brazil         BRA  1977.0   \n",
       "11700  Number of infant deaths  SH.DTH.IMRT      Brazil         BRA  1978.0   \n",
       "13090  Number of infant deaths  SH.DTH.IMRT      Brazil         BRA  1979.0   \n",
       "14480  Number of infant deaths  SH.DTH.IMRT      Brazil         BRA  1980.0   \n",
       "15870  Number of infant deaths  SH.DTH.IMRT      Brazil         BRA  1981.0   \n",
       "17260  Number of infant deaths  SH.DTH.IMRT      Brazil         BRA  1982.0   \n",
       "18650  Number of infant deaths  SH.DTH.IMRT      Brazil         BRA  1983.0   \n",
       "20040  Number of infant deaths  SH.DTH.IMRT      Brazil         BRA  1984.0   \n",
       "21430  Number of infant deaths  SH.DTH.IMRT      Brazil         BRA  1985.0   \n",
       "22820  Number of infant deaths  SH.DTH.IMRT      Brazil         BRA  1986.0   \n",
       "24210  Number of infant deaths  SH.DTH.IMRT      Brazil         BRA  1987.0   \n",
       "25600  Number of infant deaths  SH.DTH.IMRT      Brazil         BRA  1988.0   \n",
       "26990  Number of infant deaths  SH.DTH.IMRT      Brazil         BRA  1989.0   \n",
       "28380  Number of infant deaths  SH.DTH.IMRT      Brazil         BRA  1990.0   \n",
       "29770  Number of infant deaths  SH.DTH.IMRT      Brazil         BRA  1991.0   \n",
       "31160  Number of infant deaths  SH.DTH.IMRT      Brazil         BRA  1992.0   \n",
       "32550  Number of infant deaths  SH.DTH.IMRT      Brazil         BRA  1993.0   \n",
       "33940  Number of infant deaths  SH.DTH.IMRT      Brazil         BRA  1994.0   \n",
       "35330  Number of infant deaths  SH.DTH.IMRT      Brazil         BRA  1995.0   \n",
       "36720  Number of infant deaths  SH.DTH.IMRT      Brazil         BRA  1996.0   \n",
       "38110  Number of infant deaths  SH.DTH.IMRT      Brazil         BRA  1997.0   \n",
       "39500  Number of infant deaths  SH.DTH.IMRT      Brazil         BRA  1998.0   \n",
       "40890  Number of infant deaths  SH.DTH.IMRT      Brazil         BRA  1999.0   \n",
       "42280  Number of infant deaths  SH.DTH.IMRT      Brazil         BRA  2000.0   \n",
       "43670  Number of infant deaths  SH.DTH.IMRT      Brazil         BRA  2001.0   \n",
       "45060  Number of infant deaths  SH.DTH.IMRT      Brazil         BRA  2002.0   \n",
       "46450  Number of infant deaths  SH.DTH.IMRT      Brazil         BRA  2003.0   \n",
       "47840  Number of infant deaths  SH.DTH.IMRT      Brazil         BRA  2004.0   \n",
       "49230  Number of infant deaths  SH.DTH.IMRT      Brazil         BRA  2005.0   \n",
       "50620  Number of infant deaths  SH.DTH.IMRT      Brazil         BRA  2006.0   \n",
       "52010  Number of infant deaths  SH.DTH.IMRT      Brazil         BRA  2007.0   \n",
       "53400  Number of infant deaths  SH.DTH.IMRT      Brazil         BRA  2008.0   \n",
       "54790  Number of infant deaths  SH.DTH.IMRT      Brazil         BRA  2009.0   \n",
       "56180  Number of infant deaths  SH.DTH.IMRT      Brazil         BRA  2010.0   \n",
       "57570  Number of infant deaths  SH.DTH.IMRT      Brazil         BRA  2011.0   \n",
       "58960  Number of infant deaths  SH.DTH.IMRT      Brazil         BRA  2012.0   \n",
       "60350  Number of infant deaths  SH.DTH.IMRT      Brazil         BRA  2013.0   \n",
       "61740  Number of infant deaths  SH.DTH.IMRT      Brazil         BRA  2014.0   \n",
       "63130  Number of infant deaths  SH.DTH.IMRT      Brazil         BRA  2015.0   \n",
       "64520  Number of infant deaths  SH.DTH.IMRT      Brazil         BRA  2016.0   \n",
       "65910  Number of infant deaths  SH.DTH.IMRT      Brazil         BRA  2017.0   \n",
       "67300  Number of infant deaths  SH.DTH.IMRT      Brazil         BRA  2018.0   \n",
       "68690  Number of infant deaths  SH.DTH.IMRT      Brazil         BRA  2019.0   \n",
       "\n",
       "          Value      norm  \n",
       "580    333509.0  1.000000  \n",
       "1970   327356.0  0.979315  \n",
       "3360   321921.0  0.961043  \n",
       "4750   317374.0  0.945757  \n",
       "6140   313484.0  0.932680  \n",
       "7530   310366.0  0.922197  \n",
       "8920   307526.0  0.912650  \n",
       "10310  304396.0  0.902127  \n",
       "11700  300558.0  0.889225  \n",
       "13090  295510.0  0.872254  \n",
       "14480  288977.0  0.850291  \n",
       "15870  281153.0  0.823989  \n",
       "17260  272310.0  0.794260  \n",
       "18650  262625.0  0.761701  \n",
       "20040  252621.0  0.728069  \n",
       "21430  242314.0  0.693419  \n",
       "22820  232106.0  0.659101  \n",
       "24210  221856.0  0.624643  \n",
       "25600  211960.0  0.591374  \n",
       "26990  202380.0  0.559168  \n",
       "28380  193201.0  0.528310  \n",
       "29770  184183.0  0.497993  \n",
       "31160  175238.0  0.467922  \n",
       "32550  166043.0  0.437010  \n",
       "33940  156941.0  0.406410  \n",
       "35330  147904.0  0.376030  \n",
       "36720  139153.0  0.346610  \n",
       "38110  130740.0  0.318327  \n",
       "39500  122565.0  0.290844  \n",
       "40890  114490.0  0.263698  \n",
       "42280  106545.0  0.236988  \n",
       "43670   98718.0  0.210675  \n",
       "45060   91128.0  0.185159  \n",
       "46450   83856.0  0.160712  \n",
       "47840   77108.0  0.138026  \n",
       "49230   70865.0  0.117038  \n",
       "50620   65301.0  0.098333  \n",
       "52010   60508.0  0.082220  \n",
       "53400   56385.0  0.068359  \n",
       "54790   52965.0  0.056862  \n",
       "56180   50136.0  0.047351  \n",
       "57570   47812.0  0.039538  \n",
       "58960   45903.0  0.033121  \n",
       "60350   44302.0  0.027738  \n",
       "61740   42878.0  0.022951  \n",
       "63130   41527.0  0.018409  \n",
       "64520   43107.0  0.023721  \n",
       "65910   38835.0  0.009359  \n",
       "67300   37438.0  0.004663  \n",
       "68690   36051.0  0.000000  "
      ],
      "text/html": [
       "<div>\n",
       "<style scoped>\n",
       "    .dataframe tbody tr th:only-of-type {\n",
       "        vertical-align: middle;\n",
       "    }\n",
       "\n",
       "    .dataframe tbody tr th {\n",
       "        vertical-align: top;\n",
       "    }\n",
       "\n",
       "    .dataframe thead th {\n",
       "        text-align: right;\n",
       "    }\n",
       "</style>\n",
       "<table border=\"1\" class=\"dataframe\">\n",
       "  <thead>\n",
       "    <tr style=\"text-align: right;\">\n",
       "      <th></th>\n",
       "      <th>SeriesName</th>\n",
       "      <th>SeriesCode</th>\n",
       "      <th>CountryName</th>\n",
       "      <th>CountryCode</th>\n",
       "      <th>Year</th>\n",
       "      <th>Value</th>\n",
       "      <th>norm</th>\n",
       "    </tr>\n",
       "  </thead>\n",
       "  <tbody>\n",
       "    <tr>\n",
       "      <th>580</th>\n",
       "      <td>Number of infant deaths</td>\n",
       "      <td>SH.DTH.IMRT</td>\n",
       "      <td>Brazil</td>\n",
       "      <td>BRA</td>\n",
       "      <td>1970.0</td>\n",
       "      <td>333509.0</td>\n",
       "      <td>1.000000</td>\n",
       "    </tr>\n",
       "    <tr>\n",
       "      <th>1970</th>\n",
       "      <td>Number of infant deaths</td>\n",
       "      <td>SH.DTH.IMRT</td>\n",
       "      <td>Brazil</td>\n",
       "      <td>BRA</td>\n",
       "      <td>1971.0</td>\n",
       "      <td>327356.0</td>\n",
       "      <td>0.979315</td>\n",
       "    </tr>\n",
       "    <tr>\n",
       "      <th>3360</th>\n",
       "      <td>Number of infant deaths</td>\n",
       "      <td>SH.DTH.IMRT</td>\n",
       "      <td>Brazil</td>\n",
       "      <td>BRA</td>\n",
       "      <td>1972.0</td>\n",
       "      <td>321921.0</td>\n",
       "      <td>0.961043</td>\n",
       "    </tr>\n",
       "    <tr>\n",
       "      <th>4750</th>\n",
       "      <td>Number of infant deaths</td>\n",
       "      <td>SH.DTH.IMRT</td>\n",
       "      <td>Brazil</td>\n",
       "      <td>BRA</td>\n",
       "      <td>1973.0</td>\n",
       "      <td>317374.0</td>\n",
       "      <td>0.945757</td>\n",
       "    </tr>\n",
       "    <tr>\n",
       "      <th>6140</th>\n",
       "      <td>Number of infant deaths</td>\n",
       "      <td>SH.DTH.IMRT</td>\n",
       "      <td>Brazil</td>\n",
       "      <td>BRA</td>\n",
       "      <td>1974.0</td>\n",
       "      <td>313484.0</td>\n",
       "      <td>0.932680</td>\n",
       "    </tr>\n",
       "    <tr>\n",
       "      <th>7530</th>\n",
       "      <td>Number of infant deaths</td>\n",
       "      <td>SH.DTH.IMRT</td>\n",
       "      <td>Brazil</td>\n",
       "      <td>BRA</td>\n",
       "      <td>1975.0</td>\n",
       "      <td>310366.0</td>\n",
       "      <td>0.922197</td>\n",
       "    </tr>\n",
       "    <tr>\n",
       "      <th>8920</th>\n",
       "      <td>Number of infant deaths</td>\n",
       "      <td>SH.DTH.IMRT</td>\n",
       "      <td>Brazil</td>\n",
       "      <td>BRA</td>\n",
       "      <td>1976.0</td>\n",
       "      <td>307526.0</td>\n",
       "      <td>0.912650</td>\n",
       "    </tr>\n",
       "    <tr>\n",
       "      <th>10310</th>\n",
       "      <td>Number of infant deaths</td>\n",
       "      <td>SH.DTH.IMRT</td>\n",
       "      <td>Brazil</td>\n",
       "      <td>BRA</td>\n",
       "      <td>1977.0</td>\n",
       "      <td>304396.0</td>\n",
       "      <td>0.902127</td>\n",
       "    </tr>\n",
       "    <tr>\n",
       "      <th>11700</th>\n",
       "      <td>Number of infant deaths</td>\n",
       "      <td>SH.DTH.IMRT</td>\n",
       "      <td>Brazil</td>\n",
       "      <td>BRA</td>\n",
       "      <td>1978.0</td>\n",
       "      <td>300558.0</td>\n",
       "      <td>0.889225</td>\n",
       "    </tr>\n",
       "    <tr>\n",
       "      <th>13090</th>\n",
       "      <td>Number of infant deaths</td>\n",
       "      <td>SH.DTH.IMRT</td>\n",
       "      <td>Brazil</td>\n",
       "      <td>BRA</td>\n",
       "      <td>1979.0</td>\n",
       "      <td>295510.0</td>\n",
       "      <td>0.872254</td>\n",
       "    </tr>\n",
       "    <tr>\n",
       "      <th>14480</th>\n",
       "      <td>Number of infant deaths</td>\n",
       "      <td>SH.DTH.IMRT</td>\n",
       "      <td>Brazil</td>\n",
       "      <td>BRA</td>\n",
       "      <td>1980.0</td>\n",
       "      <td>288977.0</td>\n",
       "      <td>0.850291</td>\n",
       "    </tr>\n",
       "    <tr>\n",
       "      <th>15870</th>\n",
       "      <td>Number of infant deaths</td>\n",
       "      <td>SH.DTH.IMRT</td>\n",
       "      <td>Brazil</td>\n",
       "      <td>BRA</td>\n",
       "      <td>1981.0</td>\n",
       "      <td>281153.0</td>\n",
       "      <td>0.823989</td>\n",
       "    </tr>\n",
       "    <tr>\n",
       "      <th>17260</th>\n",
       "      <td>Number of infant deaths</td>\n",
       "      <td>SH.DTH.IMRT</td>\n",
       "      <td>Brazil</td>\n",
       "      <td>BRA</td>\n",
       "      <td>1982.0</td>\n",
       "      <td>272310.0</td>\n",
       "      <td>0.794260</td>\n",
       "    </tr>\n",
       "    <tr>\n",
       "      <th>18650</th>\n",
       "      <td>Number of infant deaths</td>\n",
       "      <td>SH.DTH.IMRT</td>\n",
       "      <td>Brazil</td>\n",
       "      <td>BRA</td>\n",
       "      <td>1983.0</td>\n",
       "      <td>262625.0</td>\n",
       "      <td>0.761701</td>\n",
       "    </tr>\n",
       "    <tr>\n",
       "      <th>20040</th>\n",
       "      <td>Number of infant deaths</td>\n",
       "      <td>SH.DTH.IMRT</td>\n",
       "      <td>Brazil</td>\n",
       "      <td>BRA</td>\n",
       "      <td>1984.0</td>\n",
       "      <td>252621.0</td>\n",
       "      <td>0.728069</td>\n",
       "    </tr>\n",
       "    <tr>\n",
       "      <th>21430</th>\n",
       "      <td>Number of infant deaths</td>\n",
       "      <td>SH.DTH.IMRT</td>\n",
       "      <td>Brazil</td>\n",
       "      <td>BRA</td>\n",
       "      <td>1985.0</td>\n",
       "      <td>242314.0</td>\n",
       "      <td>0.693419</td>\n",
       "    </tr>\n",
       "    <tr>\n",
       "      <th>22820</th>\n",
       "      <td>Number of infant deaths</td>\n",
       "      <td>SH.DTH.IMRT</td>\n",
       "      <td>Brazil</td>\n",
       "      <td>BRA</td>\n",
       "      <td>1986.0</td>\n",
       "      <td>232106.0</td>\n",
       "      <td>0.659101</td>\n",
       "    </tr>\n",
       "    <tr>\n",
       "      <th>24210</th>\n",
       "      <td>Number of infant deaths</td>\n",
       "      <td>SH.DTH.IMRT</td>\n",
       "      <td>Brazil</td>\n",
       "      <td>BRA</td>\n",
       "      <td>1987.0</td>\n",
       "      <td>221856.0</td>\n",
       "      <td>0.624643</td>\n",
       "    </tr>\n",
       "    <tr>\n",
       "      <th>25600</th>\n",
       "      <td>Number of infant deaths</td>\n",
       "      <td>SH.DTH.IMRT</td>\n",
       "      <td>Brazil</td>\n",
       "      <td>BRA</td>\n",
       "      <td>1988.0</td>\n",
       "      <td>211960.0</td>\n",
       "      <td>0.591374</td>\n",
       "    </tr>\n",
       "    <tr>\n",
       "      <th>26990</th>\n",
       "      <td>Number of infant deaths</td>\n",
       "      <td>SH.DTH.IMRT</td>\n",
       "      <td>Brazil</td>\n",
       "      <td>BRA</td>\n",
       "      <td>1989.0</td>\n",
       "      <td>202380.0</td>\n",
       "      <td>0.559168</td>\n",
       "    </tr>\n",
       "    <tr>\n",
       "      <th>28380</th>\n",
       "      <td>Number of infant deaths</td>\n",
       "      <td>SH.DTH.IMRT</td>\n",
       "      <td>Brazil</td>\n",
       "      <td>BRA</td>\n",
       "      <td>1990.0</td>\n",
       "      <td>193201.0</td>\n",
       "      <td>0.528310</td>\n",
       "    </tr>\n",
       "    <tr>\n",
       "      <th>29770</th>\n",
       "      <td>Number of infant deaths</td>\n",
       "      <td>SH.DTH.IMRT</td>\n",
       "      <td>Brazil</td>\n",
       "      <td>BRA</td>\n",
       "      <td>1991.0</td>\n",
       "      <td>184183.0</td>\n",
       "      <td>0.497993</td>\n",
       "    </tr>\n",
       "    <tr>\n",
       "      <th>31160</th>\n",
       "      <td>Number of infant deaths</td>\n",
       "      <td>SH.DTH.IMRT</td>\n",
       "      <td>Brazil</td>\n",
       "      <td>BRA</td>\n",
       "      <td>1992.0</td>\n",
       "      <td>175238.0</td>\n",
       "      <td>0.467922</td>\n",
       "    </tr>\n",
       "    <tr>\n",
       "      <th>32550</th>\n",
       "      <td>Number of infant deaths</td>\n",
       "      <td>SH.DTH.IMRT</td>\n",
       "      <td>Brazil</td>\n",
       "      <td>BRA</td>\n",
       "      <td>1993.0</td>\n",
       "      <td>166043.0</td>\n",
       "      <td>0.437010</td>\n",
       "    </tr>\n",
       "    <tr>\n",
       "      <th>33940</th>\n",
       "      <td>Number of infant deaths</td>\n",
       "      <td>SH.DTH.IMRT</td>\n",
       "      <td>Brazil</td>\n",
       "      <td>BRA</td>\n",
       "      <td>1994.0</td>\n",
       "      <td>156941.0</td>\n",
       "      <td>0.406410</td>\n",
       "    </tr>\n",
       "    <tr>\n",
       "      <th>35330</th>\n",
       "      <td>Number of infant deaths</td>\n",
       "      <td>SH.DTH.IMRT</td>\n",
       "      <td>Brazil</td>\n",
       "      <td>BRA</td>\n",
       "      <td>1995.0</td>\n",
       "      <td>147904.0</td>\n",
       "      <td>0.376030</td>\n",
       "    </tr>\n",
       "    <tr>\n",
       "      <th>36720</th>\n",
       "      <td>Number of infant deaths</td>\n",
       "      <td>SH.DTH.IMRT</td>\n",
       "      <td>Brazil</td>\n",
       "      <td>BRA</td>\n",
       "      <td>1996.0</td>\n",
       "      <td>139153.0</td>\n",
       "      <td>0.346610</td>\n",
       "    </tr>\n",
       "    <tr>\n",
       "      <th>38110</th>\n",
       "      <td>Number of infant deaths</td>\n",
       "      <td>SH.DTH.IMRT</td>\n",
       "      <td>Brazil</td>\n",
       "      <td>BRA</td>\n",
       "      <td>1997.0</td>\n",
       "      <td>130740.0</td>\n",
       "      <td>0.318327</td>\n",
       "    </tr>\n",
       "    <tr>\n",
       "      <th>39500</th>\n",
       "      <td>Number of infant deaths</td>\n",
       "      <td>SH.DTH.IMRT</td>\n",
       "      <td>Brazil</td>\n",
       "      <td>BRA</td>\n",
       "      <td>1998.0</td>\n",
       "      <td>122565.0</td>\n",
       "      <td>0.290844</td>\n",
       "    </tr>\n",
       "    <tr>\n",
       "      <th>40890</th>\n",
       "      <td>Number of infant deaths</td>\n",
       "      <td>SH.DTH.IMRT</td>\n",
       "      <td>Brazil</td>\n",
       "      <td>BRA</td>\n",
       "      <td>1999.0</td>\n",
       "      <td>114490.0</td>\n",
       "      <td>0.263698</td>\n",
       "    </tr>\n",
       "    <tr>\n",
       "      <th>42280</th>\n",
       "      <td>Number of infant deaths</td>\n",
       "      <td>SH.DTH.IMRT</td>\n",
       "      <td>Brazil</td>\n",
       "      <td>BRA</td>\n",
       "      <td>2000.0</td>\n",
       "      <td>106545.0</td>\n",
       "      <td>0.236988</td>\n",
       "    </tr>\n",
       "    <tr>\n",
       "      <th>43670</th>\n",
       "      <td>Number of infant deaths</td>\n",
       "      <td>SH.DTH.IMRT</td>\n",
       "      <td>Brazil</td>\n",
       "      <td>BRA</td>\n",
       "      <td>2001.0</td>\n",
       "      <td>98718.0</td>\n",
       "      <td>0.210675</td>\n",
       "    </tr>\n",
       "    <tr>\n",
       "      <th>45060</th>\n",
       "      <td>Number of infant deaths</td>\n",
       "      <td>SH.DTH.IMRT</td>\n",
       "      <td>Brazil</td>\n",
       "      <td>BRA</td>\n",
       "      <td>2002.0</td>\n",
       "      <td>91128.0</td>\n",
       "      <td>0.185159</td>\n",
       "    </tr>\n",
       "    <tr>\n",
       "      <th>46450</th>\n",
       "      <td>Number of infant deaths</td>\n",
       "      <td>SH.DTH.IMRT</td>\n",
       "      <td>Brazil</td>\n",
       "      <td>BRA</td>\n",
       "      <td>2003.0</td>\n",
       "      <td>83856.0</td>\n",
       "      <td>0.160712</td>\n",
       "    </tr>\n",
       "    <tr>\n",
       "      <th>47840</th>\n",
       "      <td>Number of infant deaths</td>\n",
       "      <td>SH.DTH.IMRT</td>\n",
       "      <td>Brazil</td>\n",
       "      <td>BRA</td>\n",
       "      <td>2004.0</td>\n",
       "      <td>77108.0</td>\n",
       "      <td>0.138026</td>\n",
       "    </tr>\n",
       "    <tr>\n",
       "      <th>49230</th>\n",
       "      <td>Number of infant deaths</td>\n",
       "      <td>SH.DTH.IMRT</td>\n",
       "      <td>Brazil</td>\n",
       "      <td>BRA</td>\n",
       "      <td>2005.0</td>\n",
       "      <td>70865.0</td>\n",
       "      <td>0.117038</td>\n",
       "    </tr>\n",
       "    <tr>\n",
       "      <th>50620</th>\n",
       "      <td>Number of infant deaths</td>\n",
       "      <td>SH.DTH.IMRT</td>\n",
       "      <td>Brazil</td>\n",
       "      <td>BRA</td>\n",
       "      <td>2006.0</td>\n",
       "      <td>65301.0</td>\n",
       "      <td>0.098333</td>\n",
       "    </tr>\n",
       "    <tr>\n",
       "      <th>52010</th>\n",
       "      <td>Number of infant deaths</td>\n",
       "      <td>SH.DTH.IMRT</td>\n",
       "      <td>Brazil</td>\n",
       "      <td>BRA</td>\n",
       "      <td>2007.0</td>\n",
       "      <td>60508.0</td>\n",
       "      <td>0.082220</td>\n",
       "    </tr>\n",
       "    <tr>\n",
       "      <th>53400</th>\n",
       "      <td>Number of infant deaths</td>\n",
       "      <td>SH.DTH.IMRT</td>\n",
       "      <td>Brazil</td>\n",
       "      <td>BRA</td>\n",
       "      <td>2008.0</td>\n",
       "      <td>56385.0</td>\n",
       "      <td>0.068359</td>\n",
       "    </tr>\n",
       "    <tr>\n",
       "      <th>54790</th>\n",
       "      <td>Number of infant deaths</td>\n",
       "      <td>SH.DTH.IMRT</td>\n",
       "      <td>Brazil</td>\n",
       "      <td>BRA</td>\n",
       "      <td>2009.0</td>\n",
       "      <td>52965.0</td>\n",
       "      <td>0.056862</td>\n",
       "    </tr>\n",
       "    <tr>\n",
       "      <th>56180</th>\n",
       "      <td>Number of infant deaths</td>\n",
       "      <td>SH.DTH.IMRT</td>\n",
       "      <td>Brazil</td>\n",
       "      <td>BRA</td>\n",
       "      <td>2010.0</td>\n",
       "      <td>50136.0</td>\n",
       "      <td>0.047351</td>\n",
       "    </tr>\n",
       "    <tr>\n",
       "      <th>57570</th>\n",
       "      <td>Number of infant deaths</td>\n",
       "      <td>SH.DTH.IMRT</td>\n",
       "      <td>Brazil</td>\n",
       "      <td>BRA</td>\n",
       "      <td>2011.0</td>\n",
       "      <td>47812.0</td>\n",
       "      <td>0.039538</td>\n",
       "    </tr>\n",
       "    <tr>\n",
       "      <th>58960</th>\n",
       "      <td>Number of infant deaths</td>\n",
       "      <td>SH.DTH.IMRT</td>\n",
       "      <td>Brazil</td>\n",
       "      <td>BRA</td>\n",
       "      <td>2012.0</td>\n",
       "      <td>45903.0</td>\n",
       "      <td>0.033121</td>\n",
       "    </tr>\n",
       "    <tr>\n",
       "      <th>60350</th>\n",
       "      <td>Number of infant deaths</td>\n",
       "      <td>SH.DTH.IMRT</td>\n",
       "      <td>Brazil</td>\n",
       "      <td>BRA</td>\n",
       "      <td>2013.0</td>\n",
       "      <td>44302.0</td>\n",
       "      <td>0.027738</td>\n",
       "    </tr>\n",
       "    <tr>\n",
       "      <th>61740</th>\n",
       "      <td>Number of infant deaths</td>\n",
       "      <td>SH.DTH.IMRT</td>\n",
       "      <td>Brazil</td>\n",
       "      <td>BRA</td>\n",
       "      <td>2014.0</td>\n",
       "      <td>42878.0</td>\n",
       "      <td>0.022951</td>\n",
       "    </tr>\n",
       "    <tr>\n",
       "      <th>63130</th>\n",
       "      <td>Number of infant deaths</td>\n",
       "      <td>SH.DTH.IMRT</td>\n",
       "      <td>Brazil</td>\n",
       "      <td>BRA</td>\n",
       "      <td>2015.0</td>\n",
       "      <td>41527.0</td>\n",
       "      <td>0.018409</td>\n",
       "    </tr>\n",
       "    <tr>\n",
       "      <th>64520</th>\n",
       "      <td>Number of infant deaths</td>\n",
       "      <td>SH.DTH.IMRT</td>\n",
       "      <td>Brazil</td>\n",
       "      <td>BRA</td>\n",
       "      <td>2016.0</td>\n",
       "      <td>43107.0</td>\n",
       "      <td>0.023721</td>\n",
       "    </tr>\n",
       "    <tr>\n",
       "      <th>65910</th>\n",
       "      <td>Number of infant deaths</td>\n",
       "      <td>SH.DTH.IMRT</td>\n",
       "      <td>Brazil</td>\n",
       "      <td>BRA</td>\n",
       "      <td>2017.0</td>\n",
       "      <td>38835.0</td>\n",
       "      <td>0.009359</td>\n",
       "    </tr>\n",
       "    <tr>\n",
       "      <th>67300</th>\n",
       "      <td>Number of infant deaths</td>\n",
       "      <td>SH.DTH.IMRT</td>\n",
       "      <td>Brazil</td>\n",
       "      <td>BRA</td>\n",
       "      <td>2018.0</td>\n",
       "      <td>37438.0</td>\n",
       "      <td>0.004663</td>\n",
       "    </tr>\n",
       "    <tr>\n",
       "      <th>68690</th>\n",
       "      <td>Number of infant deaths</td>\n",
       "      <td>SH.DTH.IMRT</td>\n",
       "      <td>Brazil</td>\n",
       "      <td>BRA</td>\n",
       "      <td>2019.0</td>\n",
       "      <td>36051.0</td>\n",
       "      <td>0.000000</td>\n",
       "    </tr>\n",
       "  </tbody>\n",
       "</table>\n",
       "</div>"
      ]
     },
     "metadata": {},
     "execution_count": 29
    }
   ],
   "metadata": {}
  },
  {
   "cell_type": "code",
   "execution_count": null,
   "source": [],
   "outputs": [],
   "metadata": {}
  }
 ],
 "metadata": {
  "orig_nbformat": 4,
  "language_info": {
   "name": "python",
   "version": "3.9.4",
   "mimetype": "text/x-python",
   "codemirror_mode": {
    "name": "ipython",
    "version": 3
   },
   "pygments_lexer": "ipython3",
   "nbconvert_exporter": "python",
   "file_extension": ".py"
  },
  "kernelspec": {
   "name": "python3",
   "display_name": "Python 3.9.4 64-bit ('dev': conda)"
  },
  "interpreter": {
   "hash": "73ba0934a819d0225009db724ab5a86de3918dffb4a6db1c4e1870b848ff81da"
  }
 },
 "nbformat": 4,
 "nbformat_minor": 2
}